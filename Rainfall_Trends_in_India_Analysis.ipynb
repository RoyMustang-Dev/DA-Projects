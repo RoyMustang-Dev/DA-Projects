{
 "cells": [
  {
   "cell_type": "markdown",
   "id": "2a0668ec",
   "metadata": {},
   "source": [
    "# Rainfall Trends in India Analysis:\n",
    "\n",
    "Rainfall is a critical element of India’s climate system, which impacts agriculture, water resources, and the overall economy. Understanding rainfall patterns over time is essential for effective planning in sectors like agriculture, disaster management, and urban water supply.\n",
    "\n",
    "In this analysis, we aim to uncover long-term trends, seasonal patterns, and anomalies in India’s rainfall data. We will examine historical rainfall trends, detect years with extreme or deficient rainfall, explore relationships between seasonal and annual rainfall, and forecast future rainfall using time series models.\n",
    "\n",
    "For this analysis, we rely on a dataset containing monthly, seasonal, and annual rainfall measurements spanning over a century. I found an ideal dataset for this task, which includes monthly rainfall values, seasonal aggregations (e.g., monsoon rainfall), and annual totals, all of which are essential for understanding variability, detecting anomalies, and predicting future trends. \n",
    "\n",
    "You can download the dataset from [here!](https://statso.io/wp-content/uploads/2024/11/rainfall_area-wt_India_1901-2015.csv)."
   ]
  },
  {
   "cell_type": "markdown",
   "id": "d0865e78",
   "metadata": {},
   "source": [
    "Now, we will begin by loading and exploring the dataset, which contains rainfall data for India from 1901 to 2015. Each record provides monthly, seasonal, and annual rainfall measurements. This data is critical for understanding long-term trends, seasonal variations, and extreme weather events:"
   ]
  },
  {
   "cell_type": "code",
   "execution_count": 17,
   "id": "75cb41e0",
   "metadata": {},
   "outputs": [],
   "source": [
    "import pandas as pd\n",
    "import plotly.graph_objects as go\n",
    "import plotly.express as px\n",
    "\n",
    "from scipy.stats import pearsonr\n",
    "\n",
    "from sklearn.ensemble import IsolationForest\n",
    "\n",
    "from sklearn.cluster import KMeans\n",
    "from sklearn.preprocessing import StandardScaler"
   ]
  },
  {
   "cell_type": "code",
   "execution_count": 3,
   "id": "96bcb59d",
   "metadata": {},
   "outputs": [
    {
     "name": "stdout",
     "output_type": "stream",
     "text": [
      "  REGION  YEAR   JAN   FEB   MAR   APR   MAY    JUN    JUL    AUG    SEP  \\\n",
      "0  INDIA  1901  34.7  37.7  18.0  39.3  50.8  113.4  242.2  272.9  124.4   \n",
      "1  INDIA  1902   7.4   4.3  19.0  43.5  48.3  108.8  284.0  199.7  201.5   \n",
      "2  INDIA  1903  17.0   8.3  31.3  17.1  59.5  118.3  297.0  270.4  199.1   \n",
      "3  INDIA  1904  14.4   9.6  31.8  33.1  72.4  164.8  261.0  206.4  129.6   \n",
      "4  INDIA  1905  25.3  20.9  42.7  33.7  55.7   93.3  252.8  200.8  178.4   \n",
      "\n",
      "     OCT   NOV   DEC  ANNUAL  Jan-Feb  Mar-May  Jun-Sep  Oct-Dec  \n",
      "0   52.7  38.0   8.3  1032.3     72.4    108.1    752.8     99.0  \n",
      "1   61.5  27.9  24.4  1030.2     11.7    110.8    794.0    113.8  \n",
      "2  117.9  36.9  17.7  1190.5     25.3    107.9    884.8    172.5  \n",
      "3   69.0  11.2  16.3  1019.8     24.0    137.4    761.8     96.6  \n",
      "4   51.4   9.7  10.5   975.3     46.2    132.2    725.4     71.6  \n"
     ]
    }
   ],
   "source": [
    "rainfall_data = pd.read_csv(\"datasets/rainfall_area-wt_India_1901-2015.csv\")\n",
    "\n",
    "print(rainfall_data.head())"
   ]
  },
  {
   "cell_type": "markdown",
   "id": "8354adfa",
   "metadata": {},
   "source": [
    "## Analyzing Annual Rainfall Trends Over Time\n",
    "\n",
    "To understand the broader trends, we will plot three plots:\n",
    "\n",
    "We will plot annual rainfall over time and compare it with the overall mean. This helps identify whether there is a noticeable long-term trend, such as an increase or decrease in rainfall over the years.\n",
    "We will calculate the average rainfall for each month across all years. And by plotting a bar chart, we can identify the months with the highest and lowest average rainfall.\n",
    "Next, we will analyze seasonal rainfall by aggregating rainfall data into four seasons: `Jan-Feb`, `Mar-May`, `Jun-Sep (Monsoon)`, and `Oct-Dec`.\n",
    "\n",
    "Let’s visualize these plots to get started with rainfall trends in India analysis:"
   ]
  },
  {
   "cell_type": "code",
   "execution_count": 4,
   "id": "d77fd2ea",
   "metadata": {},
   "outputs": [
    {
     "data": {
      "application/vnd.plotly.v1+json": {
       "config": {
        "plotlyServerURL": "https://plot.ly"
       },
       "data": [
        {
         "line": {
          "color": "blue",
          "width": 2
         },
         "mode": "lines",
         "name": "Annual Rainfall",
         "opacity": 0.7,
         "type": "scatter",
         "x": {
          "bdata": "bQduB28HcAdxB3IHcwd0B3UHdgd3B3gHeQd6B3sHfAd9B34HfweAB4EHggeDB4QHhQeGB4cHiAeJB4oHiweMB40HjgePB5AHkQeSB5MHlAeVB5YHlweYB5kHmgebB5wHnQeeB58HoAehB6IHowekB6UHpgenB6gHqQeqB6sHrAetB64HrwewB7EHsgezB7QHtQe2B7cHuAe5B7oHuwe8B70Hvge/B8AHwQfCB8MHxAfFB8YHxwfIB8kHygfLB8wHzQfOB88H0AfRB9IH0wfUB9UH1gfXB9gH2QfaB9sH3AfdB94H3wc=",
          "dtype": "i2"
         },
         "y": {
          "bdata": "MzMzMzMhkEDNzMzMzBiQQAAAAAAAmpJAZmZmZmbej0BmZmZmZnqOQGZmZmZm4JFAzczMzMw+kEBmZmZmZiKRQGZmZmZmGJJAMzMzMzPBkkAAAAAAAF6QQGZmZmZm2JBAmpmZmZmzkEAzMzMzM/mSQM3MzMzMxJFAZmZmZmbklEAzMzMzMyGXQM3MzMzMCJBAmpmZmZlzlECamZmZmV+QQM3MzMzMYJNAmpmZmZnvkkAzMzMzM2GSQDMzMzMz0ZNAmpmZmZnpkkAzMzMzM3uTQGZmZmZmupNAmpmZmZkJk0AAAAAAAOKSQJqZmZmZ5ZJAZmZmZmaKlECamZmZmQuTQAAAAAAAxpVAZmZmZmYuk0CamZmZmd2RQM3MzMzM9pRAZmZmZmYIk0DNzMzMzGqUQJqZmZmZl5FAZmZmZmb6kkCamZmZmeOQQM3MzMzMMpRAZmZmZmYIlEBmZmZmZpyUQDMzMzMzJ5NAZmZmZmbSlEBmZmZmZlKTQJqZmZmZ95RAmpmZmZnhk0AAAAAAAFKSQDMzMzMzlZBAzczMzMxQkUCamZmZmRuTQDMzMzMzcZJAMzMzMzNJlEDNzMzMzKiVQM3MzMzMaJJAAAAAAADMlEBmZmZmZpiVQAAAAAAA9JFAAAAAAADslUCamZmZmbGSQM3MzMzM6JJAZmZmZmZMk0AzMzMzM1ONQAAAAAAAoJBAMzMzMzPxkUDNzMzMzHiQQM3MzMzM7pFAAAAAAAB8k0AAAAAAAAiTQAAAAAAApI1AAAAAAAD4kkDNzMzMzE6QQM3MzMzMKJRAMzMzMzOTkUCamZmZmdmTQDMzMzMzXZNAMzMzMzP7j0AAAAAAAJaSQGZmZmZmTpJAMzMzMzP7kEAAAAAAAM6UQJqZmZmZD5JAAAAAAADQkUBmZmZmZpqRQJqZmZmZ25BAAAAAAAAclUCamZmZmYmRQGZmZmZm4pVAmpmZmZkfkkAzMzMzM4WRQJqZmZmZx5JAZmZmZmY+lEBmZmZmZm6TQDMzMzMzd5JAmpmZmZlNkkAAAAAAAG6TQAAAAAAAsJFAmpmZmZlpkEAzMzMzM+2QQGZmZmZmxoxAAAAAAABakkAzMzMzM72QQAAAAAAAQpNAmpmZmZm9kkBmZmZmZv6SQGZmZmZmsJFAZmZmZmb6jUAAAAAAAMKSQGZmZmZmWJFAAAAAAADGkEDNzMzMzACTQM3MzMzMJpBAzczMzMwUkUA=",
          "dtype": "f8"
         }
        },
        {
         "line": {
          "color": "red",
          "dash": "dash"
         },
         "mode": "lines",
         "name": "Mean Rainfall",
         "type": "scatter",
         "x": {
          "bdata": "bQduB28HcAdxB3IHcwd0B3UHdgd3B3gHeQd6B3sHfAd9B34HfweAB4EHggeDB4QHhQeGB4cHiAeJB4oHiweMB40HjgePB5AHkQeSB5MHlAeVB5YHlweYB5kHmgebB5wHnQeeB58HoAehB6IHowekB6UHpgenB6gHqQeqB6sHrAetB64HrwewB7EHsgezB7QHtQe2B7cHuAe5B7oHuwe8B70Hvge/B8AHwQfCB8MHxAfFB8YHxwfIB8kHygfLB8wHzQfOB88H0AfRB9IH0wfUB9UH1gfXB9gH2QfaB9sH3AfdB94H3wc=",
          "dtype": "i2"
         },
         "y": [
          1182.0347826086959,
          1182.0347826086959,
          1182.0347826086959,
          1182.0347826086959,
          1182.0347826086959,
          1182.0347826086959,
          1182.0347826086959,
          1182.0347826086959,
          1182.0347826086959,
          1182.0347826086959,
          1182.0347826086959,
          1182.0347826086959,
          1182.0347826086959,
          1182.0347826086959,
          1182.0347826086959,
          1182.0347826086959,
          1182.0347826086959,
          1182.0347826086959,
          1182.0347826086959,
          1182.0347826086959,
          1182.0347826086959,
          1182.0347826086959,
          1182.0347826086959,
          1182.0347826086959,
          1182.0347826086959,
          1182.0347826086959,
          1182.0347826086959,
          1182.0347826086959,
          1182.0347826086959,
          1182.0347826086959,
          1182.0347826086959,
          1182.0347826086959,
          1182.0347826086959,
          1182.0347826086959,
          1182.0347826086959,
          1182.0347826086959,
          1182.0347826086959,
          1182.0347826086959,
          1182.0347826086959,
          1182.0347826086959,
          1182.0347826086959,
          1182.0347826086959,
          1182.0347826086959,
          1182.0347826086959,
          1182.0347826086959,
          1182.0347826086959,
          1182.0347826086959,
          1182.0347826086959,
          1182.0347826086959,
          1182.0347826086959,
          1182.0347826086959,
          1182.0347826086959,
          1182.0347826086959,
          1182.0347826086959,
          1182.0347826086959,
          1182.0347826086959,
          1182.0347826086959,
          1182.0347826086959,
          1182.0347826086959,
          1182.0347826086959,
          1182.0347826086959,
          1182.0347826086959,
          1182.0347826086959,
          1182.0347826086959,
          1182.0347826086959,
          1182.0347826086959,
          1182.0347826086959,
          1182.0347826086959,
          1182.0347826086959,
          1182.0347826086959,
          1182.0347826086959,
          1182.0347826086959,
          1182.0347826086959,
          1182.0347826086959,
          1182.0347826086959,
          1182.0347826086959,
          1182.0347826086959,
          1182.0347826086959,
          1182.0347826086959,
          1182.0347826086959,
          1182.0347826086959,
          1182.0347826086959,
          1182.0347826086959,
          1182.0347826086959,
          1182.0347826086959,
          1182.0347826086959,
          1182.0347826086959,
          1182.0347826086959,
          1182.0347826086959,
          1182.0347826086959,
          1182.0347826086959,
          1182.0347826086959,
          1182.0347826086959,
          1182.0347826086959,
          1182.0347826086959,
          1182.0347826086959,
          1182.0347826086959,
          1182.0347826086959,
          1182.0347826086959,
          1182.0347826086959,
          1182.0347826086959,
          1182.0347826086959,
          1182.0347826086959,
          1182.0347826086959,
          1182.0347826086959,
          1182.0347826086959,
          1182.0347826086959,
          1182.0347826086959,
          1182.0347826086959,
          1182.0347826086959,
          1182.0347826086959,
          1182.0347826086959,
          1182.0347826086959,
          1182.0347826086959,
          1182.0347826086959
         ]
        }
       ],
       "layout": {
        "height": 500,
        "legend": {
         "title": {
          "text": "Legend"
         }
        },
        "template": {
         "data": {
          "bar": [
           {
            "error_x": {
             "color": "#2a3f5f"
            },
            "error_y": {
             "color": "#2a3f5f"
            },
            "marker": {
             "line": {
              "color": "white",
              "width": 0.5
             },
             "pattern": {
              "fillmode": "overlay",
              "size": 10,
              "solidity": 0.2
             }
            },
            "type": "bar"
           }
          ],
          "barpolar": [
           {
            "marker": {
             "line": {
              "color": "white",
              "width": 0.5
             },
             "pattern": {
              "fillmode": "overlay",
              "size": 10,
              "solidity": 0.2
             }
            },
            "type": "barpolar"
           }
          ],
          "carpet": [
           {
            "aaxis": {
             "endlinecolor": "#2a3f5f",
             "gridcolor": "#C8D4E3",
             "linecolor": "#C8D4E3",
             "minorgridcolor": "#C8D4E3",
             "startlinecolor": "#2a3f5f"
            },
            "baxis": {
             "endlinecolor": "#2a3f5f",
             "gridcolor": "#C8D4E3",
             "linecolor": "#C8D4E3",
             "minorgridcolor": "#C8D4E3",
             "startlinecolor": "#2a3f5f"
            },
            "type": "carpet"
           }
          ],
          "choropleth": [
           {
            "colorbar": {
             "outlinewidth": 0,
             "ticks": ""
            },
            "type": "choropleth"
           }
          ],
          "contour": [
           {
            "colorbar": {
             "outlinewidth": 0,
             "ticks": ""
            },
            "colorscale": [
             [
              0,
              "#0d0887"
             ],
             [
              0.1111111111111111,
              "#46039f"
             ],
             [
              0.2222222222222222,
              "#7201a8"
             ],
             [
              0.3333333333333333,
              "#9c179e"
             ],
             [
              0.4444444444444444,
              "#bd3786"
             ],
             [
              0.5555555555555556,
              "#d8576b"
             ],
             [
              0.6666666666666666,
              "#ed7953"
             ],
             [
              0.7777777777777778,
              "#fb9f3a"
             ],
             [
              0.8888888888888888,
              "#fdca26"
             ],
             [
              1,
              "#f0f921"
             ]
            ],
            "type": "contour"
           }
          ],
          "contourcarpet": [
           {
            "colorbar": {
             "outlinewidth": 0,
             "ticks": ""
            },
            "type": "contourcarpet"
           }
          ],
          "heatmap": [
           {
            "colorbar": {
             "outlinewidth": 0,
             "ticks": ""
            },
            "colorscale": [
             [
              0,
              "#0d0887"
             ],
             [
              0.1111111111111111,
              "#46039f"
             ],
             [
              0.2222222222222222,
              "#7201a8"
             ],
             [
              0.3333333333333333,
              "#9c179e"
             ],
             [
              0.4444444444444444,
              "#bd3786"
             ],
             [
              0.5555555555555556,
              "#d8576b"
             ],
             [
              0.6666666666666666,
              "#ed7953"
             ],
             [
              0.7777777777777778,
              "#fb9f3a"
             ],
             [
              0.8888888888888888,
              "#fdca26"
             ],
             [
              1,
              "#f0f921"
             ]
            ],
            "type": "heatmap"
           }
          ],
          "histogram": [
           {
            "marker": {
             "pattern": {
              "fillmode": "overlay",
              "size": 10,
              "solidity": 0.2
             }
            },
            "type": "histogram"
           }
          ],
          "histogram2d": [
           {
            "colorbar": {
             "outlinewidth": 0,
             "ticks": ""
            },
            "colorscale": [
             [
              0,
              "#0d0887"
             ],
             [
              0.1111111111111111,
              "#46039f"
             ],
             [
              0.2222222222222222,
              "#7201a8"
             ],
             [
              0.3333333333333333,
              "#9c179e"
             ],
             [
              0.4444444444444444,
              "#bd3786"
             ],
             [
              0.5555555555555556,
              "#d8576b"
             ],
             [
              0.6666666666666666,
              "#ed7953"
             ],
             [
              0.7777777777777778,
              "#fb9f3a"
             ],
             [
              0.8888888888888888,
              "#fdca26"
             ],
             [
              1,
              "#f0f921"
             ]
            ],
            "type": "histogram2d"
           }
          ],
          "histogram2dcontour": [
           {
            "colorbar": {
             "outlinewidth": 0,
             "ticks": ""
            },
            "colorscale": [
             [
              0,
              "#0d0887"
             ],
             [
              0.1111111111111111,
              "#46039f"
             ],
             [
              0.2222222222222222,
              "#7201a8"
             ],
             [
              0.3333333333333333,
              "#9c179e"
             ],
             [
              0.4444444444444444,
              "#bd3786"
             ],
             [
              0.5555555555555556,
              "#d8576b"
             ],
             [
              0.6666666666666666,
              "#ed7953"
             ],
             [
              0.7777777777777778,
              "#fb9f3a"
             ],
             [
              0.8888888888888888,
              "#fdca26"
             ],
             [
              1,
              "#f0f921"
             ]
            ],
            "type": "histogram2dcontour"
           }
          ],
          "mesh3d": [
           {
            "colorbar": {
             "outlinewidth": 0,
             "ticks": ""
            },
            "type": "mesh3d"
           }
          ],
          "parcoords": [
           {
            "line": {
             "colorbar": {
              "outlinewidth": 0,
              "ticks": ""
             }
            },
            "type": "parcoords"
           }
          ],
          "pie": [
           {
            "automargin": true,
            "type": "pie"
           }
          ],
          "scatter": [
           {
            "fillpattern": {
             "fillmode": "overlay",
             "size": 10,
             "solidity": 0.2
            },
            "type": "scatter"
           }
          ],
          "scatter3d": [
           {
            "line": {
             "colorbar": {
              "outlinewidth": 0,
              "ticks": ""
             }
            },
            "marker": {
             "colorbar": {
              "outlinewidth": 0,
              "ticks": ""
             }
            },
            "type": "scatter3d"
           }
          ],
          "scattercarpet": [
           {
            "marker": {
             "colorbar": {
              "outlinewidth": 0,
              "ticks": ""
             }
            },
            "type": "scattercarpet"
           }
          ],
          "scattergeo": [
           {
            "marker": {
             "colorbar": {
              "outlinewidth": 0,
              "ticks": ""
             }
            },
            "type": "scattergeo"
           }
          ],
          "scattergl": [
           {
            "marker": {
             "colorbar": {
              "outlinewidth": 0,
              "ticks": ""
             }
            },
            "type": "scattergl"
           }
          ],
          "scattermap": [
           {
            "marker": {
             "colorbar": {
              "outlinewidth": 0,
              "ticks": ""
             }
            },
            "type": "scattermap"
           }
          ],
          "scattermapbox": [
           {
            "marker": {
             "colorbar": {
              "outlinewidth": 0,
              "ticks": ""
             }
            },
            "type": "scattermapbox"
           }
          ],
          "scatterpolar": [
           {
            "marker": {
             "colorbar": {
              "outlinewidth": 0,
              "ticks": ""
             }
            },
            "type": "scatterpolar"
           }
          ],
          "scatterpolargl": [
           {
            "marker": {
             "colorbar": {
              "outlinewidth": 0,
              "ticks": ""
             }
            },
            "type": "scatterpolargl"
           }
          ],
          "scatterternary": [
           {
            "marker": {
             "colorbar": {
              "outlinewidth": 0,
              "ticks": ""
             }
            },
            "type": "scatterternary"
           }
          ],
          "surface": [
           {
            "colorbar": {
             "outlinewidth": 0,
             "ticks": ""
            },
            "colorscale": [
             [
              0,
              "#0d0887"
             ],
             [
              0.1111111111111111,
              "#46039f"
             ],
             [
              0.2222222222222222,
              "#7201a8"
             ],
             [
              0.3333333333333333,
              "#9c179e"
             ],
             [
              0.4444444444444444,
              "#bd3786"
             ],
             [
              0.5555555555555556,
              "#d8576b"
             ],
             [
              0.6666666666666666,
              "#ed7953"
             ],
             [
              0.7777777777777778,
              "#fb9f3a"
             ],
             [
              0.8888888888888888,
              "#fdca26"
             ],
             [
              1,
              "#f0f921"
             ]
            ],
            "type": "surface"
           }
          ],
          "table": [
           {
            "cells": {
             "fill": {
              "color": "#EBF0F8"
             },
             "line": {
              "color": "white"
             }
            },
            "header": {
             "fill": {
              "color": "#C8D4E3"
             },
             "line": {
              "color": "white"
             }
            },
            "type": "table"
           }
          ]
         },
         "layout": {
          "annotationdefaults": {
           "arrowcolor": "#2a3f5f",
           "arrowhead": 0,
           "arrowwidth": 1
          },
          "autotypenumbers": "strict",
          "coloraxis": {
           "colorbar": {
            "outlinewidth": 0,
            "ticks": ""
           }
          },
          "colorscale": {
           "diverging": [
            [
             0,
             "#8e0152"
            ],
            [
             0.1,
             "#c51b7d"
            ],
            [
             0.2,
             "#de77ae"
            ],
            [
             0.3,
             "#f1b6da"
            ],
            [
             0.4,
             "#fde0ef"
            ],
            [
             0.5,
             "#f7f7f7"
            ],
            [
             0.6,
             "#e6f5d0"
            ],
            [
             0.7,
             "#b8e186"
            ],
            [
             0.8,
             "#7fbc41"
            ],
            [
             0.9,
             "#4d9221"
            ],
            [
             1,
             "#276419"
            ]
           ],
           "sequential": [
            [
             0,
             "#0d0887"
            ],
            [
             0.1111111111111111,
             "#46039f"
            ],
            [
             0.2222222222222222,
             "#7201a8"
            ],
            [
             0.3333333333333333,
             "#9c179e"
            ],
            [
             0.4444444444444444,
             "#bd3786"
            ],
            [
             0.5555555555555556,
             "#d8576b"
            ],
            [
             0.6666666666666666,
             "#ed7953"
            ],
            [
             0.7777777777777778,
             "#fb9f3a"
            ],
            [
             0.8888888888888888,
             "#fdca26"
            ],
            [
             1,
             "#f0f921"
            ]
           ],
           "sequentialminus": [
            [
             0,
             "#0d0887"
            ],
            [
             0.1111111111111111,
             "#46039f"
            ],
            [
             0.2222222222222222,
             "#7201a8"
            ],
            [
             0.3333333333333333,
             "#9c179e"
            ],
            [
             0.4444444444444444,
             "#bd3786"
            ],
            [
             0.5555555555555556,
             "#d8576b"
            ],
            [
             0.6666666666666666,
             "#ed7953"
            ],
            [
             0.7777777777777778,
             "#fb9f3a"
            ],
            [
             0.8888888888888888,
             "#fdca26"
            ],
            [
             1,
             "#f0f921"
            ]
           ]
          },
          "colorway": [
           "#636efa",
           "#EF553B",
           "#00cc96",
           "#ab63fa",
           "#FFA15A",
           "#19d3f3",
           "#FF6692",
           "#B6E880",
           "#FF97FF",
           "#FECB52"
          ],
          "font": {
           "color": "#2a3f5f"
          },
          "geo": {
           "bgcolor": "white",
           "lakecolor": "white",
           "landcolor": "white",
           "showlakes": true,
           "showland": true,
           "subunitcolor": "#C8D4E3"
          },
          "hoverlabel": {
           "align": "left"
          },
          "hovermode": "closest",
          "mapbox": {
           "style": "light"
          },
          "paper_bgcolor": "white",
          "plot_bgcolor": "white",
          "polar": {
           "angularaxis": {
            "gridcolor": "#EBF0F8",
            "linecolor": "#EBF0F8",
            "ticks": ""
           },
           "bgcolor": "white",
           "radialaxis": {
            "gridcolor": "#EBF0F8",
            "linecolor": "#EBF0F8",
            "ticks": ""
           }
          },
          "scene": {
           "xaxis": {
            "backgroundcolor": "white",
            "gridcolor": "#DFE8F3",
            "gridwidth": 2,
            "linecolor": "#EBF0F8",
            "showbackground": true,
            "ticks": "",
            "zerolinecolor": "#EBF0F8"
           },
           "yaxis": {
            "backgroundcolor": "white",
            "gridcolor": "#DFE8F3",
            "gridwidth": 2,
            "linecolor": "#EBF0F8",
            "showbackground": true,
            "ticks": "",
            "zerolinecolor": "#EBF0F8"
           },
           "zaxis": {
            "backgroundcolor": "white",
            "gridcolor": "#DFE8F3",
            "gridwidth": 2,
            "linecolor": "#EBF0F8",
            "showbackground": true,
            "ticks": "",
            "zerolinecolor": "#EBF0F8"
           }
          },
          "shapedefaults": {
           "line": {
            "color": "#2a3f5f"
           }
          },
          "ternary": {
           "aaxis": {
            "gridcolor": "#DFE8F3",
            "linecolor": "#A2B1C6",
            "ticks": ""
           },
           "baxis": {
            "gridcolor": "#DFE8F3",
            "linecolor": "#A2B1C6",
            "ticks": ""
           },
           "bgcolor": "white",
           "caxis": {
            "gridcolor": "#DFE8F3",
            "linecolor": "#A2B1C6",
            "ticks": ""
           }
          },
          "title": {
           "x": 0.05
          },
          "xaxis": {
           "automargin": true,
           "gridcolor": "#EBF0F8",
           "linecolor": "#EBF0F8",
           "ticks": "",
           "title": {
            "standoff": 15
           },
           "zerolinecolor": "#EBF0F8",
           "zerolinewidth": 2
          },
          "yaxis": {
           "automargin": true,
           "gridcolor": "#EBF0F8",
           "linecolor": "#EBF0F8",
           "ticks": "",
           "title": {
            "standoff": 15
           },
           "zerolinecolor": "#EBF0F8",
           "zerolinewidth": 2
          }
         }
        },
        "title": {
         "text": "Trend in Annual Rainfall in India (1901-2015)"
        },
        "xaxis": {
         "title": {
          "text": "Year"
         }
        },
        "yaxis": {
         "title": {
          "text": "Rainfall (mm)"
         }
        }
       }
      }
     },
     "metadata": {},
     "output_type": "display_data"
    }
   ],
   "source": [
    "# analyze trends in annual rainfall over time\n",
    "annual_rainfall = rainfall_data[['YEAR', 'ANNUAL']]\n",
    "\n",
    "fig_annual = go.Figure()\n",
    "fig_annual.add_trace(go.Scatter(\n",
    "    x=annual_rainfall['YEAR'],\n",
    "    y=annual_rainfall['ANNUAL'],\n",
    "    mode='lines',\n",
    "    name='Annual Rainfall',\n",
    "    line=dict(color='blue', width=2),\n",
    "    opacity=0.7\n",
    "))\n",
    "fig_annual.add_trace(go.Scatter(\n",
    "    x=annual_rainfall['YEAR'],\n",
    "    y=[annual_rainfall['ANNUAL'].mean()] * len(annual_rainfall),\n",
    "    mode='lines',\n",
    "    name='Mean Rainfall',\n",
    "    line=dict(color='red', dash='dash')\n",
    "))\n",
    "fig_annual.update_layout(\n",
    "    title='Trend in Annual Rainfall in India (1901-2015)',\n",
    "    xaxis_title='Year',\n",
    "    yaxis_title='Rainfall (mm)',\n",
    "    template='plotly_white',\n",
    "    legend=dict(title=\"Legend\"),\n",
    "    height=500\n",
    ")\n",
    "fig_annual.show()"
   ]
  },
  {
   "cell_type": "markdown",
   "id": "31c704c4",
   "metadata": {},
   "source": [
    "The above graph shows significant year-to-year variability in India’s annual rainfall, with no apparent long-term upward or downward trend over the century. The red dashed line indicates the mean rainfall, around which the annual rainfall oscillates. Notable peaks and troughs highlight extreme rainfall events and dry years."
   ]
  },
  {
   "cell_type": "code",
   "execution_count": 5,
   "id": "514d67ce",
   "metadata": {},
   "outputs": [
    {
     "data": {
      "application/vnd.plotly.v1+json": {
       "config": {
        "plotlyServerURL": "https://plot.ly"
       },
       "data": [
        {
         "hovertemplate": "Month=%{x}<br>Rainfall (mm)=%{y}<br>text=%{text}<extra></extra>",
         "legendgroup": "",
         "marker": {
          "color": "skyblue",
          "line": {
           "color": "black",
           "width": 1
          },
          "pattern": {
           "shape": ""
          }
         },
         "name": "",
         "orientation": "v",
         "showlegend": false,
         "text": {
          "bdata": "I8pGX1bCM0CnN73pTW83QPjv2245QTxAv7DNTvEeQ0DlAIIk0hhPQOxRuB6FC2VA6IbvmlwwckAhiTT2aSZwQO6WEywjj2VAneI9S+nsUkD9OIAgiTQ9QPYoXI/C9S1A",
          "dtype": "f8"
         },
         "textposition": "auto",
         "type": "bar",
         "x": [
          "JAN",
          "FEB",
          "MAR",
          "APR",
          "MAY",
          "JUN",
          "JUL",
          "AUG",
          "SEP",
          "OCT",
          "NOV",
          "DEC"
         ],
         "xaxis": "x",
         "y": {
          "bdata": "I8pGX1bCM0CnN73pTW83QPjv2245QTxAv7DNTvEeQ0DlAIIk0hhPQOxRuB6FC2VA6IbvmlwwckAhiTT2aSZwQO6WEywjj2VAneI9S+nsUkD9OIAgiTQ9QPYoXI/C9S1A",
          "dtype": "f8"
         },
         "yaxis": "y"
        }
       ],
       "layout": {
        "annotations": [
         {
          "showarrow": false,
          "text": "Mean Rainfall",
          "x": 1,
          "xanchor": "right",
          "xref": "x domain",
          "y": 98.50231884057972,
          "yanchor": "bottom",
          "yref": "y"
         }
        ],
        "barmode": "relative",
        "height": 500,
        "legend": {
         "tracegroupgap": 0
        },
        "shapes": [
         {
          "line": {
           "color": "red",
           "dash": "dash"
          },
          "type": "line",
          "x0": 0,
          "x1": 1,
          "xref": "x domain",
          "y0": 98.50231884057972,
          "y1": 98.50231884057972,
          "yref": "y"
         }
        ],
        "template": {
         "data": {
          "bar": [
           {
            "error_x": {
             "color": "#2a3f5f"
            },
            "error_y": {
             "color": "#2a3f5f"
            },
            "marker": {
             "line": {
              "color": "white",
              "width": 0.5
             },
             "pattern": {
              "fillmode": "overlay",
              "size": 10,
              "solidity": 0.2
             }
            },
            "type": "bar"
           }
          ],
          "barpolar": [
           {
            "marker": {
             "line": {
              "color": "white",
              "width": 0.5
             },
             "pattern": {
              "fillmode": "overlay",
              "size": 10,
              "solidity": 0.2
             }
            },
            "type": "barpolar"
           }
          ],
          "carpet": [
           {
            "aaxis": {
             "endlinecolor": "#2a3f5f",
             "gridcolor": "#C8D4E3",
             "linecolor": "#C8D4E3",
             "minorgridcolor": "#C8D4E3",
             "startlinecolor": "#2a3f5f"
            },
            "baxis": {
             "endlinecolor": "#2a3f5f",
             "gridcolor": "#C8D4E3",
             "linecolor": "#C8D4E3",
             "minorgridcolor": "#C8D4E3",
             "startlinecolor": "#2a3f5f"
            },
            "type": "carpet"
           }
          ],
          "choropleth": [
           {
            "colorbar": {
             "outlinewidth": 0,
             "ticks": ""
            },
            "type": "choropleth"
           }
          ],
          "contour": [
           {
            "colorbar": {
             "outlinewidth": 0,
             "ticks": ""
            },
            "colorscale": [
             [
              0,
              "#0d0887"
             ],
             [
              0.1111111111111111,
              "#46039f"
             ],
             [
              0.2222222222222222,
              "#7201a8"
             ],
             [
              0.3333333333333333,
              "#9c179e"
             ],
             [
              0.4444444444444444,
              "#bd3786"
             ],
             [
              0.5555555555555556,
              "#d8576b"
             ],
             [
              0.6666666666666666,
              "#ed7953"
             ],
             [
              0.7777777777777778,
              "#fb9f3a"
             ],
             [
              0.8888888888888888,
              "#fdca26"
             ],
             [
              1,
              "#f0f921"
             ]
            ],
            "type": "contour"
           }
          ],
          "contourcarpet": [
           {
            "colorbar": {
             "outlinewidth": 0,
             "ticks": ""
            },
            "type": "contourcarpet"
           }
          ],
          "heatmap": [
           {
            "colorbar": {
             "outlinewidth": 0,
             "ticks": ""
            },
            "colorscale": [
             [
              0,
              "#0d0887"
             ],
             [
              0.1111111111111111,
              "#46039f"
             ],
             [
              0.2222222222222222,
              "#7201a8"
             ],
             [
              0.3333333333333333,
              "#9c179e"
             ],
             [
              0.4444444444444444,
              "#bd3786"
             ],
             [
              0.5555555555555556,
              "#d8576b"
             ],
             [
              0.6666666666666666,
              "#ed7953"
             ],
             [
              0.7777777777777778,
              "#fb9f3a"
             ],
             [
              0.8888888888888888,
              "#fdca26"
             ],
             [
              1,
              "#f0f921"
             ]
            ],
            "type": "heatmap"
           }
          ],
          "histogram": [
           {
            "marker": {
             "pattern": {
              "fillmode": "overlay",
              "size": 10,
              "solidity": 0.2
             }
            },
            "type": "histogram"
           }
          ],
          "histogram2d": [
           {
            "colorbar": {
             "outlinewidth": 0,
             "ticks": ""
            },
            "colorscale": [
             [
              0,
              "#0d0887"
             ],
             [
              0.1111111111111111,
              "#46039f"
             ],
             [
              0.2222222222222222,
              "#7201a8"
             ],
             [
              0.3333333333333333,
              "#9c179e"
             ],
             [
              0.4444444444444444,
              "#bd3786"
             ],
             [
              0.5555555555555556,
              "#d8576b"
             ],
             [
              0.6666666666666666,
              "#ed7953"
             ],
             [
              0.7777777777777778,
              "#fb9f3a"
             ],
             [
              0.8888888888888888,
              "#fdca26"
             ],
             [
              1,
              "#f0f921"
             ]
            ],
            "type": "histogram2d"
           }
          ],
          "histogram2dcontour": [
           {
            "colorbar": {
             "outlinewidth": 0,
             "ticks": ""
            },
            "colorscale": [
             [
              0,
              "#0d0887"
             ],
             [
              0.1111111111111111,
              "#46039f"
             ],
             [
              0.2222222222222222,
              "#7201a8"
             ],
             [
              0.3333333333333333,
              "#9c179e"
             ],
             [
              0.4444444444444444,
              "#bd3786"
             ],
             [
              0.5555555555555556,
              "#d8576b"
             ],
             [
              0.6666666666666666,
              "#ed7953"
             ],
             [
              0.7777777777777778,
              "#fb9f3a"
             ],
             [
              0.8888888888888888,
              "#fdca26"
             ],
             [
              1,
              "#f0f921"
             ]
            ],
            "type": "histogram2dcontour"
           }
          ],
          "mesh3d": [
           {
            "colorbar": {
             "outlinewidth": 0,
             "ticks": ""
            },
            "type": "mesh3d"
           }
          ],
          "parcoords": [
           {
            "line": {
             "colorbar": {
              "outlinewidth": 0,
              "ticks": ""
             }
            },
            "type": "parcoords"
           }
          ],
          "pie": [
           {
            "automargin": true,
            "type": "pie"
           }
          ],
          "scatter": [
           {
            "fillpattern": {
             "fillmode": "overlay",
             "size": 10,
             "solidity": 0.2
            },
            "type": "scatter"
           }
          ],
          "scatter3d": [
           {
            "line": {
             "colorbar": {
              "outlinewidth": 0,
              "ticks": ""
             }
            },
            "marker": {
             "colorbar": {
              "outlinewidth": 0,
              "ticks": ""
             }
            },
            "type": "scatter3d"
           }
          ],
          "scattercarpet": [
           {
            "marker": {
             "colorbar": {
              "outlinewidth": 0,
              "ticks": ""
             }
            },
            "type": "scattercarpet"
           }
          ],
          "scattergeo": [
           {
            "marker": {
             "colorbar": {
              "outlinewidth": 0,
              "ticks": ""
             }
            },
            "type": "scattergeo"
           }
          ],
          "scattergl": [
           {
            "marker": {
             "colorbar": {
              "outlinewidth": 0,
              "ticks": ""
             }
            },
            "type": "scattergl"
           }
          ],
          "scattermap": [
           {
            "marker": {
             "colorbar": {
              "outlinewidth": 0,
              "ticks": ""
             }
            },
            "type": "scattermap"
           }
          ],
          "scattermapbox": [
           {
            "marker": {
             "colorbar": {
              "outlinewidth": 0,
              "ticks": ""
             }
            },
            "type": "scattermapbox"
           }
          ],
          "scatterpolar": [
           {
            "marker": {
             "colorbar": {
              "outlinewidth": 0,
              "ticks": ""
             }
            },
            "type": "scatterpolar"
           }
          ],
          "scatterpolargl": [
           {
            "marker": {
             "colorbar": {
              "outlinewidth": 0,
              "ticks": ""
             }
            },
            "type": "scatterpolargl"
           }
          ],
          "scatterternary": [
           {
            "marker": {
             "colorbar": {
              "outlinewidth": 0,
              "ticks": ""
             }
            },
            "type": "scatterternary"
           }
          ],
          "surface": [
           {
            "colorbar": {
             "outlinewidth": 0,
             "ticks": ""
            },
            "colorscale": [
             [
              0,
              "#0d0887"
             ],
             [
              0.1111111111111111,
              "#46039f"
             ],
             [
              0.2222222222222222,
              "#7201a8"
             ],
             [
              0.3333333333333333,
              "#9c179e"
             ],
             [
              0.4444444444444444,
              "#bd3786"
             ],
             [
              0.5555555555555556,
              "#d8576b"
             ],
             [
              0.6666666666666666,
              "#ed7953"
             ],
             [
              0.7777777777777778,
              "#fb9f3a"
             ],
             [
              0.8888888888888888,
              "#fdca26"
             ],
             [
              1,
              "#f0f921"
             ]
            ],
            "type": "surface"
           }
          ],
          "table": [
           {
            "cells": {
             "fill": {
              "color": "#EBF0F8"
             },
             "line": {
              "color": "white"
             }
            },
            "header": {
             "fill": {
              "color": "#C8D4E3"
             },
             "line": {
              "color": "white"
             }
            },
            "type": "table"
           }
          ]
         },
         "layout": {
          "annotationdefaults": {
           "arrowcolor": "#2a3f5f",
           "arrowhead": 0,
           "arrowwidth": 1
          },
          "autotypenumbers": "strict",
          "coloraxis": {
           "colorbar": {
            "outlinewidth": 0,
            "ticks": ""
           }
          },
          "colorscale": {
           "diverging": [
            [
             0,
             "#8e0152"
            ],
            [
             0.1,
             "#c51b7d"
            ],
            [
             0.2,
             "#de77ae"
            ],
            [
             0.3,
             "#f1b6da"
            ],
            [
             0.4,
             "#fde0ef"
            ],
            [
             0.5,
             "#f7f7f7"
            ],
            [
             0.6,
             "#e6f5d0"
            ],
            [
             0.7,
             "#b8e186"
            ],
            [
             0.8,
             "#7fbc41"
            ],
            [
             0.9,
             "#4d9221"
            ],
            [
             1,
             "#276419"
            ]
           ],
           "sequential": [
            [
             0,
             "#0d0887"
            ],
            [
             0.1111111111111111,
             "#46039f"
            ],
            [
             0.2222222222222222,
             "#7201a8"
            ],
            [
             0.3333333333333333,
             "#9c179e"
            ],
            [
             0.4444444444444444,
             "#bd3786"
            ],
            [
             0.5555555555555556,
             "#d8576b"
            ],
            [
             0.6666666666666666,
             "#ed7953"
            ],
            [
             0.7777777777777778,
             "#fb9f3a"
            ],
            [
             0.8888888888888888,
             "#fdca26"
            ],
            [
             1,
             "#f0f921"
            ]
           ],
           "sequentialminus": [
            [
             0,
             "#0d0887"
            ],
            [
             0.1111111111111111,
             "#46039f"
            ],
            [
             0.2222222222222222,
             "#7201a8"
            ],
            [
             0.3333333333333333,
             "#9c179e"
            ],
            [
             0.4444444444444444,
             "#bd3786"
            ],
            [
             0.5555555555555556,
             "#d8576b"
            ],
            [
             0.6666666666666666,
             "#ed7953"
            ],
            [
             0.7777777777777778,
             "#fb9f3a"
            ],
            [
             0.8888888888888888,
             "#fdca26"
            ],
            [
             1,
             "#f0f921"
            ]
           ]
          },
          "colorway": [
           "#636efa",
           "#EF553B",
           "#00cc96",
           "#ab63fa",
           "#FFA15A",
           "#19d3f3",
           "#FF6692",
           "#B6E880",
           "#FF97FF",
           "#FECB52"
          ],
          "font": {
           "color": "#2a3f5f"
          },
          "geo": {
           "bgcolor": "white",
           "lakecolor": "white",
           "landcolor": "white",
           "showlakes": true,
           "showland": true,
           "subunitcolor": "#C8D4E3"
          },
          "hoverlabel": {
           "align": "left"
          },
          "hovermode": "closest",
          "mapbox": {
           "style": "light"
          },
          "paper_bgcolor": "white",
          "plot_bgcolor": "white",
          "polar": {
           "angularaxis": {
            "gridcolor": "#EBF0F8",
            "linecolor": "#EBF0F8",
            "ticks": ""
           },
           "bgcolor": "white",
           "radialaxis": {
            "gridcolor": "#EBF0F8",
            "linecolor": "#EBF0F8",
            "ticks": ""
           }
          },
          "scene": {
           "xaxis": {
            "backgroundcolor": "white",
            "gridcolor": "#DFE8F3",
            "gridwidth": 2,
            "linecolor": "#EBF0F8",
            "showbackground": true,
            "ticks": "",
            "zerolinecolor": "#EBF0F8"
           },
           "yaxis": {
            "backgroundcolor": "white",
            "gridcolor": "#DFE8F3",
            "gridwidth": 2,
            "linecolor": "#EBF0F8",
            "showbackground": true,
            "ticks": "",
            "zerolinecolor": "#EBF0F8"
           },
           "zaxis": {
            "backgroundcolor": "white",
            "gridcolor": "#DFE8F3",
            "gridwidth": 2,
            "linecolor": "#EBF0F8",
            "showbackground": true,
            "ticks": "",
            "zerolinecolor": "#EBF0F8"
           }
          },
          "shapedefaults": {
           "line": {
            "color": "#2a3f5f"
           }
          },
          "ternary": {
           "aaxis": {
            "gridcolor": "#DFE8F3",
            "linecolor": "#A2B1C6",
            "ticks": ""
           },
           "baxis": {
            "gridcolor": "#DFE8F3",
            "linecolor": "#A2B1C6",
            "ticks": ""
           },
           "bgcolor": "white",
           "caxis": {
            "gridcolor": "#DFE8F3",
            "linecolor": "#A2B1C6",
            "ticks": ""
           }
          },
          "title": {
           "x": 0.05
          },
          "xaxis": {
           "automargin": true,
           "gridcolor": "#EBF0F8",
           "linecolor": "#EBF0F8",
           "ticks": "",
           "title": {
            "standoff": 15
           },
           "zerolinecolor": "#EBF0F8",
           "zerolinewidth": 2
          },
          "yaxis": {
           "automargin": true,
           "gridcolor": "#EBF0F8",
           "linecolor": "#EBF0F8",
           "ticks": "",
           "title": {
            "standoff": 15
           },
           "zerolinecolor": "#EBF0F8",
           "zerolinewidth": 2
          }
         }
        },
        "title": {
         "text": "Average Monthly Rainfall in India (1901-2015)"
        },
        "xaxis": {
         "anchor": "y",
         "domain": [
          0,
          1
         ],
         "title": {
          "text": "Month"
         }
        },
        "yaxis": {
         "anchor": "x",
         "domain": [
          0,
          1
         ],
         "title": {
          "text": "Rainfall (mm)"
         }
        }
       }
      }
     },
     "metadata": {},
     "output_type": "display_data"
    }
   ],
   "source": [
    "# identify months with the highest and lowest rainfall on average\n",
    "monthly_columns = ['JAN', 'FEB', 'MAR', 'APR', 'MAY', 'JUN', 'JUL', 'AUG', 'SEP', 'OCT', 'NOV', 'DEC']\n",
    "monthly_avg = rainfall_data[monthly_columns].mean()\n",
    "\n",
    "highest_rainfall_month = monthly_avg.idxmax()\n",
    "lowest_rainfall_month = monthly_avg.idxmin()\n",
    "\n",
    "fig_monthly = px.bar(\n",
    "    x=monthly_avg.index,\n",
    "    y=monthly_avg.values,\n",
    "    labels={'x': 'Month', 'y': 'Rainfall (mm)'},\n",
    "    title='Average Monthly Rainfall in India (1901-2015)',\n",
    "    text=monthly_avg.values\n",
    ")\n",
    "fig_monthly.add_hline(\n",
    "    y=monthly_avg.mean(),\n",
    "    line_dash=\"dash\",\n",
    "    line_color=\"red\",\n",
    "    annotation_text=\"Mean Rainfall\",\n",
    "    annotation_position=\"top right\"\n",
    ")\n",
    "fig_monthly.update_traces(marker_color='skyblue', marker_line_color='black', marker_line_width=1)\n",
    "fig_monthly.update_layout(template='plotly_white', height=500)\n",
    "fig_monthly.show()"
   ]
  },
  {
   "cell_type": "markdown",
   "id": "4a399f08",
   "metadata": {},
   "source": [
    "This bar chart illustrates a highly uneven distribution of rainfall across months, with July and August receiving the highest average rainfall. The red dashed line represents the mean monthly rainfall, showing that most months receive rainfall below the average, except during the monsoon months (June to September)."
   ]
  },
  {
   "cell_type": "code",
   "execution_count": 6,
   "id": "83798f10",
   "metadata": {},
   "outputs": [
    {
     "data": {
      "application/vnd.plotly.v1+json": {
       "config": {
        "plotlyServerURL": "https://plot.ly"
       },
       "data": [
        {
         "hovertemplate": "Season=%{x}<br>Rainfall (mm)=%{y}<br>text=%{text}<br>color=%{marker.color}<extra></extra>",
         "legendgroup": "",
         "marker": {
          "color": {
           "bdata": "zpNMrEOYRUCtxbyoOxZgQAxZyEIW0otAcr8uqXz4XUA=",
           "dtype": "f8"
          },
          "coloraxis": "coloraxis",
          "line": {
           "color": "black",
           "width": 1
          },
          "pattern": {
           "shape": ""
          }
         },
         "name": "",
         "orientation": "v",
         "showlegend": false,
         "text": {
          "bdata": "zpNMrEOYRUCtxbyoOxZgQAxZyEIW0otAcr8uqXz4XUA=",
          "dtype": "f8"
         },
         "textposition": "auto",
         "type": "bar",
         "x": [
          "Jan-Feb",
          "Mar-May",
          "Jun-Sep",
          "Oct-Dec"
         ],
         "xaxis": "x",
         "y": {
          "bdata": "zpNMrEOYRUCtxbyoOxZgQAxZyEIW0otAcr8uqXz4XUA=",
          "dtype": "f8"
         },
         "yaxis": "y"
        }
       ],
       "layout": {
        "barmode": "relative",
        "coloraxis": {
         "colorbar": {
          "title": {
           "text": "mm"
          }
         },
         "colorscale": [
          [
           0,
           "gold"
          ],
          [
           0.3333333333333333,
           "skyblue"
          ],
          [
           0.6666666666666666,
           "green"
          ],
          [
           1,
           "orange"
          ]
         ]
        },
        "height": 500,
        "legend": {
         "tracegroupgap": 0
        },
        "template": {
         "data": {
          "bar": [
           {
            "error_x": {
             "color": "#2a3f5f"
            },
            "error_y": {
             "color": "#2a3f5f"
            },
            "marker": {
             "line": {
              "color": "white",
              "width": 0.5
             },
             "pattern": {
              "fillmode": "overlay",
              "size": 10,
              "solidity": 0.2
             }
            },
            "type": "bar"
           }
          ],
          "barpolar": [
           {
            "marker": {
             "line": {
              "color": "white",
              "width": 0.5
             },
             "pattern": {
              "fillmode": "overlay",
              "size": 10,
              "solidity": 0.2
             }
            },
            "type": "barpolar"
           }
          ],
          "carpet": [
           {
            "aaxis": {
             "endlinecolor": "#2a3f5f",
             "gridcolor": "#C8D4E3",
             "linecolor": "#C8D4E3",
             "minorgridcolor": "#C8D4E3",
             "startlinecolor": "#2a3f5f"
            },
            "baxis": {
             "endlinecolor": "#2a3f5f",
             "gridcolor": "#C8D4E3",
             "linecolor": "#C8D4E3",
             "minorgridcolor": "#C8D4E3",
             "startlinecolor": "#2a3f5f"
            },
            "type": "carpet"
           }
          ],
          "choropleth": [
           {
            "colorbar": {
             "outlinewidth": 0,
             "ticks": ""
            },
            "type": "choropleth"
           }
          ],
          "contour": [
           {
            "colorbar": {
             "outlinewidth": 0,
             "ticks": ""
            },
            "colorscale": [
             [
              0,
              "#0d0887"
             ],
             [
              0.1111111111111111,
              "#46039f"
             ],
             [
              0.2222222222222222,
              "#7201a8"
             ],
             [
              0.3333333333333333,
              "#9c179e"
             ],
             [
              0.4444444444444444,
              "#bd3786"
             ],
             [
              0.5555555555555556,
              "#d8576b"
             ],
             [
              0.6666666666666666,
              "#ed7953"
             ],
             [
              0.7777777777777778,
              "#fb9f3a"
             ],
             [
              0.8888888888888888,
              "#fdca26"
             ],
             [
              1,
              "#f0f921"
             ]
            ],
            "type": "contour"
           }
          ],
          "contourcarpet": [
           {
            "colorbar": {
             "outlinewidth": 0,
             "ticks": ""
            },
            "type": "contourcarpet"
           }
          ],
          "heatmap": [
           {
            "colorbar": {
             "outlinewidth": 0,
             "ticks": ""
            },
            "colorscale": [
             [
              0,
              "#0d0887"
             ],
             [
              0.1111111111111111,
              "#46039f"
             ],
             [
              0.2222222222222222,
              "#7201a8"
             ],
             [
              0.3333333333333333,
              "#9c179e"
             ],
             [
              0.4444444444444444,
              "#bd3786"
             ],
             [
              0.5555555555555556,
              "#d8576b"
             ],
             [
              0.6666666666666666,
              "#ed7953"
             ],
             [
              0.7777777777777778,
              "#fb9f3a"
             ],
             [
              0.8888888888888888,
              "#fdca26"
             ],
             [
              1,
              "#f0f921"
             ]
            ],
            "type": "heatmap"
           }
          ],
          "histogram": [
           {
            "marker": {
             "pattern": {
              "fillmode": "overlay",
              "size": 10,
              "solidity": 0.2
             }
            },
            "type": "histogram"
           }
          ],
          "histogram2d": [
           {
            "colorbar": {
             "outlinewidth": 0,
             "ticks": ""
            },
            "colorscale": [
             [
              0,
              "#0d0887"
             ],
             [
              0.1111111111111111,
              "#46039f"
             ],
             [
              0.2222222222222222,
              "#7201a8"
             ],
             [
              0.3333333333333333,
              "#9c179e"
             ],
             [
              0.4444444444444444,
              "#bd3786"
             ],
             [
              0.5555555555555556,
              "#d8576b"
             ],
             [
              0.6666666666666666,
              "#ed7953"
             ],
             [
              0.7777777777777778,
              "#fb9f3a"
             ],
             [
              0.8888888888888888,
              "#fdca26"
             ],
             [
              1,
              "#f0f921"
             ]
            ],
            "type": "histogram2d"
           }
          ],
          "histogram2dcontour": [
           {
            "colorbar": {
             "outlinewidth": 0,
             "ticks": ""
            },
            "colorscale": [
             [
              0,
              "#0d0887"
             ],
             [
              0.1111111111111111,
              "#46039f"
             ],
             [
              0.2222222222222222,
              "#7201a8"
             ],
             [
              0.3333333333333333,
              "#9c179e"
             ],
             [
              0.4444444444444444,
              "#bd3786"
             ],
             [
              0.5555555555555556,
              "#d8576b"
             ],
             [
              0.6666666666666666,
              "#ed7953"
             ],
             [
              0.7777777777777778,
              "#fb9f3a"
             ],
             [
              0.8888888888888888,
              "#fdca26"
             ],
             [
              1,
              "#f0f921"
             ]
            ],
            "type": "histogram2dcontour"
           }
          ],
          "mesh3d": [
           {
            "colorbar": {
             "outlinewidth": 0,
             "ticks": ""
            },
            "type": "mesh3d"
           }
          ],
          "parcoords": [
           {
            "line": {
             "colorbar": {
              "outlinewidth": 0,
              "ticks": ""
             }
            },
            "type": "parcoords"
           }
          ],
          "pie": [
           {
            "automargin": true,
            "type": "pie"
           }
          ],
          "scatter": [
           {
            "fillpattern": {
             "fillmode": "overlay",
             "size": 10,
             "solidity": 0.2
            },
            "type": "scatter"
           }
          ],
          "scatter3d": [
           {
            "line": {
             "colorbar": {
              "outlinewidth": 0,
              "ticks": ""
             }
            },
            "marker": {
             "colorbar": {
              "outlinewidth": 0,
              "ticks": ""
             }
            },
            "type": "scatter3d"
           }
          ],
          "scattercarpet": [
           {
            "marker": {
             "colorbar": {
              "outlinewidth": 0,
              "ticks": ""
             }
            },
            "type": "scattercarpet"
           }
          ],
          "scattergeo": [
           {
            "marker": {
             "colorbar": {
              "outlinewidth": 0,
              "ticks": ""
             }
            },
            "type": "scattergeo"
           }
          ],
          "scattergl": [
           {
            "marker": {
             "colorbar": {
              "outlinewidth": 0,
              "ticks": ""
             }
            },
            "type": "scattergl"
           }
          ],
          "scattermap": [
           {
            "marker": {
             "colorbar": {
              "outlinewidth": 0,
              "ticks": ""
             }
            },
            "type": "scattermap"
           }
          ],
          "scattermapbox": [
           {
            "marker": {
             "colorbar": {
              "outlinewidth": 0,
              "ticks": ""
             }
            },
            "type": "scattermapbox"
           }
          ],
          "scatterpolar": [
           {
            "marker": {
             "colorbar": {
              "outlinewidth": 0,
              "ticks": ""
             }
            },
            "type": "scatterpolar"
           }
          ],
          "scatterpolargl": [
           {
            "marker": {
             "colorbar": {
              "outlinewidth": 0,
              "ticks": ""
             }
            },
            "type": "scatterpolargl"
           }
          ],
          "scatterternary": [
           {
            "marker": {
             "colorbar": {
              "outlinewidth": 0,
              "ticks": ""
             }
            },
            "type": "scatterternary"
           }
          ],
          "surface": [
           {
            "colorbar": {
             "outlinewidth": 0,
             "ticks": ""
            },
            "colorscale": [
             [
              0,
              "#0d0887"
             ],
             [
              0.1111111111111111,
              "#46039f"
             ],
             [
              0.2222222222222222,
              "#7201a8"
             ],
             [
              0.3333333333333333,
              "#9c179e"
             ],
             [
              0.4444444444444444,
              "#bd3786"
             ],
             [
              0.5555555555555556,
              "#d8576b"
             ],
             [
              0.6666666666666666,
              "#ed7953"
             ],
             [
              0.7777777777777778,
              "#fb9f3a"
             ],
             [
              0.8888888888888888,
              "#fdca26"
             ],
             [
              1,
              "#f0f921"
             ]
            ],
            "type": "surface"
           }
          ],
          "table": [
           {
            "cells": {
             "fill": {
              "color": "#EBF0F8"
             },
             "line": {
              "color": "white"
             }
            },
            "header": {
             "fill": {
              "color": "#C8D4E3"
             },
             "line": {
              "color": "white"
             }
            },
            "type": "table"
           }
          ]
         },
         "layout": {
          "annotationdefaults": {
           "arrowcolor": "#2a3f5f",
           "arrowhead": 0,
           "arrowwidth": 1
          },
          "autotypenumbers": "strict",
          "coloraxis": {
           "colorbar": {
            "outlinewidth": 0,
            "ticks": ""
           }
          },
          "colorscale": {
           "diverging": [
            [
             0,
             "#8e0152"
            ],
            [
             0.1,
             "#c51b7d"
            ],
            [
             0.2,
             "#de77ae"
            ],
            [
             0.3,
             "#f1b6da"
            ],
            [
             0.4,
             "#fde0ef"
            ],
            [
             0.5,
             "#f7f7f7"
            ],
            [
             0.6,
             "#e6f5d0"
            ],
            [
             0.7,
             "#b8e186"
            ],
            [
             0.8,
             "#7fbc41"
            ],
            [
             0.9,
             "#4d9221"
            ],
            [
             1,
             "#276419"
            ]
           ],
           "sequential": [
            [
             0,
             "#0d0887"
            ],
            [
             0.1111111111111111,
             "#46039f"
            ],
            [
             0.2222222222222222,
             "#7201a8"
            ],
            [
             0.3333333333333333,
             "#9c179e"
            ],
            [
             0.4444444444444444,
             "#bd3786"
            ],
            [
             0.5555555555555556,
             "#d8576b"
            ],
            [
             0.6666666666666666,
             "#ed7953"
            ],
            [
             0.7777777777777778,
             "#fb9f3a"
            ],
            [
             0.8888888888888888,
             "#fdca26"
            ],
            [
             1,
             "#f0f921"
            ]
           ],
           "sequentialminus": [
            [
             0,
             "#0d0887"
            ],
            [
             0.1111111111111111,
             "#46039f"
            ],
            [
             0.2222222222222222,
             "#7201a8"
            ],
            [
             0.3333333333333333,
             "#9c179e"
            ],
            [
             0.4444444444444444,
             "#bd3786"
            ],
            [
             0.5555555555555556,
             "#d8576b"
            ],
            [
             0.6666666666666666,
             "#ed7953"
            ],
            [
             0.7777777777777778,
             "#fb9f3a"
            ],
            [
             0.8888888888888888,
             "#fdca26"
            ],
            [
             1,
             "#f0f921"
            ]
           ]
          },
          "colorway": [
           "#636efa",
           "#EF553B",
           "#00cc96",
           "#ab63fa",
           "#FFA15A",
           "#19d3f3",
           "#FF6692",
           "#B6E880",
           "#FF97FF",
           "#FECB52"
          ],
          "font": {
           "color": "#2a3f5f"
          },
          "geo": {
           "bgcolor": "white",
           "lakecolor": "white",
           "landcolor": "white",
           "showlakes": true,
           "showland": true,
           "subunitcolor": "#C8D4E3"
          },
          "hoverlabel": {
           "align": "left"
          },
          "hovermode": "closest",
          "mapbox": {
           "style": "light"
          },
          "paper_bgcolor": "white",
          "plot_bgcolor": "white",
          "polar": {
           "angularaxis": {
            "gridcolor": "#EBF0F8",
            "linecolor": "#EBF0F8",
            "ticks": ""
           },
           "bgcolor": "white",
           "radialaxis": {
            "gridcolor": "#EBF0F8",
            "linecolor": "#EBF0F8",
            "ticks": ""
           }
          },
          "scene": {
           "xaxis": {
            "backgroundcolor": "white",
            "gridcolor": "#DFE8F3",
            "gridwidth": 2,
            "linecolor": "#EBF0F8",
            "showbackground": true,
            "ticks": "",
            "zerolinecolor": "#EBF0F8"
           },
           "yaxis": {
            "backgroundcolor": "white",
            "gridcolor": "#DFE8F3",
            "gridwidth": 2,
            "linecolor": "#EBF0F8",
            "showbackground": true,
            "ticks": "",
            "zerolinecolor": "#EBF0F8"
           },
           "zaxis": {
            "backgroundcolor": "white",
            "gridcolor": "#DFE8F3",
            "gridwidth": 2,
            "linecolor": "#EBF0F8",
            "showbackground": true,
            "ticks": "",
            "zerolinecolor": "#EBF0F8"
           }
          },
          "shapedefaults": {
           "line": {
            "color": "#2a3f5f"
           }
          },
          "ternary": {
           "aaxis": {
            "gridcolor": "#DFE8F3",
            "linecolor": "#A2B1C6",
            "ticks": ""
           },
           "baxis": {
            "gridcolor": "#DFE8F3",
            "linecolor": "#A2B1C6",
            "ticks": ""
           },
           "bgcolor": "white",
           "caxis": {
            "gridcolor": "#DFE8F3",
            "linecolor": "#A2B1C6",
            "ticks": ""
           }
          },
          "title": {
           "x": 0.05
          },
          "xaxis": {
           "automargin": true,
           "gridcolor": "#EBF0F8",
           "linecolor": "#EBF0F8",
           "ticks": "",
           "title": {
            "standoff": 15
           },
           "zerolinecolor": "#EBF0F8",
           "zerolinewidth": 2
          },
          "yaxis": {
           "automargin": true,
           "gridcolor": "#EBF0F8",
           "linecolor": "#EBF0F8",
           "ticks": "",
           "title": {
            "standoff": 15
           },
           "zerolinecolor": "#EBF0F8",
           "zerolinewidth": 2
          }
         }
        },
        "title": {
         "text": "Seasonal Rainfall Distribution in India (1901-2015)"
        },
        "xaxis": {
         "anchor": "y",
         "domain": [
          0,
          1
         ],
         "title": {
          "text": "Season"
         }
        },
        "yaxis": {
         "anchor": "x",
         "domain": [
          0,
          1
         ],
         "title": {
          "text": "Rainfall (mm)"
         }
        }
       }
      }
     },
     "metadata": {},
     "output_type": "display_data"
    }
   ],
   "source": [
    "# seasonal rainfall distribution\n",
    "seasonal_columns = ['Jan-Feb', 'Mar-May', 'Jun-Sep', 'Oct-Dec']\n",
    "seasonal_avg = rainfall_data[seasonal_columns].mean()\n",
    "\n",
    "fig_seasonal = px.bar(\n",
    "    x=seasonal_avg.index,\n",
    "    y=seasonal_avg.values,\n",
    "    labels={'x': 'Season', 'y': 'Rainfall (mm)'},\n",
    "    title='Seasonal Rainfall Distribution in India (1901-2015)',\n",
    "    text=seasonal_avg.values,\n",
    "    color=seasonal_avg.values,\n",
    "    color_continuous_scale=['gold', 'skyblue', 'green', 'orange']\n",
    ")\n",
    "\n",
    "fig_seasonal.update_traces(marker_line_color='black', marker_line_width=1)\n",
    "fig_seasonal.update_layout(\n",
    "    template='plotly_white',\n",
    "    height=500,\n",
    "    coloraxis_colorbar=dict(title='mm')\n",
    ")\n",
    "fig_seasonal.update_layout(template='plotly_white', height=500)\n",
    "fig_seasonal.show()"
   ]
  },
  {
   "cell_type": "markdown",
   "id": "b9d74839",
   "metadata": {},
   "source": [
    "The seasonal distribution highlights the dominance of the monsoon season (June to September), which contributes the bulk of annual rainfall (around 890 mm). In contrast, the other seasons (January-February, March-May, and October-December) contribute significantly less to the annual total, which emphasizes the critical role of the monsoon."
   ]
  },
  {
   "cell_type": "markdown",
   "id": "2e1dae8d",
   "metadata": {},
   "source": [
    "## Assessing the Impact of Climate Change in the Rainfall Trends in India\n",
    "\n",
    "Now, we will calculate a 10-year rolling average of annual rainfall to identify long-term trends and smooth out short-term variations. This will help assess the potential impact of climate change on rainfall patterns:"
   ]
  },
  {
   "cell_type": "code",
   "execution_count": 7,
   "id": "9898c524",
   "metadata": {},
   "outputs": [
    {
     "data": {
      "application/vnd.plotly.v1+json": {
       "config": {
        "plotlyServerURL": "https://plot.ly"
       },
       "data": [
        {
         "line": {
          "color": "blue",
          "width": 2
         },
         "mode": "lines",
         "name": "Annual Rainfall",
         "opacity": 0.6,
         "type": "scatter",
         "x": {
          "bdata": "bQduB28HcAdxB3IHcwd0B3UHdgd3B3gHeQd6B3sHfAd9B34HfweAB4EHggeDB4QHhQeGB4cHiAeJB4oHiweMB40HjgePB5AHkQeSB5MHlAeVB5YHlweYB5kHmgebB5wHnQeeB58HoAehB6IHowekB6UHpgenB6gHqQeqB6sHrAetB64HrwewB7EHsgezB7QHtQe2B7cHuAe5B7oHuwe8B70Hvge/B8AHwQfCB8MHxAfFB8YHxwfIB8kHygfLB8wHzQfOB88H0AfRB9IH0wfUB9UH1gfXB9gH2QfaB9sH3AfdB94H3wc=",
          "dtype": "i2"
         },
         "y": {
          "bdata": "MzMzMzMhkEDNzMzMzBiQQAAAAAAAmpJAZmZmZmbej0BmZmZmZnqOQGZmZmZm4JFAzczMzMw+kEBmZmZmZiKRQGZmZmZmGJJAMzMzMzPBkkAAAAAAAF6QQGZmZmZm2JBAmpmZmZmzkEAzMzMzM/mSQM3MzMzMxJFAZmZmZmbklEAzMzMzMyGXQM3MzMzMCJBAmpmZmZlzlECamZmZmV+QQM3MzMzMYJNAmpmZmZnvkkAzMzMzM2GSQDMzMzMz0ZNAmpmZmZnpkkAzMzMzM3uTQGZmZmZmupNAmpmZmZkJk0AAAAAAAOKSQJqZmZmZ5ZJAZmZmZmaKlECamZmZmQuTQAAAAAAAxpVAZmZmZmYuk0CamZmZmd2RQM3MzMzM9pRAZmZmZmYIk0DNzMzMzGqUQJqZmZmZl5FAZmZmZmb6kkCamZmZmeOQQM3MzMzMMpRAZmZmZmYIlEBmZmZmZpyUQDMzMzMzJ5NAZmZmZmbSlEBmZmZmZlKTQJqZmZmZ95RAmpmZmZnhk0AAAAAAAFKSQDMzMzMzlZBAzczMzMxQkUCamZmZmRuTQDMzMzMzcZJAMzMzMzNJlEDNzMzMzKiVQM3MzMzMaJJAAAAAAADMlEBmZmZmZpiVQAAAAAAA9JFAAAAAAADslUCamZmZmbGSQM3MzMzM6JJAZmZmZmZMk0AzMzMzM1ONQAAAAAAAoJBAMzMzMzPxkUDNzMzMzHiQQM3MzMzM7pFAAAAAAAB8k0AAAAAAAAiTQAAAAAAApI1AAAAAAAD4kkDNzMzMzE6QQM3MzMzMKJRAMzMzMzOTkUCamZmZmdmTQDMzMzMzXZNAMzMzMzP7j0AAAAAAAJaSQGZmZmZmTpJAMzMzMzP7kEAAAAAAAM6UQJqZmZmZD5JAAAAAAADQkUBmZmZmZpqRQJqZmZmZ25BAAAAAAAAclUCamZmZmYmRQGZmZmZm4pVAmpmZmZkfkkAzMzMzM4WRQJqZmZmZx5JAZmZmZmY+lEBmZmZmZm6TQDMzMzMzd5JAmpmZmZlNkkAAAAAAAG6TQAAAAAAAsJFAmpmZmZlpkEAzMzMzM+2QQGZmZmZmxoxAAAAAAABakkAzMzMzM72QQAAAAAAAQpNAmpmZmZm9kkBmZmZmZv6SQGZmZmZmsJFAZmZmZmb6jUAAAAAAAMKSQGZmZmZmWJFAAAAAAADGkEDNzMzMzACTQM3MzMzMJpBAzczMzMwUkUA=",
          "dtype": "f8"
         }
        },
        {
         "line": {
          "color": "red",
          "width": 3
         },
         "mode": "lines",
         "name": "10-Year Rolling Avg",
         "type": "scatter",
         "x": {
          "bdata": "bQduB28HcAdxB3IHcwd0B3UHdgd3B3gHeQd6B3sHfAd9B34HfweAB4EHggeDB4QHhQeGB4cHiAeJB4oHiweMB40HjgePB5AHkQeSB5MHlAeVB5YHlweYB5kHmgebB5wHnQeeB58HoAehB6IHowekB6UHpgenB6gHqQeqB6sHrAetB64HrwewB7EHsgezB7QHtQe2B7cHuAe5B7oHuwe8B70Hvge/B8AHwQfCB8MHxAfFB8YHxwfIB8kHygfLB8wHzQfOB88H0AfRB9IH0wfUB9UH1gfXB9gH2QfaB9sH3AfdB94H3wc=",
          "dtype": "i2"
         },
         "y": {
          "bdata": "AAAAAAAA+H8AAAAAAAD4fwAAAAAAAPh/AAAAAAAA+H8AAAAAAAD4fwAAAAAAAPh/AAAAAAAA+H8AAAAAAAD4fwAAAAAAAPh/9ihcj8ICkUCkcD0K1wiRQAAAAAAAHJFAj8L1KFzrkEBcj8L1KDmRQFK4HoXreZFAhutRuB7HkUCPwvUoXHeSQDMzMzMzW5JA61G4HoWXkkDC9Shcj1qSQHE9Ctejp5JAXI/C9SjdkkCF61G4HgiTQB+F61G4HZNAAAAAAAA7k0B7FK5H4RaTQM3MzMzMv5JASOF6FK4Mk0DrUbgeheSSQIbrUbgeJZNAexSuR+FCk0BI4XoUrkWTQMP1KFyPnJNA4noUrkeMk0AVrkfhenGTQD4K16Nwl5NAcT0K16OFk0AqXI/C9aiTQFK4HoXrh5NAAAAAAACKk0DsUbgehSyTQNejcD0KSpNAFK5H4Xodk0CuR+F6FEKTQNajcD0KY5NAZmZmZmZfk0DNzMzMzGaTQHoUrkfhdJNAFa5H4Xqvk0BwPQrXo56TQM3MzMzMlpNAAAAAAABNk0C5HoXrUTWTQM3MzMzM/ZJAzczMzMwak0AK16NwPTCTQHsUrkfhGJNA7FG4HoUUk0BmZmZmZkCTQAAAAAAAN5NASOF6FK6/k0ApXI/C9eKTQHoUrkfh3ZNAzczMzMzzk0CkcD0K12OTQClcj8L14pJAAAAAAADXkkDhehSuR2iSQOtRuB6FCpJAHoXrUbgxkkAehetRuOeRQML1KFyPhJFArkfhehSGkUDrUbgehTmRQArXo3A9xpFAw/UoXI/ekUBmZmZmZg+SQD4K16NwWZJAHoXrUbgnkkAehetRuBCSQFyPwvUo/pFAFK5H4Xo1kkAUrkfhemSSQJDC9ShckZJA4noUrkdVkkAAAAAAAFaSQGZmZmZmCZJArkfhehQ2kkBI4XoUrl2SQIbrUbgespJAPgrXo3CtkkAK16NwPbuSQGZmZmZmh5JA4XoUrke/kkAehetRuOiSQM3MzMzM/pJAzczMzMwjk0DNzMzMzPiSQHE9Ctej/JJAwvUoXI9wkkBSuB6F61GSQB+F61G4AZJA9ihcj8L2kUDXo3A9Cp2RQJqZmZmZmJFAcT0K16OfkUC4HoXrUbGRQPYoXI/ChJFAR+F6FK4/kUAehetRuHuRQD4K16NwhpFA61G4HoXDkUAzMzMzM9SRQFyPwvUoxZFAPgrXo3CNkUA=",
          "dtype": "f8"
         }
        }
       ],
       "layout": {
        "height": 500,
        "legend": {
         "title": {
          "text": "Legend"
         }
        },
        "template": {
         "data": {
          "bar": [
           {
            "error_x": {
             "color": "#2a3f5f"
            },
            "error_y": {
             "color": "#2a3f5f"
            },
            "marker": {
             "line": {
              "color": "white",
              "width": 0.5
             },
             "pattern": {
              "fillmode": "overlay",
              "size": 10,
              "solidity": 0.2
             }
            },
            "type": "bar"
           }
          ],
          "barpolar": [
           {
            "marker": {
             "line": {
              "color": "white",
              "width": 0.5
             },
             "pattern": {
              "fillmode": "overlay",
              "size": 10,
              "solidity": 0.2
             }
            },
            "type": "barpolar"
           }
          ],
          "carpet": [
           {
            "aaxis": {
             "endlinecolor": "#2a3f5f",
             "gridcolor": "#C8D4E3",
             "linecolor": "#C8D4E3",
             "minorgridcolor": "#C8D4E3",
             "startlinecolor": "#2a3f5f"
            },
            "baxis": {
             "endlinecolor": "#2a3f5f",
             "gridcolor": "#C8D4E3",
             "linecolor": "#C8D4E3",
             "minorgridcolor": "#C8D4E3",
             "startlinecolor": "#2a3f5f"
            },
            "type": "carpet"
           }
          ],
          "choropleth": [
           {
            "colorbar": {
             "outlinewidth": 0,
             "ticks": ""
            },
            "type": "choropleth"
           }
          ],
          "contour": [
           {
            "colorbar": {
             "outlinewidth": 0,
             "ticks": ""
            },
            "colorscale": [
             [
              0,
              "#0d0887"
             ],
             [
              0.1111111111111111,
              "#46039f"
             ],
             [
              0.2222222222222222,
              "#7201a8"
             ],
             [
              0.3333333333333333,
              "#9c179e"
             ],
             [
              0.4444444444444444,
              "#bd3786"
             ],
             [
              0.5555555555555556,
              "#d8576b"
             ],
             [
              0.6666666666666666,
              "#ed7953"
             ],
             [
              0.7777777777777778,
              "#fb9f3a"
             ],
             [
              0.8888888888888888,
              "#fdca26"
             ],
             [
              1,
              "#f0f921"
             ]
            ],
            "type": "contour"
           }
          ],
          "contourcarpet": [
           {
            "colorbar": {
             "outlinewidth": 0,
             "ticks": ""
            },
            "type": "contourcarpet"
           }
          ],
          "heatmap": [
           {
            "colorbar": {
             "outlinewidth": 0,
             "ticks": ""
            },
            "colorscale": [
             [
              0,
              "#0d0887"
             ],
             [
              0.1111111111111111,
              "#46039f"
             ],
             [
              0.2222222222222222,
              "#7201a8"
             ],
             [
              0.3333333333333333,
              "#9c179e"
             ],
             [
              0.4444444444444444,
              "#bd3786"
             ],
             [
              0.5555555555555556,
              "#d8576b"
             ],
             [
              0.6666666666666666,
              "#ed7953"
             ],
             [
              0.7777777777777778,
              "#fb9f3a"
             ],
             [
              0.8888888888888888,
              "#fdca26"
             ],
             [
              1,
              "#f0f921"
             ]
            ],
            "type": "heatmap"
           }
          ],
          "histogram": [
           {
            "marker": {
             "pattern": {
              "fillmode": "overlay",
              "size": 10,
              "solidity": 0.2
             }
            },
            "type": "histogram"
           }
          ],
          "histogram2d": [
           {
            "colorbar": {
             "outlinewidth": 0,
             "ticks": ""
            },
            "colorscale": [
             [
              0,
              "#0d0887"
             ],
             [
              0.1111111111111111,
              "#46039f"
             ],
             [
              0.2222222222222222,
              "#7201a8"
             ],
             [
              0.3333333333333333,
              "#9c179e"
             ],
             [
              0.4444444444444444,
              "#bd3786"
             ],
             [
              0.5555555555555556,
              "#d8576b"
             ],
             [
              0.6666666666666666,
              "#ed7953"
             ],
             [
              0.7777777777777778,
              "#fb9f3a"
             ],
             [
              0.8888888888888888,
              "#fdca26"
             ],
             [
              1,
              "#f0f921"
             ]
            ],
            "type": "histogram2d"
           }
          ],
          "histogram2dcontour": [
           {
            "colorbar": {
             "outlinewidth": 0,
             "ticks": ""
            },
            "colorscale": [
             [
              0,
              "#0d0887"
             ],
             [
              0.1111111111111111,
              "#46039f"
             ],
             [
              0.2222222222222222,
              "#7201a8"
             ],
             [
              0.3333333333333333,
              "#9c179e"
             ],
             [
              0.4444444444444444,
              "#bd3786"
             ],
             [
              0.5555555555555556,
              "#d8576b"
             ],
             [
              0.6666666666666666,
              "#ed7953"
             ],
             [
              0.7777777777777778,
              "#fb9f3a"
             ],
             [
              0.8888888888888888,
              "#fdca26"
             ],
             [
              1,
              "#f0f921"
             ]
            ],
            "type": "histogram2dcontour"
           }
          ],
          "mesh3d": [
           {
            "colorbar": {
             "outlinewidth": 0,
             "ticks": ""
            },
            "type": "mesh3d"
           }
          ],
          "parcoords": [
           {
            "line": {
             "colorbar": {
              "outlinewidth": 0,
              "ticks": ""
             }
            },
            "type": "parcoords"
           }
          ],
          "pie": [
           {
            "automargin": true,
            "type": "pie"
           }
          ],
          "scatter": [
           {
            "fillpattern": {
             "fillmode": "overlay",
             "size": 10,
             "solidity": 0.2
            },
            "type": "scatter"
           }
          ],
          "scatter3d": [
           {
            "line": {
             "colorbar": {
              "outlinewidth": 0,
              "ticks": ""
             }
            },
            "marker": {
             "colorbar": {
              "outlinewidth": 0,
              "ticks": ""
             }
            },
            "type": "scatter3d"
           }
          ],
          "scattercarpet": [
           {
            "marker": {
             "colorbar": {
              "outlinewidth": 0,
              "ticks": ""
             }
            },
            "type": "scattercarpet"
           }
          ],
          "scattergeo": [
           {
            "marker": {
             "colorbar": {
              "outlinewidth": 0,
              "ticks": ""
             }
            },
            "type": "scattergeo"
           }
          ],
          "scattergl": [
           {
            "marker": {
             "colorbar": {
              "outlinewidth": 0,
              "ticks": ""
             }
            },
            "type": "scattergl"
           }
          ],
          "scattermap": [
           {
            "marker": {
             "colorbar": {
              "outlinewidth": 0,
              "ticks": ""
             }
            },
            "type": "scattermap"
           }
          ],
          "scattermapbox": [
           {
            "marker": {
             "colorbar": {
              "outlinewidth": 0,
              "ticks": ""
             }
            },
            "type": "scattermapbox"
           }
          ],
          "scatterpolar": [
           {
            "marker": {
             "colorbar": {
              "outlinewidth": 0,
              "ticks": ""
             }
            },
            "type": "scatterpolar"
           }
          ],
          "scatterpolargl": [
           {
            "marker": {
             "colorbar": {
              "outlinewidth": 0,
              "ticks": ""
             }
            },
            "type": "scatterpolargl"
           }
          ],
          "scatterternary": [
           {
            "marker": {
             "colorbar": {
              "outlinewidth": 0,
              "ticks": ""
             }
            },
            "type": "scatterternary"
           }
          ],
          "surface": [
           {
            "colorbar": {
             "outlinewidth": 0,
             "ticks": ""
            },
            "colorscale": [
             [
              0,
              "#0d0887"
             ],
             [
              0.1111111111111111,
              "#46039f"
             ],
             [
              0.2222222222222222,
              "#7201a8"
             ],
             [
              0.3333333333333333,
              "#9c179e"
             ],
             [
              0.4444444444444444,
              "#bd3786"
             ],
             [
              0.5555555555555556,
              "#d8576b"
             ],
             [
              0.6666666666666666,
              "#ed7953"
             ],
             [
              0.7777777777777778,
              "#fb9f3a"
             ],
             [
              0.8888888888888888,
              "#fdca26"
             ],
             [
              1,
              "#f0f921"
             ]
            ],
            "type": "surface"
           }
          ],
          "table": [
           {
            "cells": {
             "fill": {
              "color": "#EBF0F8"
             },
             "line": {
              "color": "white"
             }
            },
            "header": {
             "fill": {
              "color": "#C8D4E3"
             },
             "line": {
              "color": "white"
             }
            },
            "type": "table"
           }
          ]
         },
         "layout": {
          "annotationdefaults": {
           "arrowcolor": "#2a3f5f",
           "arrowhead": 0,
           "arrowwidth": 1
          },
          "autotypenumbers": "strict",
          "coloraxis": {
           "colorbar": {
            "outlinewidth": 0,
            "ticks": ""
           }
          },
          "colorscale": {
           "diverging": [
            [
             0,
             "#8e0152"
            ],
            [
             0.1,
             "#c51b7d"
            ],
            [
             0.2,
             "#de77ae"
            ],
            [
             0.3,
             "#f1b6da"
            ],
            [
             0.4,
             "#fde0ef"
            ],
            [
             0.5,
             "#f7f7f7"
            ],
            [
             0.6,
             "#e6f5d0"
            ],
            [
             0.7,
             "#b8e186"
            ],
            [
             0.8,
             "#7fbc41"
            ],
            [
             0.9,
             "#4d9221"
            ],
            [
             1,
             "#276419"
            ]
           ],
           "sequential": [
            [
             0,
             "#0d0887"
            ],
            [
             0.1111111111111111,
             "#46039f"
            ],
            [
             0.2222222222222222,
             "#7201a8"
            ],
            [
             0.3333333333333333,
             "#9c179e"
            ],
            [
             0.4444444444444444,
             "#bd3786"
            ],
            [
             0.5555555555555556,
             "#d8576b"
            ],
            [
             0.6666666666666666,
             "#ed7953"
            ],
            [
             0.7777777777777778,
             "#fb9f3a"
            ],
            [
             0.8888888888888888,
             "#fdca26"
            ],
            [
             1,
             "#f0f921"
            ]
           ],
           "sequentialminus": [
            [
             0,
             "#0d0887"
            ],
            [
             0.1111111111111111,
             "#46039f"
            ],
            [
             0.2222222222222222,
             "#7201a8"
            ],
            [
             0.3333333333333333,
             "#9c179e"
            ],
            [
             0.4444444444444444,
             "#bd3786"
            ],
            [
             0.5555555555555556,
             "#d8576b"
            ],
            [
             0.6666666666666666,
             "#ed7953"
            ],
            [
             0.7777777777777778,
             "#fb9f3a"
            ],
            [
             0.8888888888888888,
             "#fdca26"
            ],
            [
             1,
             "#f0f921"
            ]
           ]
          },
          "colorway": [
           "#636efa",
           "#EF553B",
           "#00cc96",
           "#ab63fa",
           "#FFA15A",
           "#19d3f3",
           "#FF6692",
           "#B6E880",
           "#FF97FF",
           "#FECB52"
          ],
          "font": {
           "color": "#2a3f5f"
          },
          "geo": {
           "bgcolor": "white",
           "lakecolor": "white",
           "landcolor": "white",
           "showlakes": true,
           "showland": true,
           "subunitcolor": "#C8D4E3"
          },
          "hoverlabel": {
           "align": "left"
          },
          "hovermode": "closest",
          "mapbox": {
           "style": "light"
          },
          "paper_bgcolor": "white",
          "plot_bgcolor": "white",
          "polar": {
           "angularaxis": {
            "gridcolor": "#EBF0F8",
            "linecolor": "#EBF0F8",
            "ticks": ""
           },
           "bgcolor": "white",
           "radialaxis": {
            "gridcolor": "#EBF0F8",
            "linecolor": "#EBF0F8",
            "ticks": ""
           }
          },
          "scene": {
           "xaxis": {
            "backgroundcolor": "white",
            "gridcolor": "#DFE8F3",
            "gridwidth": 2,
            "linecolor": "#EBF0F8",
            "showbackground": true,
            "ticks": "",
            "zerolinecolor": "#EBF0F8"
           },
           "yaxis": {
            "backgroundcolor": "white",
            "gridcolor": "#DFE8F3",
            "gridwidth": 2,
            "linecolor": "#EBF0F8",
            "showbackground": true,
            "ticks": "",
            "zerolinecolor": "#EBF0F8"
           },
           "zaxis": {
            "backgroundcolor": "white",
            "gridcolor": "#DFE8F3",
            "gridwidth": 2,
            "linecolor": "#EBF0F8",
            "showbackground": true,
            "ticks": "",
            "zerolinecolor": "#EBF0F8"
           }
          },
          "shapedefaults": {
           "line": {
            "color": "#2a3f5f"
           }
          },
          "ternary": {
           "aaxis": {
            "gridcolor": "#DFE8F3",
            "linecolor": "#A2B1C6",
            "ticks": ""
           },
           "baxis": {
            "gridcolor": "#DFE8F3",
            "linecolor": "#A2B1C6",
            "ticks": ""
           },
           "bgcolor": "white",
           "caxis": {
            "gridcolor": "#DFE8F3",
            "linecolor": "#A2B1C6",
            "ticks": ""
           }
          },
          "title": {
           "x": 0.05
          },
          "xaxis": {
           "automargin": true,
           "gridcolor": "#EBF0F8",
           "linecolor": "#EBF0F8",
           "ticks": "",
           "title": {
            "standoff": 15
           },
           "zerolinecolor": "#EBF0F8",
           "zerolinewidth": 2
          },
          "yaxis": {
           "automargin": true,
           "gridcolor": "#EBF0F8",
           "linecolor": "#EBF0F8",
           "ticks": "",
           "title": {
            "standoff": 15
           },
           "zerolinecolor": "#EBF0F8",
           "zerolinewidth": 2
          }
         }
        },
        "title": {
         "text": "Impact of Climate Change on Rainfall Patterns (1901-2015)"
        },
        "xaxis": {
         "title": {
          "text": "Year"
         }
        },
        "yaxis": {
         "title": {
          "text": "Rainfall (mm)"
         }
        }
       }
      }
     },
     "metadata": {},
     "output_type": "display_data"
    }
   ],
   "source": [
    "# calculating rolling averages to assess climate change impact\n",
    "rainfall_data['10-Year Rolling Avg'] = rainfall_data['ANNUAL'].rolling(window=10).mean()\n",
    "\n",
    "fig_climate_change = go.Figure()\n",
    "\n",
    "fig_climate_change.add_trace(go.Scatter(\n",
    "    x=rainfall_data['YEAR'],\n",
    "    y=rainfall_data['ANNUAL'],\n",
    "    mode='lines',\n",
    "    name='Annual Rainfall',\n",
    "    line=dict(color='blue', width=2),\n",
    "    opacity=0.6\n",
    "))\n",
    "\n",
    "fig_climate_change.add_trace(go.Scatter(\n",
    "    x=rainfall_data['YEAR'],\n",
    "    y=rainfall_data['10-Year Rolling Avg'],\n",
    "    mode='lines',\n",
    "    name='10-Year Rolling Avg',\n",
    "    line=dict(color='red', width=3)\n",
    "))\n",
    "\n",
    "fig_climate_change.update_layout(\n",
    "    title='Impact of Climate Change on Rainfall Patterns (1901-2015)',\n",
    "    xaxis_title='Year',\n",
    "    yaxis_title='Rainfall (mm)',\n",
    "    template='plotly_white',\n",
    "    legend=dict(title=\"Legend\"),\n",
    "    height=500\n",
    ")\n",
    "\n",
    "fig_climate_change.show()"
   ]
  },
  {
   "cell_type": "markdown",
   "id": "e8c777e8",
   "metadata": {},
   "source": [
    "This graph shows the annual rainfall trends in India (blue line) and a 10-year rolling average (red line) to identify long-term patterns. While annual rainfall exhibits significant variability, the 10-year rolling average indicates a slight downward trend post-1960, which suggests a possible impact of climate change on rainfall distribution. Periods of higher averages in the early 20th-century contrast with more consistent but lower averages in recent decades."
   ]
  },
  {
   "cell_type": "markdown",
   "id": "e4aef16d",
   "metadata": {},
   "source": [
    "Now, using statistical thresholds (1.5 standard deviations below or above the mean), let’s identify years with extreme or deficient rainfall. This will help detect drought years and periods of excessive rainfall:"
   ]
  },
  {
   "cell_type": "code",
   "execution_count": 9,
   "id": "9a3872ce",
   "metadata": {},
   "outputs": [
    {
     "data": {
      "text/plain": [
       "(   YEAR  ANNUAL\n",
       " 0  1905   975.3\n",
       " 1  1965   938.4\n",
       " 2  1972   948.5\n",
       " 3  2002   920.8\n",
       " 4  2009   959.3,\n",
       "    YEAR  ANNUAL\n",
       " 0  1917  1480.3\n",
       " 1  1933  1393.5\n",
       " 2  1956  1386.2\n",
       " 3  1959  1382.1\n",
       " 4  1961  1403.0\n",
       " 5  1988  1351.0\n",
       " 6  1990  1400.6,\n",
       "          Correlation\n",
       " Jan-Feb     0.228913\n",
       " Mar-May     0.313057\n",
       " Jun-Sep     0.930027\n",
       " Oct-Dec     0.531648)"
      ]
     },
     "execution_count": 9,
     "metadata": {},
     "output_type": "execute_result"
    }
   ],
   "source": [
    "# identifying drought and extreme rainfall years\n",
    "mean_rainfall = rainfall_data['ANNUAL'].mean()\n",
    "std_dev_rainfall = rainfall_data['ANNUAL'].std()\n",
    "\n",
    "drought_years = rainfall_data[rainfall_data['ANNUAL'] < (mean_rainfall - 1.5 * std_dev_rainfall)]\n",
    "extreme_rainfall_years = rainfall_data[rainfall_data['ANNUAL'] > (mean_rainfall + 1.5 * std_dev_rainfall)]\n",
    "\n",
    "# correlating seasonal rainfall with annual rainfall totals\n",
    "seasonal_columns = ['Jan-Feb', 'Mar-May', 'Jun-Sep', 'Oct-Dec']\n",
    "seasonal_correlations = {\n",
    "    season: pearsonr(rainfall_data[season], rainfall_data['ANNUAL'])[0] for season in seasonal_columns\n",
    "}\n",
    "\n",
    "# displaying results for drought/extreme years and correlations\n",
    "drought_years_summary = drought_years[['YEAR', 'ANNUAL']].reset_index(drop=True)\n",
    "extreme_rainfall_years_summary = extreme_rainfall_years[['YEAR', 'ANNUAL']].reset_index(drop=True)\n",
    "seasonal_correlations_summary = pd.DataFrame.from_dict(seasonal_correlations, orient='index', columns=['Correlation'])\n",
    "\n",
    "drought_years_summary, extreme_rainfall_years_summary, seasonal_correlations_summary"
   ]
  },
  {
   "cell_type": "markdown",
   "id": "7d169c03",
   "metadata": {},
   "source": [
    "The analysis identifies five significant drought years (e.g., 2002 and 2009) and seven extreme rainfall years (e.g., 1917 and 1990) based on deviations from the mean annual rainfall. Seasonal rainfall correlations with annual totals reveal that the monsoon season (June-September) has the strongest correlation (0.93), which indicates it predominantly drives annual rainfall patterns. In contrast, other seasons like January-February (0.23) and March-May (0.31) have weaker correlations, which emphasizes the critical role of the monsoon in India’s overall rainfall dynamics."
   ]
  },
  {
   "cell_type": "markdown",
   "id": "1b617002",
   "metadata": {},
   "source": [
    "## Detecting Anomalies in the Rainfall Trends in India\n",
    "\n",
    "Now, using an Isolation Forest algorithm, we will identify anomalies in both annual and monthly rainfall. This will highlight specific years or months with unusual rainfall patterns. Let’s start with identifying anomalies in annual rainfall:"
   ]
  },
  {
   "cell_type": "code",
   "execution_count": 11,
   "id": "9ff23b44",
   "metadata": {},
   "outputs": [],
   "source": [
    "# detect anomalous rainfall years based on annual data\n",
    "isolation_forest = IsolationForest(contamination=0.05, random_state=42)\n",
    "rainfall_data['Annual_Anomaly'] = isolation_forest.fit_predict(rainfall_data[['ANNUAL']])\n",
    "\n",
    "# identify anomalies in annual rainfall\n",
    "annual_anomalies = rainfall_data[rainfall_data['Annual_Anomaly'] == -1]\n",
    "\n",
    "# detect anomalous months based on monthly data\n",
    "monthly_data = rainfall_data[['JAN', 'FEB', 'MAR', 'APR', 'MAY', 'JUN', 'JUL', 'AUG', 'SEP', 'OCT', 'NOV', 'DEC']]\n",
    "monthly_anomalies = isolation_forest.fit_predict(monthly_data)\n",
    "\n",
    "# add anomaly detection results for months\n",
    "rainfall_data['Monthly_Anomaly'] = monthly_anomalies\n",
    "monthly_anomalies_df = rainfall_data[rainfall_data['Monthly_Anomaly'] == -1][['YEAR'] + monthly_columns]"
   ]
  },
  {
   "cell_type": "code",
   "execution_count": 12,
   "id": "7bcdd3f4",
   "metadata": {},
   "outputs": [
    {
     "data": {
      "application/vnd.plotly.v1+json": {
       "config": {
        "plotlyServerURL": "https://plot.ly"
       },
       "data": [
        {
         "line": {
          "color": "blue",
          "width": 2
         },
         "mode": "lines",
         "name": "Annual Rainfall",
         "opacity": 0.6,
         "type": "scatter",
         "x": {
          "bdata": "bQduB28HcAdxB3IHcwd0B3UHdgd3B3gHeQd6B3sHfAd9B34HfweAB4EHggeDB4QHhQeGB4cHiAeJB4oHiweMB40HjgePB5AHkQeSB5MHlAeVB5YHlweYB5kHmgebB5wHnQeeB58HoAehB6IHowekB6UHpgenB6gHqQeqB6sHrAetB64HrwewB7EHsgezB7QHtQe2B7cHuAe5B7oHuwe8B70Hvge/B8AHwQfCB8MHxAfFB8YHxwfIB8kHygfLB8wHzQfOB88H0AfRB9IH0wfUB9UH1gfXB9gH2QfaB9sH3AfdB94H3wc=",
          "dtype": "i2"
         },
         "y": {
          "bdata": "MzMzMzMhkEDNzMzMzBiQQAAAAAAAmpJAZmZmZmbej0BmZmZmZnqOQGZmZmZm4JFAzczMzMw+kEBmZmZmZiKRQGZmZmZmGJJAMzMzMzPBkkAAAAAAAF6QQGZmZmZm2JBAmpmZmZmzkEAzMzMzM/mSQM3MzMzMxJFAZmZmZmbklEAzMzMzMyGXQM3MzMzMCJBAmpmZmZlzlECamZmZmV+QQM3MzMzMYJNAmpmZmZnvkkAzMzMzM2GSQDMzMzMz0ZNAmpmZmZnpkkAzMzMzM3uTQGZmZmZmupNAmpmZmZkJk0AAAAAAAOKSQJqZmZmZ5ZJAZmZmZmaKlECamZmZmQuTQAAAAAAAxpVAZmZmZmYuk0CamZmZmd2RQM3MzMzM9pRAZmZmZmYIk0DNzMzMzGqUQJqZmZmZl5FAZmZmZmb6kkCamZmZmeOQQM3MzMzMMpRAZmZmZmYIlEBmZmZmZpyUQDMzMzMzJ5NAZmZmZmbSlEBmZmZmZlKTQJqZmZmZ95RAmpmZmZnhk0AAAAAAAFKSQDMzMzMzlZBAzczMzMxQkUCamZmZmRuTQDMzMzMzcZJAMzMzMzNJlEDNzMzMzKiVQM3MzMzMaJJAAAAAAADMlEBmZmZmZpiVQAAAAAAA9JFAAAAAAADslUCamZmZmbGSQM3MzMzM6JJAZmZmZmZMk0AzMzMzM1ONQAAAAAAAoJBAMzMzMzPxkUDNzMzMzHiQQM3MzMzM7pFAAAAAAAB8k0AAAAAAAAiTQAAAAAAApI1AAAAAAAD4kkDNzMzMzE6QQM3MzMzMKJRAMzMzMzOTkUCamZmZmdmTQDMzMzMzXZNAMzMzMzP7j0AAAAAAAJaSQGZmZmZmTpJAMzMzMzP7kEAAAAAAAM6UQJqZmZmZD5JAAAAAAADQkUBmZmZmZpqRQJqZmZmZ25BAAAAAAAAclUCamZmZmYmRQGZmZmZm4pVAmpmZmZkfkkAzMzMzM4WRQJqZmZmZx5JAZmZmZmY+lEBmZmZmZm6TQDMzMzMzd5JAmpmZmZlNkkAAAAAAAG6TQAAAAAAAsJFAmpmZmZlpkEAzMzMzM+2QQGZmZmZmxoxAAAAAAABakkAzMzMzM72QQAAAAAAAQpNAmpmZmZm9kkBmZmZmZv6SQGZmZmZmsJFAZmZmZmb6jUAAAAAAAMKSQGZmZmZmWJFAAAAAAADGkEDNzMzMzACTQM3MzMzMJpBAzczMzMwUkUA=",
          "dtype": "f8"
         }
        },
        {
         "marker": {
          "color": "red",
          "size": 8,
          "symbol": "circle"
         },
         "mode": "markers",
         "name": "Anomalous Years",
         "type": "scatter",
         "x": {
          "bdata": "cQd9B60HtAfSB9kH",
          "dtype": "i2"
         },
         "y": {
          "bdata": "ZmZmZmZ6jkAzMzMzMyGXQDMzMzMzU41AAAAAAACkjUBmZmZmZsaMQGZmZmZm+o1A",
          "dtype": "f8"
         }
        }
       ],
       "layout": {
        "annotations": [
         {
          "showarrow": false,
          "text": "Mean Rainfall",
          "x": 1,
          "xanchor": "right",
          "xref": "x domain",
          "y": 1182.0347826086959,
          "yanchor": "top",
          "yref": "y"
         }
        ],
        "height": 500,
        "legend": {
         "title": {
          "text": "Legend"
         }
        },
        "shapes": [
         {
          "line": {
           "color": "green",
           "dash": "dash"
          },
          "type": "line",
          "x0": 0,
          "x1": 1,
          "xref": "x domain",
          "y0": 1182.0347826086959,
          "y1": 1182.0347826086959,
          "yref": "y"
         }
        ],
        "template": {
         "data": {
          "bar": [
           {
            "error_x": {
             "color": "#2a3f5f"
            },
            "error_y": {
             "color": "#2a3f5f"
            },
            "marker": {
             "line": {
              "color": "white",
              "width": 0.5
             },
             "pattern": {
              "fillmode": "overlay",
              "size": 10,
              "solidity": 0.2
             }
            },
            "type": "bar"
           }
          ],
          "barpolar": [
           {
            "marker": {
             "line": {
              "color": "white",
              "width": 0.5
             },
             "pattern": {
              "fillmode": "overlay",
              "size": 10,
              "solidity": 0.2
             }
            },
            "type": "barpolar"
           }
          ],
          "carpet": [
           {
            "aaxis": {
             "endlinecolor": "#2a3f5f",
             "gridcolor": "#C8D4E3",
             "linecolor": "#C8D4E3",
             "minorgridcolor": "#C8D4E3",
             "startlinecolor": "#2a3f5f"
            },
            "baxis": {
             "endlinecolor": "#2a3f5f",
             "gridcolor": "#C8D4E3",
             "linecolor": "#C8D4E3",
             "minorgridcolor": "#C8D4E3",
             "startlinecolor": "#2a3f5f"
            },
            "type": "carpet"
           }
          ],
          "choropleth": [
           {
            "colorbar": {
             "outlinewidth": 0,
             "ticks": ""
            },
            "type": "choropleth"
           }
          ],
          "contour": [
           {
            "colorbar": {
             "outlinewidth": 0,
             "ticks": ""
            },
            "colorscale": [
             [
              0,
              "#0d0887"
             ],
             [
              0.1111111111111111,
              "#46039f"
             ],
             [
              0.2222222222222222,
              "#7201a8"
             ],
             [
              0.3333333333333333,
              "#9c179e"
             ],
             [
              0.4444444444444444,
              "#bd3786"
             ],
             [
              0.5555555555555556,
              "#d8576b"
             ],
             [
              0.6666666666666666,
              "#ed7953"
             ],
             [
              0.7777777777777778,
              "#fb9f3a"
             ],
             [
              0.8888888888888888,
              "#fdca26"
             ],
             [
              1,
              "#f0f921"
             ]
            ],
            "type": "contour"
           }
          ],
          "contourcarpet": [
           {
            "colorbar": {
             "outlinewidth": 0,
             "ticks": ""
            },
            "type": "contourcarpet"
           }
          ],
          "heatmap": [
           {
            "colorbar": {
             "outlinewidth": 0,
             "ticks": ""
            },
            "colorscale": [
             [
              0,
              "#0d0887"
             ],
             [
              0.1111111111111111,
              "#46039f"
             ],
             [
              0.2222222222222222,
              "#7201a8"
             ],
             [
              0.3333333333333333,
              "#9c179e"
             ],
             [
              0.4444444444444444,
              "#bd3786"
             ],
             [
              0.5555555555555556,
              "#d8576b"
             ],
             [
              0.6666666666666666,
              "#ed7953"
             ],
             [
              0.7777777777777778,
              "#fb9f3a"
             ],
             [
              0.8888888888888888,
              "#fdca26"
             ],
             [
              1,
              "#f0f921"
             ]
            ],
            "type": "heatmap"
           }
          ],
          "histogram": [
           {
            "marker": {
             "pattern": {
              "fillmode": "overlay",
              "size": 10,
              "solidity": 0.2
             }
            },
            "type": "histogram"
           }
          ],
          "histogram2d": [
           {
            "colorbar": {
             "outlinewidth": 0,
             "ticks": ""
            },
            "colorscale": [
             [
              0,
              "#0d0887"
             ],
             [
              0.1111111111111111,
              "#46039f"
             ],
             [
              0.2222222222222222,
              "#7201a8"
             ],
             [
              0.3333333333333333,
              "#9c179e"
             ],
             [
              0.4444444444444444,
              "#bd3786"
             ],
             [
              0.5555555555555556,
              "#d8576b"
             ],
             [
              0.6666666666666666,
              "#ed7953"
             ],
             [
              0.7777777777777778,
              "#fb9f3a"
             ],
             [
              0.8888888888888888,
              "#fdca26"
             ],
             [
              1,
              "#f0f921"
             ]
            ],
            "type": "histogram2d"
           }
          ],
          "histogram2dcontour": [
           {
            "colorbar": {
             "outlinewidth": 0,
             "ticks": ""
            },
            "colorscale": [
             [
              0,
              "#0d0887"
             ],
             [
              0.1111111111111111,
              "#46039f"
             ],
             [
              0.2222222222222222,
              "#7201a8"
             ],
             [
              0.3333333333333333,
              "#9c179e"
             ],
             [
              0.4444444444444444,
              "#bd3786"
             ],
             [
              0.5555555555555556,
              "#d8576b"
             ],
             [
              0.6666666666666666,
              "#ed7953"
             ],
             [
              0.7777777777777778,
              "#fb9f3a"
             ],
             [
              0.8888888888888888,
              "#fdca26"
             ],
             [
              1,
              "#f0f921"
             ]
            ],
            "type": "histogram2dcontour"
           }
          ],
          "mesh3d": [
           {
            "colorbar": {
             "outlinewidth": 0,
             "ticks": ""
            },
            "type": "mesh3d"
           }
          ],
          "parcoords": [
           {
            "line": {
             "colorbar": {
              "outlinewidth": 0,
              "ticks": ""
             }
            },
            "type": "parcoords"
           }
          ],
          "pie": [
           {
            "automargin": true,
            "type": "pie"
           }
          ],
          "scatter": [
           {
            "fillpattern": {
             "fillmode": "overlay",
             "size": 10,
             "solidity": 0.2
            },
            "type": "scatter"
           }
          ],
          "scatter3d": [
           {
            "line": {
             "colorbar": {
              "outlinewidth": 0,
              "ticks": ""
             }
            },
            "marker": {
             "colorbar": {
              "outlinewidth": 0,
              "ticks": ""
             }
            },
            "type": "scatter3d"
           }
          ],
          "scattercarpet": [
           {
            "marker": {
             "colorbar": {
              "outlinewidth": 0,
              "ticks": ""
             }
            },
            "type": "scattercarpet"
           }
          ],
          "scattergeo": [
           {
            "marker": {
             "colorbar": {
              "outlinewidth": 0,
              "ticks": ""
             }
            },
            "type": "scattergeo"
           }
          ],
          "scattergl": [
           {
            "marker": {
             "colorbar": {
              "outlinewidth": 0,
              "ticks": ""
             }
            },
            "type": "scattergl"
           }
          ],
          "scattermap": [
           {
            "marker": {
             "colorbar": {
              "outlinewidth": 0,
              "ticks": ""
             }
            },
            "type": "scattermap"
           }
          ],
          "scattermapbox": [
           {
            "marker": {
             "colorbar": {
              "outlinewidth": 0,
              "ticks": ""
             }
            },
            "type": "scattermapbox"
           }
          ],
          "scatterpolar": [
           {
            "marker": {
             "colorbar": {
              "outlinewidth": 0,
              "ticks": ""
             }
            },
            "type": "scatterpolar"
           }
          ],
          "scatterpolargl": [
           {
            "marker": {
             "colorbar": {
              "outlinewidth": 0,
              "ticks": ""
             }
            },
            "type": "scatterpolargl"
           }
          ],
          "scatterternary": [
           {
            "marker": {
             "colorbar": {
              "outlinewidth": 0,
              "ticks": ""
             }
            },
            "type": "scatterternary"
           }
          ],
          "surface": [
           {
            "colorbar": {
             "outlinewidth": 0,
             "ticks": ""
            },
            "colorscale": [
             [
              0,
              "#0d0887"
             ],
             [
              0.1111111111111111,
              "#46039f"
             ],
             [
              0.2222222222222222,
              "#7201a8"
             ],
             [
              0.3333333333333333,
              "#9c179e"
             ],
             [
              0.4444444444444444,
              "#bd3786"
             ],
             [
              0.5555555555555556,
              "#d8576b"
             ],
             [
              0.6666666666666666,
              "#ed7953"
             ],
             [
              0.7777777777777778,
              "#fb9f3a"
             ],
             [
              0.8888888888888888,
              "#fdca26"
             ],
             [
              1,
              "#f0f921"
             ]
            ],
            "type": "surface"
           }
          ],
          "table": [
           {
            "cells": {
             "fill": {
              "color": "#EBF0F8"
             },
             "line": {
              "color": "white"
             }
            },
            "header": {
             "fill": {
              "color": "#C8D4E3"
             },
             "line": {
              "color": "white"
             }
            },
            "type": "table"
           }
          ]
         },
         "layout": {
          "annotationdefaults": {
           "arrowcolor": "#2a3f5f",
           "arrowhead": 0,
           "arrowwidth": 1
          },
          "autotypenumbers": "strict",
          "coloraxis": {
           "colorbar": {
            "outlinewidth": 0,
            "ticks": ""
           }
          },
          "colorscale": {
           "diverging": [
            [
             0,
             "#8e0152"
            ],
            [
             0.1,
             "#c51b7d"
            ],
            [
             0.2,
             "#de77ae"
            ],
            [
             0.3,
             "#f1b6da"
            ],
            [
             0.4,
             "#fde0ef"
            ],
            [
             0.5,
             "#f7f7f7"
            ],
            [
             0.6,
             "#e6f5d0"
            ],
            [
             0.7,
             "#b8e186"
            ],
            [
             0.8,
             "#7fbc41"
            ],
            [
             0.9,
             "#4d9221"
            ],
            [
             1,
             "#276419"
            ]
           ],
           "sequential": [
            [
             0,
             "#0d0887"
            ],
            [
             0.1111111111111111,
             "#46039f"
            ],
            [
             0.2222222222222222,
             "#7201a8"
            ],
            [
             0.3333333333333333,
             "#9c179e"
            ],
            [
             0.4444444444444444,
             "#bd3786"
            ],
            [
             0.5555555555555556,
             "#d8576b"
            ],
            [
             0.6666666666666666,
             "#ed7953"
            ],
            [
             0.7777777777777778,
             "#fb9f3a"
            ],
            [
             0.8888888888888888,
             "#fdca26"
            ],
            [
             1,
             "#f0f921"
            ]
           ],
           "sequentialminus": [
            [
             0,
             "#0d0887"
            ],
            [
             0.1111111111111111,
             "#46039f"
            ],
            [
             0.2222222222222222,
             "#7201a8"
            ],
            [
             0.3333333333333333,
             "#9c179e"
            ],
            [
             0.4444444444444444,
             "#bd3786"
            ],
            [
             0.5555555555555556,
             "#d8576b"
            ],
            [
             0.6666666666666666,
             "#ed7953"
            ],
            [
             0.7777777777777778,
             "#fb9f3a"
            ],
            [
             0.8888888888888888,
             "#fdca26"
            ],
            [
             1,
             "#f0f921"
            ]
           ]
          },
          "colorway": [
           "#636efa",
           "#EF553B",
           "#00cc96",
           "#ab63fa",
           "#FFA15A",
           "#19d3f3",
           "#FF6692",
           "#B6E880",
           "#FF97FF",
           "#FECB52"
          ],
          "font": {
           "color": "#2a3f5f"
          },
          "geo": {
           "bgcolor": "white",
           "lakecolor": "white",
           "landcolor": "white",
           "showlakes": true,
           "showland": true,
           "subunitcolor": "#C8D4E3"
          },
          "hoverlabel": {
           "align": "left"
          },
          "hovermode": "closest",
          "mapbox": {
           "style": "light"
          },
          "paper_bgcolor": "white",
          "plot_bgcolor": "white",
          "polar": {
           "angularaxis": {
            "gridcolor": "#EBF0F8",
            "linecolor": "#EBF0F8",
            "ticks": ""
           },
           "bgcolor": "white",
           "radialaxis": {
            "gridcolor": "#EBF0F8",
            "linecolor": "#EBF0F8",
            "ticks": ""
           }
          },
          "scene": {
           "xaxis": {
            "backgroundcolor": "white",
            "gridcolor": "#DFE8F3",
            "gridwidth": 2,
            "linecolor": "#EBF0F8",
            "showbackground": true,
            "ticks": "",
            "zerolinecolor": "#EBF0F8"
           },
           "yaxis": {
            "backgroundcolor": "white",
            "gridcolor": "#DFE8F3",
            "gridwidth": 2,
            "linecolor": "#EBF0F8",
            "showbackground": true,
            "ticks": "",
            "zerolinecolor": "#EBF0F8"
           },
           "zaxis": {
            "backgroundcolor": "white",
            "gridcolor": "#DFE8F3",
            "gridwidth": 2,
            "linecolor": "#EBF0F8",
            "showbackground": true,
            "ticks": "",
            "zerolinecolor": "#EBF0F8"
           }
          },
          "shapedefaults": {
           "line": {
            "color": "#2a3f5f"
           }
          },
          "ternary": {
           "aaxis": {
            "gridcolor": "#DFE8F3",
            "linecolor": "#A2B1C6",
            "ticks": ""
           },
           "baxis": {
            "gridcolor": "#DFE8F3",
            "linecolor": "#A2B1C6",
            "ticks": ""
           },
           "bgcolor": "white",
           "caxis": {
            "gridcolor": "#DFE8F3",
            "linecolor": "#A2B1C6",
            "ticks": ""
           }
          },
          "title": {
           "x": 0.05
          },
          "xaxis": {
           "automargin": true,
           "gridcolor": "#EBF0F8",
           "linecolor": "#EBF0F8",
           "ticks": "",
           "title": {
            "standoff": 15
           },
           "zerolinecolor": "#EBF0F8",
           "zerolinewidth": 2
          },
          "yaxis": {
           "automargin": true,
           "gridcolor": "#EBF0F8",
           "linecolor": "#EBF0F8",
           "ticks": "",
           "title": {
            "standoff": 15
           },
           "zerolinecolor": "#EBF0F8",
           "zerolinewidth": 2
          }
         }
        },
        "title": {
         "text": "Annual Rainfall Anomalies in India (1901-2015)"
        },
        "xaxis": {
         "title": {
          "text": "Year"
         }
        },
        "yaxis": {
         "title": {
          "text": "Rainfall (mm)"
         }
        }
       }
      }
     },
     "metadata": {},
     "output_type": "display_data"
    }
   ],
   "source": [
    "fig_annual_anomalies = go.Figure()\n",
    "\n",
    "fig_annual_anomalies.add_trace(go.Scatter(\n",
    "    x=rainfall_data['YEAR'],\n",
    "    y=rainfall_data['ANNUAL'],\n",
    "    mode='lines',\n",
    "    name='Annual Rainfall',\n",
    "    line=dict(color='blue', width=2),\n",
    "    opacity=0.6\n",
    "))\n",
    "\n",
    "fig_annual_anomalies.add_trace(go.Scatter(\n",
    "    x=annual_anomalies['YEAR'],\n",
    "    y=annual_anomalies['ANNUAL'],\n",
    "    mode='markers',\n",
    "    name='Anomalous Years',\n",
    "    marker=dict(color='red', size=8, symbol='circle')\n",
    "))\n",
    "\n",
    "fig_annual_anomalies.add_hline(\n",
    "    y=rainfall_data['ANNUAL'].mean(),\n",
    "    line_dash='dash',\n",
    "    line_color='green',\n",
    "    annotation_text='Mean Rainfall',\n",
    "    annotation_position='bottom right'\n",
    ")\n",
    "\n",
    "fig_annual_anomalies.update_layout(\n",
    "    title='Annual Rainfall Anomalies in India (1901-2015)',\n",
    "    xaxis_title='Year',\n",
    "    yaxis_title='Rainfall (mm)',\n",
    "    template='plotly_white',\n",
    "    legend=dict(title=\"Legend\"),\n",
    "    height=500\n",
    ")\n",
    "\n",
    "fig_annual_anomalies.show()"
   ]
  },
  {
   "cell_type": "markdown",
   "id": "35c635f4",
   "metadata": {},
   "source": [
    "This graph highlights years with significant rainfall anomalies, where annual rainfall deviated substantially from the mean. Drought years (e.g., 1905, 1965, 2002) and extreme rainfall years (e.g., 1917, 1961) are marked as red points, which showcase outliers in rainfall patterns. While most years cluster around the mean (green dashed line), the anomalies emphasize the variability in India’s rainfall, driven by factors like monsoonal fluctuations and climate events. This underscores the need for monitoring and preparedness for extreme weather events.\n",
    "\n",
    "Now, let’s identify anomalies in monthly rainfall:"
   ]
  },
  {
   "cell_type": "code",
   "execution_count": 13,
   "id": "e542b087",
   "metadata": {},
   "outputs": [],
   "source": [
    "# preparing data for monthly anomalies\n",
    "monthly_anomalies = []\n",
    "for column in monthly_columns:\n",
    "    for _, row in monthly_anomalies_df.iterrows():\n",
    "        monthly_anomalies.append({'Year': row['YEAR'], 'Month': column, 'Rainfall': row[column]})\n",
    "\n",
    "monthly_anomalies_df_long = pd.DataFrame(monthly_anomalies)"
   ]
  },
  {
   "cell_type": "code",
   "execution_count": 14,
   "id": "9a64678f",
   "metadata": {},
   "outputs": [
    {
     "data": {
      "application/vnd.plotly.v1+json": {
       "config": {
        "plotlyServerURL": "https://plot.ly"
       },
       "data": [
        {
         "hovertemplate": "Month=JAN<br>Year=%{x}<br>Rainfall (mm)=%{y}<extra></extra>",
         "legendgroup": "JAN",
         "line": {
          "color": "rgb(141,211,199)",
          "dash": "solid"
         },
         "marker": {
          "symbol": "circle"
         },
         "mode": "lines",
         "name": "JAN",
         "showlegend": true,
         "type": "scattergl",
         "x": {
          "bdata": "bQduB28HcAdxB3IHcwd0B3UHdgd3B3gHeQd6B3sHfAd9B34HfweAB4EHggeDB4QHhQeGB4cHiAeJB4oHiweMB40HjgePB5AHkQeSB5MHlAeVB5YHlweYB5kHmgebB5wHnQeeB58HoAehB6IHowekB6UHpgenB6gHqQeqB6sHrAetB64HrwewB7EHsgezB7QHtQe2B7cHuAe5B7oHuwe8B70Hvge/B8AHwQfCB8MHxAfFB8YHxwfIB8kHygfLB8wHzQfOB88H0AfRB9IH0wfUB9UH1gfXB9gH2QfaB9sH3AfdB94H3wc=",
          "dtype": "i2"
         },
         "xaxis": "x",
         "y": {
          "bdata": "mpmZmZlZQUCamZmZmZkdQAAAAAAAADFAzczMzMzMLEDNzMzMzEw5QDMzMzMzMzVAMzMzMzMzMEDNzMzMzMw1QM3MzMzMTDdAMzMzMzMzL0CamZmZmdlGQJqZmZmZGTZAZmZmZmZmGkAzMzMzMzMTQGZmZmZmZjNAZmZmZmZmFEBmZmZmZmYhQGZmZmZmZihAAAAAAABASkCamZmZmRk5QM3MzMzMTERAMzMzMzOzPUAAAAAAAIA4QJqZmZmZGTdAZmZmZmZmLEAzMzMzMzM9QDMzMzMzMy1AZmZmZmbmNkAzMzMzMzM/QGZmZmZm5jlAAAAAAAAALUCamZmZmZkkQAAAAAAAADJAZmZmZmbmOEDNzMzMzMw9QAAAAAAAACpAAAAAAAAAHEBmZmZmZiZAQAAAAAAAACxAzczMzMzMLEBmZmZmZuY3QJqZmZmZGTdAAAAAAABATUDNzMzMzEw9QDMzMzMzM0FAmpmZmZmZEUAAAAAAAIA2QJqZmZmZGTlAAAAAAAAAKkDNzMzMzMxBQAAAAAAAADBAAAAAAAAAJUBmZmZmZmY+QJqZmZmZGUNAMzMzMzMzNkDNzMzMzMwzQM3MzMzMzENAzczMzMzMKkDNzMzMzAxAQM3MzMzMzCtAZmZmZmbmOUAzMzMzMzMpQDMzMzMzMxtAZmZmZmZmL0DNzMzMzMwlQJqZmZmZmSlAZmZmZmZmJkBmZmZmZuY7QJqZmZmZmShAAAAAAACANkAAAAAAAAAwQGZmZmZmZiNAzczMzMxMM0CamZmZmZkuQM3MzMzMzC1AmpmZmZmZJkAzMzMzMzM0QGZmZmZmZihAzczMzMzMNEDNzMzMzMwpQGZmZmZmZjxAzczMzMzMOEDNzMzMzMwyQDMzMzMzMzNAmpmZmZkZN0CamZmZmZktQM3MzMzMzCxAMzMzMzMzIkAzMzMzMzMtQM3MzMzMzC1AmpmZmZmZK0CamZmZmRk0QDMzMzMzMzFAMzMzMzMzOEBmZmZmZiZAQM3MzMzMzDZAzczMzMzMK0DNzMzMzMwxQGZmZmZmZjJAAAAAAAAAM0DNzMzMzMwcQM3MzMzMzDBAzczMzMzMHEAzMzMzMzM6QGZmZmZmJkRAZmZmZmZmMUCamZmZmZkFQGZmZmZmZjZAmpmZmZmZJ0AAAAAAAAAeQM3MzMzMzB5AAAAAAACAPEAAAAAAAAAkQM3MzMzMTDFAZmZmZmZmMUA=",
          "dtype": "f8"
         },
         "yaxis": "y"
        },
        {
         "hovertemplate": "Month=FEB<br>Year=%{x}<br>Rainfall (mm)=%{y}<extra></extra>",
         "legendgroup": "FEB",
         "line": {
          "color": "rgb(255,255,179)",
          "dash": "solid"
         },
         "marker": {
          "symbol": "circle"
         },
         "mode": "lines",
         "name": "FEB",
         "showlegend": true,
         "type": "scattergl",
         "x": {
          "bdata": "bQduB28HcAdxB3IHcwd0B3UHdgd3B3gHeQd6B3sHfAd9B34HfweAB4EHggeDB4QHhQeGB4cHiAeJB4oHiweMB40HjgePB5AHkQeSB5MHlAeVB5YHlweYB5kHmgebB5wHnQeeB58HoAehB6IHowekB6UHpgenB6gHqQeqB6sHrAetB64HrwewB7EHsgezB7QHtQe2B7cHuAe5B7oHuwe8B70Hvge/B8AHwQfCB8MHxAfFB8YHxwfIB8kHygfLB8wHzQfOB88H0AfRB9IH0wfUB9UH1gfXB9gH2QfaB9sH3AfdB94H3wc=",
          "dtype": "i2"
         },
         "xaxis": "x",
         "y": {
          "bdata": "mpmZmZnZQkAzMzMzMzMRQJqZmZmZmSBAMzMzMzMzI0BmZmZmZuY0QGZmZmZmZklAAAAAAAAAR0DNzMzMzMwxQGZmZmZm5jFAMzMzMzMzJkBmZmZmZmYWQM3MzMzMzDVAZmZmZmZmREAAAAAAAIA/QM3MzMzMzERAMzMzMzOzNkCamZmZmVlDQJqZmZmZmRFAMzMzMzOzNkBmZmZmZuY3QJqZmZmZmSFAmpmZmZmZJEAAAAAAAMBEQAAAAAAAgDlAAAAAAAAAKUAAAAAAAAAnQAAAAAAAgEJAMzMzMzPzRECamZmZmZk0QJqZmZmZmTdAmpmZmZlZQUAzMzMzMzM5QAAAAAAAAD9AZmZmZmZmJ0BmZmZmZuY1QM3MzMzMTEZAZmZmZmbmSkBmZmZmZmZAQAAAAAAAgEFAAAAAAAAAO0BmZmZmZuYwQM3MzMzMzEZAmpmZmZmZI0BmZmZmZuZDQM3MzMzMzCNAZmZmZmbmMkAAAAAAAIAyQJqZmZmZmT1AZmZmZmbmPEAAAAAAAAA6QJqZmZmZmShAZmZmZmZmNEBmZmZmZmYlQJqZmZmZ2UJAAAAAAAAAEkCamZmZmZkmQJqZmZmZmTFAzczMzMzMMkDNzMzMzEw4QJqZmZmZmQVAmpmZmZmZQUAAAAAAAIA1QAAAAAAAACJAmpmZmZmZLEAAAAAAAAA6QJqZmZmZGThAzczMzMzMKkAAAAAAAIAzQJqZmZmZmStAZmZmZmbmOkAAAAAAAIA2QJqZmZmZGTtAZmZmZmbmNEAAAAAAAAApQDMzMzMzszJAAAAAAACAN0AAAAAAAAAkQAAAAAAAADtAmpmZmZlZQUCamZmZmRk2QGZmZmZmZjRAZmZmZmZmOECamZmZmZk3QJqZmZmZ2UFAMzMzMzMzI0CamZmZmVlCQM3MzMzMzDVAMzMzMzMzPEBmZmZmZmYsQGZmZmZmJkZAzczMzMxMOkAzMzMzM7MyQM3MzMzMTDhAzczMzMzMOkAzMzMzMzM9QJqZmZmZGTdAAAAAAAAAJEAzMzMzM/NBQAAAAAAAAChAAAAAAAAAO0CamZmZmZkkQAAAAAAAADVAzczMzMwMRUBmZmZmZmYlQAAAAAAAAEdAAAAAAAAAJ0CamZmZmdlBQDMzMzMzMzNAZmZmZmZmKkDNzMzMzEwwQM3MzMzMTDpAmpmZmZmZJUAzMzMzM3NCQGZmZmZm5jlAAAAAAAAANUA=",
          "dtype": "f8"
         },
         "yaxis": "y"
        },
        {
         "hovertemplate": "Month=MAR<br>Year=%{x}<br>Rainfall (mm)=%{y}<extra></extra>",
         "legendgroup": "MAR",
         "line": {
          "color": "rgb(190,186,218)",
          "dash": "solid"
         },
         "marker": {
          "symbol": "circle"
         },
         "mode": "lines",
         "name": "MAR",
         "showlegend": true,
         "type": "scattergl",
         "x": {
          "bdata": "bQduB28HcAdxB3IHcwd0B3UHdgd3B3gHeQd6B3sHfAd9B34HfweAB4EHggeDB4QHhQeGB4cHiAeJB4oHiweMB40HjgePB5AHkQeSB5MHlAeVB5YHlweYB5kHmgebB5wHnQeeB58HoAehB6IHowekB6UHpgenB6gHqQeqB6sHrAetB64HrwewB7EHsgezB7QHtQe2B7cHuAe5B7oHuwe8B70Hvge/B8AHwQfCB8MHxAfFB8YHxwfIB8kHygfLB8wHzQfOB88H0AfRB9IH0wfUB9UH1gfXB9gH2QfaB9sH3AfdB94H3wc=",
          "dtype": "i2"
         },
         "xaxis": "x",
         "y": {
          "bdata": "AAAAAAAAMkAAAAAAAAAzQM3MzMzMTD9AzczMzMzMP0CamZmZmVlFQDMzMzMzsz9AZmZmZmbmQkBmZmZmZmYhQM3MzMzMzBxAmpmZmZmZK0AzMzMzM/NIQDMzMzMzMzVAAAAAAAAAOUDNzMzMzEw8QJqZmZmZGUdAmpmZmZmZKEDNzMzMzMw2QM3MzMzMzERAzczMzMxMNECamZmZmRlNQJqZmZmZmTJAMzMzMzMzLUAzMzMzM7M2QJqZmZmZmSxAmpmZmZmZL0DNzMzMzAxOQJqZmZmZGTdAMzMzMzOzNkDNzMzMzMwsQDMzMzMzszlAMzMzMzOzM0AAAAAAAIA2QJqZmZmZmTpAMzMzMzMzMUBmZmZmZuY0QGZmZmZmJkRAzczMzMxMNECamZmZmZlAQGZmZmZmZkBAzczMzMzMSEAzMzMzMzMzQAAAAAAAADRAAAAAAAAAPkCamZmZmVlMQJqZmZmZGTRAMzMzMzMzOEAAAAAAAAA6QM3MzMzMDERAAAAAAACAOEAzMzMzM3NCQJqZmZmZmUZAAAAAAAAAQ0AAAAAAAIA5QGZmZmZmZjFAzczMzMzMOECamZmZmRlAQM3MzMzMzD1AMzMzMzMzM0DNzMzMzMw1QAAAAAAAwEFAmpmZmZmZOkAzMzMzMzMvQM3MzMzMTENAZmZmZmbmMkBmZmZmZmY6QM3MzMzMTDRAZmZmZmamT0AAAAAAAIA7QAAAAAAAgDNAZmZmZmbmOECamZmZmZkkQAAAAAAAADVAMzMzMzOzM0DNzMzMzMwzQDMzMzMzMztAZmZmZmbmN0BmZmZmZmYrQJqZmZmZGUZAzczMzMxMPUBmZmZmZiZAQM3MzMzMzEdAzczMzMxMR0AzMzMzM7NFQM3MzMzMzDVAzczMzMzMM0DNzMzMzMw8QGZmZmZmZjtAZmZmZmamSEBmZmZmZuY6QGZmZmZmpkpAzczMzMzMO0BmZmZmZmY5QGZmZmZmpkNAZmZmZmbmN0CamZmZmRk8QGZmZmZmZj9AMzMzMzMzPkDNzMzMzAxGQJqZmZmZmSVAmpmZmZmZMkDNzMzMzEw1QGZmZmZm5jZAmpmZmZnZQEDNzMzMzMwnQM3MzMzMTEVAMzMzMzMzQUAzMzMzMzNBQJqZmZmZ2UJAZmZmZmZmLkCamZmZmZkwQGZmZmZmZjVAMzMzMzMzJUAAAAAAAAAtQM3MzMzMTEBAAAAAAAAAT0A=",
          "dtype": "f8"
         },
         "yaxis": "y"
        },
        {
         "hovertemplate": "Month=APR<br>Year=%{x}<br>Rainfall (mm)=%{y}<extra></extra>",
         "legendgroup": "APR",
         "line": {
          "color": "rgb(251,128,114)",
          "dash": "solid"
         },
         "marker": {
          "symbol": "circle"
         },
         "mode": "lines",
         "name": "APR",
         "showlegend": true,
         "type": "scattergl",
         "x": {
          "bdata": "bQduB28HcAdxB3IHcwd0B3UHdgd3B3gHeQd6B3sHfAd9B34HfweAB4EHggeDB4QHhQeGB4cHiAeJB4oHiweMB40HjgePB5AHkQeSB5MHlAeVB5YHlweYB5kHmgebB5wHnQeeB58HoAehB6IHowekB6UHpgenB6gHqQeqB6sHrAetB64HrwewB7EHsgezB7QHtQe2B7cHuAe5B7oHuwe8B70Hvge/B8AHwQfCB8MHxAfFB8YHxwfIB8kHygfLB8wHzQfOB88H0AfRB9IH0wfUB9UH1gfXB9gH2QfaB9sH3AfdB94H3wc=",
          "dtype": "i2"
         },
         "xaxis": "x",
         "y": {
          "bdata": "ZmZmZmamQ0AAAAAAAMBFQJqZmZmZGTFAzczMzMyMQECamZmZmdlAQJqZmZmZGTBAZmZmZmZmT0BmZmZmZqZAQAAAAAAAgE9AMzMzMzMzPUDNzMzMzMw2QAAAAAAAAERAmpmZmZkZOkBmZmZmZiZHQDMzMzMzM0JAzczMzMwMQkCamZmZmZlFQGZmZmZmZkNAAAAAAADAQEBmZmZmZmZDQAAAAAAAwEVAAAAAAACAP0DNzMzMzAxAQDMzMzMzsz9AAAAAAAAARkCamZmZmVlFQDMzMzMzs0JAzczMzMxMQUCamZmZmZlLQJqZmZmZmUpAMzMzMzOzQkDNzMzMzEw/QM3MzMzMDElAmpmZmZmZR0CamZmZmRlGQGZmZmZmJkFAzczMzMwMTEBmZmZmZqZBQGZmZmZmJkVAmpmZmZkZPEDNzMzMzEw/QM3MzMzMTEdAzczMzMwMSUCamZmZmZlAQAAAAAAAgEdAAAAAAAAASEBmZmZmZqZDQDMzMzMzM0VAmpmZmZlZSkBmZmZmZuY8QJqZmZmZ2UtAZmZmZmZmQEBmZmZmZiZDQJqZmZmZGTdAZmZmZmbmP0AzMzMzMzM/QDMzMzMzc0RAzczMzMxMQkBmZmZmZuY5QAAAAAAAADRAZmZmZmbmPEAAAAAAAMBFQM3MzMzMDElAzczMzMwMREDNzMzMzMxFQAAAAAAAAEBAmpmZmZkZPUAzMzMzMzNAQJqZmZmZ2UNAMzMzMzMzPUBmZmZmZiZKQDMzMzMzc0JAAAAAAAAAO0CamZmZmRlAQAAAAAAAgDtAzczMzMzMQUAAAAAAAMBQQDMzMzMzc0BAZmZmZmbmNEDNzMzMzAxBQGZmZmZmJkJAmpmZmZlZSUCamZmZmdlMQJqZmZmZ2UVAMzMzMzPzQkDNzMzMzAxIQGZmZmZmpkRAAAAAAADAREDNzMzMzIxAQAAAAAAAAEVAmpmZmZmZSEAAAAAAAIA3QJqZmZmZGTpAAAAAAACARkBmZmZmZmY/QJqZmZmZGT9AzczMzMyMRkDNzMzMzMxEQJqZmZmZGTNAAAAAAACAQUAAAAAAAMBGQDMzMzMzc0NAAAAAAADAQUDNzMzMzExJQAAAAAAAQENAZmZmZmZmPkDNzMzMzMxAQM3MzMzMTEBAAAAAAAAAOkDNzMzMzAxFQAAAAAAAgERAAAAAAABASEBmZmZmZmY9QDMzMzMzMzRAmpmZmZlZUUA=",
          "dtype": "f8"
         },
         "yaxis": "y"
        },
        {
         "hovertemplate": "Month=MAY<br>Year=%{x}<br>Rainfall (mm)=%{y}<extra></extra>",
         "legendgroup": "MAY",
         "line": {
          "color": "rgb(128,177,211)",
          "dash": "solid"
         },
         "marker": {
          "symbol": "circle"
         },
         "mode": "lines",
         "name": "MAY",
         "showlegend": true,
         "type": "scattergl",
         "x": {
          "bdata": "bQduB28HcAdxB3IHcwd0B3UHdgd3B3gHeQd6B3sHfAd9B34HfweAB4EHggeDB4QHhQeGB4cHiAeJB4oHiweMB40HjgePB5AHkQeSB5MHlAeVB5YHlweYB5kHmgebB5wHnQeeB58HoAehB6IHowekB6UHpgenB6gHqQeqB6sHrAetB64HrwewB7EHsgezB7QHtQe2B7cHuAe5B7oHuwe8B70Hvge/B8AHwQfCB8MHxAfFB8YHxwfIB8kHygfLB8wHzQfOB88H0AfRB9IH0wfUB9UH1gfXB9gH2QfaB9sH3AfdB94H3wc=",
          "dtype": "i2"
         },
         "xaxis": "x",
         "y": {
          "bdata": "ZmZmZmZmSUBmZmZmZiZIQAAAAAAAwE1AmpmZmZkZUkCamZmZmdlLQJqZmZmZWUJAzczMzMxMQEAzMzMzM7NGQM3MzMzMDEpAAAAAAADAREDNzMzMzMxHQAAAAAAAgEVAzczMzMxMUkAAAAAAAGBRQJqZmZmZWU9AAAAAAADATUAAAAAAAMBSQDMzMzMzs1lAAAAAAABATkAzMzMzM/NKQDMzMzMzs0hAAAAAAACASECamZmZmVlOQJqZmZmZGVBAZmZmZmYGWkDNzMzMzExNQGZmZmZm5klAZmZmZmYmS0DNzMzMzGxQQJqZmZmZWUxAZmZmZmamTUAzMzMzM1NVQM3MzMzMzFlAAAAAAAAASEBmZmZmZuZBQJqZmZmZuVRAzczMzMyMTEBmZmZmZqZRQJqZmZmZGURAzczMzMxMVEAzMzMzMxNUQDMzMzMzc1BAzczMzMzsV0DNzMzMzIxOQGZmZmZm5kpAMzMzMzPTUUAAAAAAAIBLQGZmZmZmhlZAZmZmZmZGVkBmZmZmZqZIQDMzMzMz801AmpmZmZmZUEBmZmZmZqZHQAAAAAAAgEpAzczMzMyMUkCamZmZmRlVQGZmZmZmBlJAmpmZmZn5U0CamZmZmdlSQM3MzMzMTExAZmZmZmZGU0BmZmZmZqZRQM3MzMzMzE1AzczMzMzMSUCamZmZmZlJQAAAAAAAgExAMzMzMzMzRUCamZmZmVlHQJqZmZmZmU9AMzMzMzMTUUCamZmZmblSQM3MzMzMzEtAAAAAAAAATEBmZmZmZqZPQJqZmZmZ2UhAmpmZmZkZRkAzMzMzM/NUQAAAAAAAQE1AmpmZmZnZSUCamZmZmVlLQAAAAAAAwFBAzczMzMzMTUBmZmZmZsZRQAAAAAAAwE1AzczMzMwMTkCamZmZmVlIQDMzMzMzk1BAMzMzMzMzUUAzMzMzM/NLQAAAAAAAoFxAAAAAAADgUECamZmZmRlMQAAAAAAAYFFAzczMzMwMSkDNzMzMzCxUQM3MzMzMzEtAAAAAAACAR0AAAAAAAMBJQDMzMzMzk1dAAAAAAABgUkBmZmZmZqZOQJqZmZmZ2UxAzczMzMxMQ0AAAAAAAKBSQGZmZmZmJklAzczMzMwsVEAzMzMzMzNJQJqZmZmZmUZAzczMzMxMTEAAAAAAAEBRQM3MzMzMzElAzczMzMwMQEAAAAAAAEBMQDMzMzMzM1JAZmZmZmbmSkA=",
          "dtype": "f8"
         },
         "yaxis": "y"
        },
        {
         "hovertemplate": "Month=JUN<br>Year=%{x}<br>Rainfall (mm)=%{y}<extra></extra>",
         "legendgroup": "JUN",
         "line": {
          "color": "rgb(253,180,98)",
          "dash": "solid"
         },
         "marker": {
          "symbol": "circle"
         },
         "mode": "lines",
         "name": "JUN",
         "showlegend": true,
         "type": "scattergl",
         "x": {
          "bdata": "bQduB28HcAdxB3IHcwd0B3UHdgd3B3gHeQd6B3sHfAd9B34HfweAB4EHggeDB4QHhQeGB4cHiAeJB4oHiweMB40HjgePB5AHkQeSB5MHlAeVB5YHlweYB5kHmgebB5wHnQeeB58HoAehB6IHowekB6UHpgenB6gHqQeqB6sHrAetB64HrwewB7EHsgezB7QHtQe2B7cHuAe5B7oHuwe8B70Hvge/B8AHwQfCB8MHxAfFB8YHxwfIB8kHygfLB8wHzQfOB88H0AfRB9IH0wfUB9UH1gfXB9gH2QfaB9sH3AfdB94H3wc=",
          "dtype": "i2"
         },
         "xaxis": "x",
         "y": {
          "bdata": "mpmZmZlZXEAzMzMzMzNbQDMzMzMzk11AmpmZmZmZZEAzMzMzM1NXQDMzMzMzI2ZAzczMzMxMY0CamZmZmZlfQGZmZmZmBmpAAAAAAACwakDNzMzMzPxnQDMzMzMzs1pAzczMzMzMakCamZmZmeljQM3MzMzMfGNAZmZmZmZmbUCamZmZmflsQDMzMzMzk2pAZmZmZmZmaEDNzMzMzHxkQM3MzMzMPGhAZmZmZmZWaUDNzMzMzKxZQAAAAAAA8GBAZmZmZmYmakAAAAAAAMBYQM3MzMzMbGZAMzMzMzNjZkCamZmZmVloQGZmZmZmxmZAAAAAAADQYEAAAAAAANBhQGZmZmZmRmtAZmZmZmbmakAzMzMzM/NjQAAAAAAAIG9AAAAAAABgZEAAAAAAADhxQGZmZmZmhmVAAAAAAADwZUAzMzMzM5NlQGZmZmZm1mdAAAAAAAAQZUAzMzMzM6NjQAAAAAAA0GNAmpmZmZm5akDNzMzMzExgQGZmZmZmhmRAMzMzMzNjZEAAAAAAAMBgQM3MzMzMHGRAMzMzMzOzZEAzMzMzM1NkQGZmZmZm5mFAmpmZmZlJZkBmZmZmZnZqQAAAAAAAYGNAmpmZmZn5XkBmZmZmZhZlQDMzMzMz42NAMzMzMzMDaECamZmZmQlhQAAAAAAAsGRAzczMzMwMZkAzMzMzM/NcQM3MzMzMLGZAzczMzMwcYkAAAAAAAIBiQJqZmZmZOWBAmpmZmZmZakAAAAAAAJBsQAAAAAAAwF5AAAAAAABwYkAzMzMzM7NeQDMzMzMzM2ZAAAAAAABgY0CamZmZmWlnQM3MzMzMTGpAmpmZmZmpYUDNzMzMzKxsQAAAAAAAIGNAzczMzMwcYUBmZmZmZgZjQAAAAAAAAGhAZmZmZmaGY0BmZmZmZtZmQGZmZmZmpmBAAAAAAADgY0CamZmZmUlnQAAAAAAAQGhAZmZmZmYGZ0BmZmZmZmZhQJqZmZmZWWVAAAAAAADAaUAzMzMzM5NhQM3MzMzM7GZAMzMzMzNzZUCamZmZmYlkQJqZmZmZaWVAAAAAAAAQZ0AzMzMzM+NqQDMzMzMzQ2VAAAAAAACQZECamZmZmflkQM3MzMzMXGJAzczMzMzsYkDNzMzMzCxpQJqZmZmZGWpAAAAAAACgVUDNzMzMzJxhQJqZmZmZ2WZAAAAAAABAX0DNzMzMzDxrQAAAAAAA4FdAmpmZmZkZaEA=",
          "dtype": "f8"
         },
         "yaxis": "y"
        },
        {
         "hovertemplate": "Month=JUL<br>Year=%{x}<br>Rainfall (mm)=%{y}<extra></extra>",
         "legendgroup": "JUL",
         "line": {
          "color": "rgb(179,222,105)",
          "dash": "solid"
         },
         "marker": {
          "symbol": "circle"
         },
         "mode": "lines",
         "name": "JUL",
         "showlegend": true,
         "type": "scattergl",
         "x": {
          "bdata": "bQduB28HcAdxB3IHcwd0B3UHdgd3B3gHeQd6B3sHfAd9B34HfweAB4EHggeDB4QHhQeGB4cHiAeJB4oHiweMB40HjgePB5AHkQeSB5MHlAeVB5YHlweYB5kHmgebB5wHnQeeB58HoAehB6IHowekB6UHpgenB6gHqQeqB6sHrAetB64HrwewB7EHsgezB7QHtQe2B7cHuAe5B7oHuwe8B70Hvge/B8AHwQfCB8MHxAfFB8YHxwfIB8kHygfLB8wHzQfOB88H0AfRB9IH0wfUB9UH1gfXB9gH2QfaB9sH3AfdB94H3wc=",
          "dtype": "i2"
         },
         "xaxis": "x",
         "y": {
          "bdata": "ZmZmZmZGbkAAAAAAAMBxQAAAAAAAkHJAAAAAAABQcECamZmZmZlvQGZmZmZm1nFAzczMzMwsbEAzMzMzM3N0QGZmZmZmVnNAmpmZmZlJb0BmZmZmZlZkQAAAAAAAkHRAZmZmZmYGcUDNzMzMzLR1QAAAAAAAwGxAmpmZmZmxcEAzMzMzM9NxQJqZmZmZ+WZAzczMzMxUc0AAAAAAAJhyQAAAAAAAmHJAzczMzMzcc0AAAAAAADh1QAAAAAAAgHRAzczMzMwsc0BmZmZmZg50QAAAAAAA8HVAmpmZmZkpc0DNzMzMzKxyQAAAAAAASHJAZmZmZmZedEAAAAAAAPh0QAAAAAAAwHFAAAAAAADYcUBmZmZmZuZzQGZmZmZmhnJAMzMzMzM7dUAAAAAAAAhzQAAAAAAAUHFAzczMzMycc0CamZmZmRluQJqZmZmZkXVAAAAAAACIc0AzMzMzMyt2QAAAAAAA8HRAzczMzMz0c0AAAAAAALBzQM3MzMzMvHVAAAAAAADwc0AzMzMzM7N0QM3MzMzMrG9AAAAAAADocUCamZmZmRl0QJqZmZmZeXJAmpmZmZmJbUAAAAAAALB2QAAAAAAAKHNAAAAAAAAAdECamZmZmZF3QJqZmZmZ6XNAmpmZmZkxdUBmZmZmZq5xQM3MzMzMHHBAzczMzMyEdUAzMzMzM9NwQM3MzMzMfG9AmpmZmZkJc0CamZmZmVlzQDMzMzMz63NAZmZmZmambkAzMzMzM8twQAAAAAAAsGlAzczMzMx0cUDNzMzMzIRxQGZmZmZmRnNAMzMzMzOTckBmZmZmZm50QJqZmZmZQXJAmpmZmZnpbUDNzMzMzKRyQJqZmZmZSXNAmpmZmZkJbUAAAAAAAKhxQAAAAAAA6HFAzczMzMwUckBmZmZmZlZwQJqZmZmZuWtAZmZmZmb2d0DNzMzMzORyQDMzMzMz63FAZmZmZmaWcUAzMzMzM+NwQAAAAAAAOHNAZmZmZmYWdkAzMzMzM1t0QGZmZmZmpnBAAAAAAACYcUCamZmZmaFxQDMzMzMza3BAmpmZmZm5cECamZmZmZFxQM3MzMzMXGFAmpmZmZkZc0BmZmZmZjZuQM3MzMzMRHVAAAAAAACockDNzMzMzHxyQAAAAAAAQG9AMzMzMzO7cUCamZmZmVlyQAAAAAAAYG5AmpmZmZkhcEBmZmZmZhZzQM3MzMzMLHBAzczMzMxMbkA=",
          "dtype": "f8"
         },
         "yaxis": "y"
        },
        {
         "hovertemplate": "Month=AUG<br>Year=%{x}<br>Rainfall (mm)=%{y}<extra></extra>",
         "legendgroup": "AUG",
         "line": {
          "color": "rgb(252,205,229)",
          "dash": "solid"
         },
         "marker": {
          "symbol": "circle"
         },
         "mode": "lines",
         "name": "AUG",
         "showlegend": true,
         "type": "scattergl",
         "x": {
          "bdata": "bQduB28HcAdxB3IHcwd0B3UHdgd3B3gHeQd6B3sHfAd9B34HfweAB4EHggeDB4QHhQeGB4cHiAeJB4oHiweMB40HjgePB5AHkQeSB5MHlAeVB5YHlweYB5kHmgebB5wHnQeeB58HoAehB6IHowekB6UHpgenB6gHqQeqB6sHrAetB64HrwewB7EHsgezB7QHtQe2B7cHuAe5B7oHuwe8B70Hvge/B8AHwQfCB8MHxAfFB8YHxwfIB8kHygfLB8wHzQfOB88H0AfRB9IH0wfUB9UH1gfXB9gH2QfaB9sH3AfdB94H3wc=",
          "dtype": "i2"
         },
         "xaxis": "x",
         "y": {
          "bdata": "ZmZmZmYOcUBmZmZmZvZoQGZmZmZm5nBAzczMzMzMaUCamZmZmRlpQDMzMzMzY29AZmZmZmZmc0DNzMzMzIxzQAAAAAAAYG1AzczMzMwcckAAAAAAALBqQM3MzMzMVHBAzczMzMw8aECamZmZmRluQDMzMzMzw2xAAAAAAABoc0AAAAAAAIhyQGZmZmZmVm5AAAAAAAAYckBmZmZmZvZnQAAAAAAAaHFAZmZmZmbWa0AAAAAAAFBxQJqZmZmZcXBAzczMzMzcbUAAAAAAAPh0QM3MzMzMNHBAmpmZmZkZbUDNzMzMzNxuQAAAAAAA0GpAAAAAAABQc0AzMzMzM+NtQAAAAAAAyHNAMzMzMzPLckBmZmZmZgZvQJqZmZmZOW5AAAAAAABQakAAAAAAAHBvQM3MzMzMTG1AMzMzMzOjcUBmZmZmZtZsQGZmZmZmVnJAmpmZmZlZbUCamZmZmTlyQGZmZmZm9m5AmpmZmZmJckCamZmZmTFyQM3MzMzMnHFAAAAAAACAbkCamZmZmWltQDMzMzMz02tAzczMzMwMcEBmZmZmZt5yQDMzMzMzA21AmpmZmZkJdECamZmZmUFwQDMzMzMzW3FAzczMzMxUdECamZmZmalwQGZmZmZmpm9AZmZmZmYGckAAAAAAAFBxQDMzMzMz03NAmpmZmZkpcUCamZmZmQloQDMzMzMzA2tAZmZmZmZucEAAAAAAAIBqQGZmZmZmBnFAmpmZmZmZc0AAAAAAANBwQJqZmZmZuWtAAAAAAACIc0AAAAAAAABtQJqZmZmZKXJAAAAAAAB4ckAAAAAAAPBuQAAAAAAAyHFAmpmZmZlpakCamZmZmbFwQGZmZmZm5m1AZmZmZmY+cUCamZmZmTlzQGZmZmZmbnBAAAAAAAAwbUAAAAAAADBtQGZmZmZmZm5AzczMzMz0ckBmZmZmZsZtQDMzMzMzU3JAMzMzMzNzcEAAAAAAAAByQM3MzMzMrGlAZmZmZmb+cUDNzMzMzMxwQGZmZmZmdnJAAAAAAABAcEAAAAAAAEBvQJqZmZmZOWtAZmZmZmYmbEAAAAAAAEBqQGZmZmZmxm5AmpmZmZn5bkAAAAAAAJBvQAAAAAAAAGhAmpmZmZnpckAzMzMzMzNwQM3MzMzMhHBAzczMzMz8Z0DNzMzMzARxQJqZmZmZyXFAZmZmZmZ+cEDNzMzMzAxvQM3MzMzMvG1AZmZmZmamaUA=",
          "dtype": "f8"
         },
         "yaxis": "y"
        },
        {
         "hovertemplate": "Month=SEP<br>Year=%{x}<br>Rainfall (mm)=%{y}<extra></extra>",
         "legendgroup": "SEP",
         "line": {
          "color": "rgb(217,217,217)",
          "dash": "solid"
         },
         "marker": {
          "symbol": "circle"
         },
         "mode": "lines",
         "name": "SEP",
         "showlegend": true,
         "type": "scattergl",
         "x": {
          "bdata": "bQduB28HcAdxB3IHcwd0B3UHdgd3B3gHeQd6B3sHfAd9B34HfweAB4EHggeDB4QHhQeGB4cHiAeJB4oHiweMB40HjgePB5AHkQeSB5MHlAeVB5YHlweYB5kHmgebB5wHnQeeB58HoAehB6IHowekB6UHpgenB6gHqQeqB6sHrAetB64HrwewB7EHsgezB7QHtQe2B7cHuAe5B7oHuwe8B70Hvge/B8AHwQfCB8MHxAfFB8YHxwfIB8kHygfLB8wHzQfOB88H0AfRB9IH0wfUB9UH1gfXB9gH2QfaB9sH3AfdB94H3wc=",
          "dtype": "i2"
         },
         "xaxis": "x",
         "y": {
          "bdata": "mpmZmZkZX0AAAAAAADBpQDMzMzMz42hAMzMzMzMzYEDNzMzMzExmQGZmZmZm1mZAmpmZmZk5WEAAAAAAANBiQDMzMzMzc2RAmpmZmZlZZ0CamZmZmclmQDMzMzMzE15AmpmZmZkZW0CamZmZmUloQAAAAAAAgGVAMzMzMzMzaUAAAAAAAJBxQM3MzMzMbFtAMzMzMzNzZEAAAAAAAMBeQDMzMzMz02lAZmZmZmZWaUBmZmZmZlZmQAAAAAAAUG5AZmZmZma2YUAAAAAAAGBqQDMzMzMzo2VAzczMzMwMYkBmZmZmZqZfQGZmZmZmFmZAMzMzMzMzaEAAAAAAAMBmQAAAAAAA8GpAAAAAAAAgZUAzMzMzM2NnQAAAAAAAUGhAAAAAAADgZUBmZmZmZlZlQJqZmZmZeWNAAAAAAABgX0AzMzMzM4NjQM3MzMzMDGdAmpmZmZmZakCamZmZmcljQAAAAAAA8GpAAAAAAAAgYkDNzMzMzNxtQM3MzMzMbGZAMzMzMzMzbEBmZmZmZnZpQJqZmZmZGV9AzczMzMwsXkBmZmZmZmZmQGZmZmZmFm9AZmZmZmZWa0AAAAAAAKBkQJqZmZmZiWBAmpmZmZm5bECamZmZmeltQM3MzMzMjGZAZmZmZmaGbUAAAAAAAIBqQM3MzMzMrGRAzczMzMzcaEAzMzMzM2NgQJqZmZmZmWJAzczMzMxMZUCamZmZmSlgQM3MzMzM3GVAMzMzMzODakBmZmZmZnZiQDMzMzMzI2BAAAAAAADQZkAzMzMzM8NhQGZmZmZmlmxAZmZmZmYWYkAAAAAAAHBiQDMzMzMzI2RAZmZmZmb2YEAzMzMzMzNiQDMzMzMzU2dAMzMzMzNTX0CamZmZmelvQM3MzMzMLGJAZmZmZmb2YkAAAAAAAGBfQJqZmZmZ6WJAzczMzMyMa0AzMzMzM4NkQDMzMzMzk2hAmpmZmZl5YUCamZmZmUllQGZmZmZmZmpAZmZmZmbWYkAzMzMzM6NmQM3MzMzMTGJAMzMzMzPDYkAzMzMzMyNpQDMzMzMzQ2dAmpmZmZnpYEDNzMzMzExbQM3MzMzMvGBAzczMzMx8ZkBmZmZmZuZeQGZmZmZmFmlAzczMzMzsZUAzMzMzM+NqQGZmZmZmtmRAmpmZmZmJYUAzMzMzM3NoQAAAAAAA0GdAZmZmZma2aEDNzMzMzIxiQM3MzMzMfGdAmpmZmZl5YEA=",
          "dtype": "f8"
         },
         "yaxis": "y"
        },
        {
         "hovertemplate": "Month=OCT<br>Year=%{x}<br>Rainfall (mm)=%{y}<extra></extra>",
         "legendgroup": "OCT",
         "line": {
          "color": "rgb(188,128,189)",
          "dash": "solid"
         },
         "marker": {
          "symbol": "circle"
         },
         "mode": "lines",
         "name": "OCT",
         "showlegend": true,
         "type": "scattergl",
         "x": {
          "bdata": "bQduB28HcAdxB3IHcwd0B3UHdgd3B3gHeQd6B3sHfAd9B34HfweAB4EHggeDB4QHhQeGB4cHiAeJB4oHiweMB40HjgePB5AHkQeSB5MHlAeVB5YHlweYB5kHmgebB5wHnQeeB58HoAehB6IHowekB6UHpgenB6gHqQeqB6sHrAetB64HrwewB7EHsgezB7QHtQe2B7cHuAe5B7oHuwe8B70Hvge/B8AHwQfCB8MHxAfFB8YHxwfIB8kHygfLB8wHzQfOB88H0AfRB9IH0wfUB9UH1gfXB9gH2QfaB9sH3AfdB94H3wc=",
          "dtype": "i2"
         },
         "xaxis": "x",
         "y": {
          "bdata": "mpmZmZlZSkAAAAAAAMBOQJqZmZmZeV1AAAAAAABAUUAzMzMzM7NJQM3MzMzMzEhAMzMzMzOzNkAAAAAAAMBCQGZmZmZmJkNAmpmZmZnZWkBmZmZmZqZRQDMzMzMz80tAAAAAAADAUEAAAAAAAEBIQDMzMzMzk1ZAZmZmZmZGYUCamZmZmdljQAAAAAAAADRAAAAAAAAgV0DNzMzMzAxGQGZmZmZmxlFAAAAAAACATkAzMzMzM3NOQM3MzMzMjFBAMzMzMzMzUUBmZmZmZqZMQM3MzMzMTFFAmpmZmZkZYECamZmZmRlXQDMzMzMzs1dAAAAAAAAgX0DNzMzMzExRQJqZmZmZmVdAAAAAAADAT0DNzMzMzIxIQJqZmZmZuVBAmpmZmZnZV0AzMzMzM1NTQDMzMzMz81ZAMzMzMzNzTkCamZmZmVlPQAAAAAAAwEFAAAAAAADgVUBmZmZmZiZXQJqZmZmZeVRAmpmZmZnZVECamZmZmVlRQGZmZmZm5k1AzczMzMxsWEBmZmZmZiZMQM3MzMzMbFJAZmZmZmbmU0BmZmZmZiZVQJqZmZmZeVJAmpmZmZnpYkCamZmZmQljQGZmZmZmRlBAAAAAAADgXUAAAAAAAABeQAAAAAAAQFFAMzMzMzOzXkDNzMzMzGxTQGZmZmZmhlhAmpmZmZl5UEAAAAAAAMBAQJqZmZmZWUxAZmZmZmYmREDNzMzMzOxQQM3MzMzMDEtAmpmZmZl5UkBmZmZmZiZZQAAAAAAAgFBAMzMzMzOTXECamZmZmZlZQJqZmZmZOV5AAAAAAAAAQECamZmZmdlUQGZmZmZmZkhAzczMzMwMSUBmZmZmZiZJQM3MzMzMjEVAMzMzMzPzSUAAAAAAAKBVQGZmZmZmJk5AzczMzMysXEBmZmZmZqZRQAAAAAAAQFdAzczMzMyMS0CamZmZmVlJQM3MzMzMzFlAMzMzMzMzTkAzMzMzMxNQQDMzMzMzs1VAmpmZmZn5U0DNzMzMzAxUQJqZmZmZ+VdAAAAAAACATUBmZmZmZoZaQAAAAAAAAF1AzczMzMxMREDNzMzMzGxYQDMzMzMzM0tAzczMzMwsV0AzMzMzMzNWQM3MzMzMDFhAZmZmZmYmSkBmZmZmZqZLQAAAAAAAQElAZmZmZmaGUUDNzMzMzOxQQAAAAAAAQEJAZmZmZmbmTUDNzMzMzBxgQDMzMzMzc05AMzMzMzNzRUA=",
          "dtype": "f8"
         },
         "yaxis": "y"
        },
        {
         "hovertemplate": "Month=NOV<br>Year=%{x}<br>Rainfall (mm)=%{y}<extra></extra>",
         "legendgroup": "NOV",
         "line": {
          "color": "rgb(204,235,197)",
          "dash": "solid"
         },
         "marker": {
          "symbol": "circle"
         },
         "mode": "lines",
         "name": "NOV",
         "showlegend": true,
         "type": "scattergl",
         "x": {
          "bdata": "bQduB28HcAdxB3IHcwd0B3UHdgd3B3gHeQd6B3sHfAd9B34HfweAB4EHggeDB4QHhQeGB4cHiAeJB4oHiweMB40HjgePB5AHkQeSB5MHlAeVB5YHlweYB5kHmgebB5wHnQeeB58HoAehB6IHowekB6UHpgenB6gHqQeqB6sHrAetB64HrwewB7EHsgezB7QHtQe2B7cHuAe5B7oHuwe8B70Hvge/B8AHwQfCB8MHxAfFB8YHxwfIB8kHygfLB8wHzQfOB88H0AfRB9IH0wfUB9UH1gfXB9gH2QfaB9sH3AfdB94H3wc=",
          "dtype": "i2"
         },
         "xaxis": "x",
         "y": {
          "bdata": "AAAAAAAAQ0BmZmZmZuY7QDMzMzMzc0JAZmZmZmZmJkBmZmZmZmYjQM3MzMzMzDFAAAAAAACANkAAAAAAAAAaQJqZmZmZmSNAAAAAAACAQUBmZmZmZmZFQGZmZmZmZklAZmZmZmZmMUCamZmZmRk1QM3MzMzMDEZAzczMzMzMRkAzMzMzMzM8QM3MzMzMjERAZmZmZmbmSEAAAAAAAIA4QAAAAAAAAC1AAAAAAADAS0BmZmZmZmYzQDMzMzMz80xAMzMzMzPzQ0AzMzMzMzMlQDMzMzMz80tAmpmZmZmZN0AAAAAAAIAyQM3MzMzMDEtAzczMzMxMREAzMzMzM/NNQAAAAAAAADRAMzMzMzNzQEAzMzMzMzMxQAAAAAAAgEtAzczMzMzMM0BmZmZmZuYxQGZmZmZm5jxAZmZmZmZmQ0DNzMzMzMw6QDMzMzMzMzJAMzMzMzOzMEAAAAAAAAA9QM3MzMzMzDBAzczMzMwsUkBmZmZmZmYeQDMzMzMz81FAMzMzMzMzJEBmZmZmZmY7QM3MzMzMTD9AMzMzMzMzIkAAAAAAAAApQM3MzMzMzAxAmpmZmZkZOkDNzMzMzExFQJqZmZmZmTtAZmZmZmbmPUDNzMzMzMw5QJqZmZmZmT9AAAAAAACANEAAAAAAAAAyQAAAAAAAgDtAZmZmZmbmNUBmZmZmZmYxQGZmZmZmpkhAzczMzMzMJkCamZmZmZk1QJqZmZmZmUJAmpmZmZmZL0AAAAAAAAAvQM3MzMzMTD5AMzMzMzOzMUBmZmZmZmYkQM3MzMzMzDZAMzMzMzMzS0BmZmZmZsZQQDMzMzMzc0hAzczMzMyMUkCamZmZmRk3QDMzMzMzMztAzczMzMxMRkAAAAAAAAAkQJqZmZmZmStAAAAAAACAMkCamZmZmdlHQM3MzMzMzEVAMzMzMzMzL0DNzMzMzEwzQAAAAAAAgD1AzczMzMzMPEBmZmZmZiZEQDMzMzMzMzxAmpmZmZmZOUCamZmZmVlCQJqZmZmZmSpAAAAAAADAS0CamZmZmVlDQDMzMzMzszNAZmZmZmZmLUAAAAAAAIAyQGZmZmZmZi1AZmZmZmZmJEBmZmZmZuYwQDMzMzMzMztAzczMzMwMQEBmZmZmZmYuQJqZmZmZGTlAmpmZmZmZSkCamZmZmVlMQGZmZmZmZjJAZmZmZmbmPEBmZmZmZmYrQAAAAAAAACtAMzMzMzOzQ0A=",
          "dtype": "f8"
         },
         "yaxis": "y"
        },
        {
         "hovertemplate": "Month=DEC<br>Year=%{x}<br>Rainfall (mm)=%{y}<extra></extra>",
         "legendgroup": "DEC",
         "line": {
          "color": "rgb(255,237,111)",
          "dash": "solid"
         },
         "marker": {
          "symbol": "circle"
         },
         "mode": "lines",
         "name": "DEC",
         "showlegend": true,
         "type": "scattergl",
         "x": {
          "bdata": "bQduB28HcAdxB3IHcwd0B3UHdgd3B3gHeQd6B3sHfAd9B34HfweAB4EHggeDB4QHhQeGB4cHiAeJB4oHiweMB40HjgePB5AHkQeSB5MHlAeVB5YHlweYB5kHmgebB5wHnQeeB58HoAehB6IHowekB6UHpgenB6gHqQeqB6sHrAetB64HrwewB7EHsgezB7QHtQe2B7cHuAe5B7oHuwe8B70Hvge/B8AHwQfCB8MHxAfFB8YHxwfIB8kHygfLB8wHzQfOB88H0AfRB9IH0wfUB9UH1gfXB9gH2QfaB9sH3AfdB94H3wc=",
          "dtype": "i2"
         },
         "xaxis": "x",
         "y": {
          "bdata": "mpmZmZmZIEBmZmZmZmY4QDMzMzMzszFAzczMzMxMMEAAAAAAAAAlQGZmZmZm5jdAMzMzMzMzKEBmZmZmZmYhQDMzMzMzMz5AmpmZmZmZGUAAAAAAAAAoQDMzMzMzMxdAZmZmZmbmN0AAAAAAAIA2QAAAAAAAACFAzczMzMzMCECamZmZmZkkQGZmZmZmZjBAAAAAAACAM0BmZmZmZmYKQDMzMzMzMzFAAAAAAAAALUCamZmZmZkwQJqZmZmZGTBAzczMzMzMLEDNzMzMzMwkQJqZmZmZmSVAmpmZmZmZOkAzMzMzM7NFQGZmZmZmZiNAAAAAAAAANUDNzMzMzMwvQAAAAAAAADBAZmZmZmZmJ0CamZmZmZkmQAAAAAAAADdAZmZmZmZmNEDNzMzMzMwUQJqZmZmZmfk/ZmZmZmZmMUAzMzMzM7MzQDMzMzMzMzhAzczMzMzMFEAzMzMzMzMvQGZmZmZmZhRAMzMzMzNzQUAAAAAAAAA3QJqZmZmZmSNAmpmZmZmZE0CamZmZmZkfQJqZmZmZmRdAzczMzMzMNUAAAAAAAAAgQGZmZmZmZitAMzMzMzMzI0BmZmZmZmYpQDMzMzMzMyxAZmZmZmZmLUDNzMzMzMwUQJqZmZmZmSBAZmZmZmZmJEAzMzMzM7M8QDMzMzMzMy1AAAAAAAAAKUCamZmZmRk1QJqZmZmZmTFAMzMzMzMzS0AAAAAAAAAoQDMzMzMzMyhAMzMzMzMz+z8AAAAAAAAoQM3MzMzMTDZAZmZmZmZmMUDNzMzMzMwlQJqZmZmZmQlAmpmZmZmZHUAAAAAAAAAwQAAAAAAAgDJAZmZmZmZmLEAzMzMzM7MzQDMzMzMzMyxAZmZmZmZmK0DNzMzMzMw2QAAAAAAAAC5AAAAAAACAOUAAAAAAAAA8QJqZmZmZmTVAMzMzMzMzMUDNzMzMzMwwQGZmZmZmZjxAAAAAAACAMUBmZmZmZmYUQAAAAAAAAC9AmpmZmZkZNEAAAAAAAAAiQAAAAAAAADFAAAAAAADAR0AAAAAAAAAlQGZmZmZmZg5AMzMzMzMzI0AAAAAAAAAYQM3MzMzMzBRAmpmZmZmZMEBmZmZmZmYYQAAAAAAAACdAZmZmZmZmKUAzMzMzM7MwQJqZmZmZmSVAmpmZmZmZJUCamZmZmRk2QAAAAAAAABpAMzMzMzMzI0DNzMzMzMwYQM3MzMzMzCRAAAAAAAAALkA=",
          "dtype": "f8"
         },
         "yaxis": "y"
        },
        {
         "marker": {
          "color": "red",
          "size": 5,
          "symbol": "circle"
         },
         "mode": "markers",
         "name": "Anomalous Months",
         "type": "scatter",
         "x": {
          "bdata": "AAAAAADMnUAAAAAAANydQAAAAAAA9J1AAAAAAAD4nUAAAAAAALyeQAAAAAAAGJ9AAAAAAADMnUAAAAAAANydQAAAAAAA9J1AAAAAAAD4nUAAAAAAALyeQAAAAAAAGJ9AAAAAAADMnUAAAAAAANydQAAAAAAA9J1AAAAAAAD4nUAAAAAAALyeQAAAAAAAGJ9AAAAAAADMnUAAAAAAANydQAAAAAAA9J1AAAAAAAD4nUAAAAAAALyeQAAAAAAAGJ9AAAAAAADMnUAAAAAAANydQAAAAAAA9J1AAAAAAAD4nUAAAAAAALyeQAAAAAAAGJ9AAAAAAADMnUAAAAAAANydQAAAAAAA9J1AAAAAAAD4nUAAAAAAALyeQAAAAAAAGJ9AAAAAAADMnUAAAAAAANydQAAAAAAA9J1AAAAAAAD4nUAAAAAAALyeQAAAAAAAGJ9AAAAAAADMnUAAAAAAANydQAAAAAAA9J1AAAAAAAD4nUAAAAAAALyeQAAAAAAAGJ9AAAAAAADMnUAAAAAAANydQAAAAAAA9J1AAAAAAAD4nUAAAAAAALyeQAAAAAAAGJ9AAAAAAADMnUAAAAAAANydQAAAAAAA9J1AAAAAAAD4nUAAAAAAALyeQAAAAAAAGJ9AAAAAAADMnUAAAAAAANydQAAAAAAA9J1AAAAAAAD4nUAAAAAAALyeQAAAAAAAGJ9AAAAAAADMnUAAAAAAANydQAAAAAAA9J1AAAAAAAD4nUAAAAAAALyeQAAAAAAAGJ9A",
          "dtype": "f8"
         },
         "y": {
          "bdata": "MzMzMzMzMECamZmZmdlGQGZmZmZmZiFAZmZmZmZmKEBmZmZmZmYmQM3MzMzMzC1AAAAAAAAAR0BmZmZmZmYWQJqZmZmZWUNAmpmZmZmZEUDNzMzMzMwqQGZmZmZmJkZAZmZmZmbmQkAzMzMzM/NIQM3MzMzMzDZAzczMzMzMREBmZmZmZqZPQGZmZmZmpkpAZmZmZmZmT0DNzMzMzMw2QJqZmZmZmUVAZmZmZmZmQ0CamZmZmRk9QAAAAAAAAEVAzczMzMxMQEDNzMzMzMxHQAAAAAAAwFJAMzMzMzOzWUAzMzMzMzNFQAAAAAAAoFxAzczMzMxMY0DNzMzMzPxnQJqZmZmZ+WxAMzMzMzOTakDNzMzMzBxiQAAAAAAAQGhAzczMzMwsbEBmZmZmZlZkQDMzMzMz03FAmpmZmZn5ZkCamZmZmQlzQDMzMzMz63FAZmZmZmZmc0AAAAAAALBqQAAAAAAAiHJAZmZmZmZWbkBmZmZmZm5wQDMzMzMzU3JAmpmZmZk5WECamZmZmclmQAAAAAAAkHFAzczMzMxsW0DNzMzMzExlQDMzMzMzk2hAMzMzMzOzNkBmZmZmZqZRQJqZmZmZ2WNAAAAAAAAANEBmZmZmZiZEQM3MzMzMzFlAAAAAAACANkBmZmZmZmZFQDMzMzMzMzxAzczMzMyMREDNzMzMzMwmQAAAAAAAgD1AMzMzMzMzKEAAAAAAAAAoQJqZmZmZmSRAZmZmZmZmMEAzMzMzMzNLQGZmZmZmZjxA",
          "dtype": "f8"
         }
        }
       ],
       "layout": {
        "height": 500,
        "legend": {
         "title": {
          "text": "Legend"
         },
         "tracegroupgap": 0
        },
        "template": {
         "data": {
          "bar": [
           {
            "error_x": {
             "color": "#2a3f5f"
            },
            "error_y": {
             "color": "#2a3f5f"
            },
            "marker": {
             "line": {
              "color": "white",
              "width": 0.5
             },
             "pattern": {
              "fillmode": "overlay",
              "size": 10,
              "solidity": 0.2
             }
            },
            "type": "bar"
           }
          ],
          "barpolar": [
           {
            "marker": {
             "line": {
              "color": "white",
              "width": 0.5
             },
             "pattern": {
              "fillmode": "overlay",
              "size": 10,
              "solidity": 0.2
             }
            },
            "type": "barpolar"
           }
          ],
          "carpet": [
           {
            "aaxis": {
             "endlinecolor": "#2a3f5f",
             "gridcolor": "#C8D4E3",
             "linecolor": "#C8D4E3",
             "minorgridcolor": "#C8D4E3",
             "startlinecolor": "#2a3f5f"
            },
            "baxis": {
             "endlinecolor": "#2a3f5f",
             "gridcolor": "#C8D4E3",
             "linecolor": "#C8D4E3",
             "minorgridcolor": "#C8D4E3",
             "startlinecolor": "#2a3f5f"
            },
            "type": "carpet"
           }
          ],
          "choropleth": [
           {
            "colorbar": {
             "outlinewidth": 0,
             "ticks": ""
            },
            "type": "choropleth"
           }
          ],
          "contour": [
           {
            "colorbar": {
             "outlinewidth": 0,
             "ticks": ""
            },
            "colorscale": [
             [
              0,
              "#0d0887"
             ],
             [
              0.1111111111111111,
              "#46039f"
             ],
             [
              0.2222222222222222,
              "#7201a8"
             ],
             [
              0.3333333333333333,
              "#9c179e"
             ],
             [
              0.4444444444444444,
              "#bd3786"
             ],
             [
              0.5555555555555556,
              "#d8576b"
             ],
             [
              0.6666666666666666,
              "#ed7953"
             ],
             [
              0.7777777777777778,
              "#fb9f3a"
             ],
             [
              0.8888888888888888,
              "#fdca26"
             ],
             [
              1,
              "#f0f921"
             ]
            ],
            "type": "contour"
           }
          ],
          "contourcarpet": [
           {
            "colorbar": {
             "outlinewidth": 0,
             "ticks": ""
            },
            "type": "contourcarpet"
           }
          ],
          "heatmap": [
           {
            "colorbar": {
             "outlinewidth": 0,
             "ticks": ""
            },
            "colorscale": [
             [
              0,
              "#0d0887"
             ],
             [
              0.1111111111111111,
              "#46039f"
             ],
             [
              0.2222222222222222,
              "#7201a8"
             ],
             [
              0.3333333333333333,
              "#9c179e"
             ],
             [
              0.4444444444444444,
              "#bd3786"
             ],
             [
              0.5555555555555556,
              "#d8576b"
             ],
             [
              0.6666666666666666,
              "#ed7953"
             ],
             [
              0.7777777777777778,
              "#fb9f3a"
             ],
             [
              0.8888888888888888,
              "#fdca26"
             ],
             [
              1,
              "#f0f921"
             ]
            ],
            "type": "heatmap"
           }
          ],
          "histogram": [
           {
            "marker": {
             "pattern": {
              "fillmode": "overlay",
              "size": 10,
              "solidity": 0.2
             }
            },
            "type": "histogram"
           }
          ],
          "histogram2d": [
           {
            "colorbar": {
             "outlinewidth": 0,
             "ticks": ""
            },
            "colorscale": [
             [
              0,
              "#0d0887"
             ],
             [
              0.1111111111111111,
              "#46039f"
             ],
             [
              0.2222222222222222,
              "#7201a8"
             ],
             [
              0.3333333333333333,
              "#9c179e"
             ],
             [
              0.4444444444444444,
              "#bd3786"
             ],
             [
              0.5555555555555556,
              "#d8576b"
             ],
             [
              0.6666666666666666,
              "#ed7953"
             ],
             [
              0.7777777777777778,
              "#fb9f3a"
             ],
             [
              0.8888888888888888,
              "#fdca26"
             ],
             [
              1,
              "#f0f921"
             ]
            ],
            "type": "histogram2d"
           }
          ],
          "histogram2dcontour": [
           {
            "colorbar": {
             "outlinewidth": 0,
             "ticks": ""
            },
            "colorscale": [
             [
              0,
              "#0d0887"
             ],
             [
              0.1111111111111111,
              "#46039f"
             ],
             [
              0.2222222222222222,
              "#7201a8"
             ],
             [
              0.3333333333333333,
              "#9c179e"
             ],
             [
              0.4444444444444444,
              "#bd3786"
             ],
             [
              0.5555555555555556,
              "#d8576b"
             ],
             [
              0.6666666666666666,
              "#ed7953"
             ],
             [
              0.7777777777777778,
              "#fb9f3a"
             ],
             [
              0.8888888888888888,
              "#fdca26"
             ],
             [
              1,
              "#f0f921"
             ]
            ],
            "type": "histogram2dcontour"
           }
          ],
          "mesh3d": [
           {
            "colorbar": {
             "outlinewidth": 0,
             "ticks": ""
            },
            "type": "mesh3d"
           }
          ],
          "parcoords": [
           {
            "line": {
             "colorbar": {
              "outlinewidth": 0,
              "ticks": ""
             }
            },
            "type": "parcoords"
           }
          ],
          "pie": [
           {
            "automargin": true,
            "type": "pie"
           }
          ],
          "scatter": [
           {
            "fillpattern": {
             "fillmode": "overlay",
             "size": 10,
             "solidity": 0.2
            },
            "type": "scatter"
           }
          ],
          "scatter3d": [
           {
            "line": {
             "colorbar": {
              "outlinewidth": 0,
              "ticks": ""
             }
            },
            "marker": {
             "colorbar": {
              "outlinewidth": 0,
              "ticks": ""
             }
            },
            "type": "scatter3d"
           }
          ],
          "scattercarpet": [
           {
            "marker": {
             "colorbar": {
              "outlinewidth": 0,
              "ticks": ""
             }
            },
            "type": "scattercarpet"
           }
          ],
          "scattergeo": [
           {
            "marker": {
             "colorbar": {
              "outlinewidth": 0,
              "ticks": ""
             }
            },
            "type": "scattergeo"
           }
          ],
          "scattergl": [
           {
            "marker": {
             "colorbar": {
              "outlinewidth": 0,
              "ticks": ""
             }
            },
            "type": "scattergl"
           }
          ],
          "scattermap": [
           {
            "marker": {
             "colorbar": {
              "outlinewidth": 0,
              "ticks": ""
             }
            },
            "type": "scattermap"
           }
          ],
          "scattermapbox": [
           {
            "marker": {
             "colorbar": {
              "outlinewidth": 0,
              "ticks": ""
             }
            },
            "type": "scattermapbox"
           }
          ],
          "scatterpolar": [
           {
            "marker": {
             "colorbar": {
              "outlinewidth": 0,
              "ticks": ""
             }
            },
            "type": "scatterpolar"
           }
          ],
          "scatterpolargl": [
           {
            "marker": {
             "colorbar": {
              "outlinewidth": 0,
              "ticks": ""
             }
            },
            "type": "scatterpolargl"
           }
          ],
          "scatterternary": [
           {
            "marker": {
             "colorbar": {
              "outlinewidth": 0,
              "ticks": ""
             }
            },
            "type": "scatterternary"
           }
          ],
          "surface": [
           {
            "colorbar": {
             "outlinewidth": 0,
             "ticks": ""
            },
            "colorscale": [
             [
              0,
              "#0d0887"
             ],
             [
              0.1111111111111111,
              "#46039f"
             ],
             [
              0.2222222222222222,
              "#7201a8"
             ],
             [
              0.3333333333333333,
              "#9c179e"
             ],
             [
              0.4444444444444444,
              "#bd3786"
             ],
             [
              0.5555555555555556,
              "#d8576b"
             ],
             [
              0.6666666666666666,
              "#ed7953"
             ],
             [
              0.7777777777777778,
              "#fb9f3a"
             ],
             [
              0.8888888888888888,
              "#fdca26"
             ],
             [
              1,
              "#f0f921"
             ]
            ],
            "type": "surface"
           }
          ],
          "table": [
           {
            "cells": {
             "fill": {
              "color": "#EBF0F8"
             },
             "line": {
              "color": "white"
             }
            },
            "header": {
             "fill": {
              "color": "#C8D4E3"
             },
             "line": {
              "color": "white"
             }
            },
            "type": "table"
           }
          ]
         },
         "layout": {
          "annotationdefaults": {
           "arrowcolor": "#2a3f5f",
           "arrowhead": 0,
           "arrowwidth": 1
          },
          "autotypenumbers": "strict",
          "coloraxis": {
           "colorbar": {
            "outlinewidth": 0,
            "ticks": ""
           }
          },
          "colorscale": {
           "diverging": [
            [
             0,
             "#8e0152"
            ],
            [
             0.1,
             "#c51b7d"
            ],
            [
             0.2,
             "#de77ae"
            ],
            [
             0.3,
             "#f1b6da"
            ],
            [
             0.4,
             "#fde0ef"
            ],
            [
             0.5,
             "#f7f7f7"
            ],
            [
             0.6,
             "#e6f5d0"
            ],
            [
             0.7,
             "#b8e186"
            ],
            [
             0.8,
             "#7fbc41"
            ],
            [
             0.9,
             "#4d9221"
            ],
            [
             1,
             "#276419"
            ]
           ],
           "sequential": [
            [
             0,
             "#0d0887"
            ],
            [
             0.1111111111111111,
             "#46039f"
            ],
            [
             0.2222222222222222,
             "#7201a8"
            ],
            [
             0.3333333333333333,
             "#9c179e"
            ],
            [
             0.4444444444444444,
             "#bd3786"
            ],
            [
             0.5555555555555556,
             "#d8576b"
            ],
            [
             0.6666666666666666,
             "#ed7953"
            ],
            [
             0.7777777777777778,
             "#fb9f3a"
            ],
            [
             0.8888888888888888,
             "#fdca26"
            ],
            [
             1,
             "#f0f921"
            ]
           ],
           "sequentialminus": [
            [
             0,
             "#0d0887"
            ],
            [
             0.1111111111111111,
             "#46039f"
            ],
            [
             0.2222222222222222,
             "#7201a8"
            ],
            [
             0.3333333333333333,
             "#9c179e"
            ],
            [
             0.4444444444444444,
             "#bd3786"
            ],
            [
             0.5555555555555556,
             "#d8576b"
            ],
            [
             0.6666666666666666,
             "#ed7953"
            ],
            [
             0.7777777777777778,
             "#fb9f3a"
            ],
            [
             0.8888888888888888,
             "#fdca26"
            ],
            [
             1,
             "#f0f921"
            ]
           ]
          },
          "colorway": [
           "#636efa",
           "#EF553B",
           "#00cc96",
           "#ab63fa",
           "#FFA15A",
           "#19d3f3",
           "#FF6692",
           "#B6E880",
           "#FF97FF",
           "#FECB52"
          ],
          "font": {
           "color": "#2a3f5f"
          },
          "geo": {
           "bgcolor": "white",
           "lakecolor": "white",
           "landcolor": "white",
           "showlakes": true,
           "showland": true,
           "subunitcolor": "#C8D4E3"
          },
          "hoverlabel": {
           "align": "left"
          },
          "hovermode": "closest",
          "mapbox": {
           "style": "light"
          },
          "paper_bgcolor": "white",
          "plot_bgcolor": "white",
          "polar": {
           "angularaxis": {
            "gridcolor": "#EBF0F8",
            "linecolor": "#EBF0F8",
            "ticks": ""
           },
           "bgcolor": "white",
           "radialaxis": {
            "gridcolor": "#EBF0F8",
            "linecolor": "#EBF0F8",
            "ticks": ""
           }
          },
          "scene": {
           "xaxis": {
            "backgroundcolor": "white",
            "gridcolor": "#DFE8F3",
            "gridwidth": 2,
            "linecolor": "#EBF0F8",
            "showbackground": true,
            "ticks": "",
            "zerolinecolor": "#EBF0F8"
           },
           "yaxis": {
            "backgroundcolor": "white",
            "gridcolor": "#DFE8F3",
            "gridwidth": 2,
            "linecolor": "#EBF0F8",
            "showbackground": true,
            "ticks": "",
            "zerolinecolor": "#EBF0F8"
           },
           "zaxis": {
            "backgroundcolor": "white",
            "gridcolor": "#DFE8F3",
            "gridwidth": 2,
            "linecolor": "#EBF0F8",
            "showbackground": true,
            "ticks": "",
            "zerolinecolor": "#EBF0F8"
           }
          },
          "shapedefaults": {
           "line": {
            "color": "#2a3f5f"
           }
          },
          "ternary": {
           "aaxis": {
            "gridcolor": "#DFE8F3",
            "linecolor": "#A2B1C6",
            "ticks": ""
           },
           "baxis": {
            "gridcolor": "#DFE8F3",
            "linecolor": "#A2B1C6",
            "ticks": ""
           },
           "bgcolor": "white",
           "caxis": {
            "gridcolor": "#DFE8F3",
            "linecolor": "#A2B1C6",
            "ticks": ""
           }
          },
          "title": {
           "x": 0.05
          },
          "xaxis": {
           "automargin": true,
           "gridcolor": "#EBF0F8",
           "linecolor": "#EBF0F8",
           "ticks": "",
           "title": {
            "standoff": 15
           },
           "zerolinecolor": "#EBF0F8",
           "zerolinewidth": 2
          },
          "yaxis": {
           "automargin": true,
           "gridcolor": "#EBF0F8",
           "linecolor": "#EBF0F8",
           "ticks": "",
           "title": {
            "standoff": 15
           },
           "zerolinecolor": "#EBF0F8",
           "zerolinewidth": 2
          }
         }
        },
        "title": {
         "text": "Monthly Rainfall Anomalies in India (1901-2015)"
        },
        "xaxis": {
         "anchor": "y",
         "domain": [
          0,
          1
         ],
         "title": {
          "text": "Year"
         }
        },
        "yaxis": {
         "anchor": "x",
         "domain": [
          0,
          1
         ],
         "title": {
          "text": "Rainfall (mm)"
         }
        }
       }
      }
     },
     "metadata": {},
     "output_type": "display_data"
    }
   ],
   "source": [
    "fig_monthly_anomalies = px.line(\n",
    "    rainfall_data,\n",
    "    x='YEAR',\n",
    "    y=monthly_columns,\n",
    "    labels={'YEAR': 'Year', 'value': 'Rainfall (mm)', 'variable': 'Month'},\n",
    "    title='Monthly Rainfall Anomalies in India (1901-2015)',\n",
    "    color_discrete_sequence=px.colors.qualitative.Set3\n",
    ")\n",
    "\n",
    "fig_monthly_anomalies.add_trace(go.Scatter(\n",
    "    x=monthly_anomalies_df_long['Year'],\n",
    "    y=monthly_anomalies_df_long['Rainfall'],\n",
    "    mode='markers',\n",
    "    name='Anomalous Months',\n",
    "    marker=dict(color='red', size=5, symbol='circle')\n",
    "))\n",
    "\n",
    "fig_monthly_anomalies.update_layout(\n",
    "    template='plotly_white',\n",
    "    legend=dict(title=\"Legend\"),\n",
    "    height=500\n",
    ")\n",
    "\n",
    "fig_monthly_anomalies.show()"
   ]
  },
  {
   "cell_type": "markdown",
   "id": "7b716926",
   "metadata": {},
   "source": [
    "The variability is most pronounced during the monsoon months (June to September), which reflects the critical role of these months in India’s rainfall dynamics. Anomalies in non-monsoon months, while less frequent, highlight periods of unusual weather patterns, potentially linked to climate variability or regional disturbances. This graph underscores the uneven distribution and high dependence on monsoonal rainfall for India’s water resources."
   ]
  },
  {
   "cell_type": "markdown",
   "id": "c046b164",
   "metadata": {},
   "source": [
    "## Correlating Seasonal Rainfall with Annual Totals\n",
    "\n",
    "Now, we will calculate the correlation coefficients between seasonal rainfall and annual rainfall totals to understand how much each season contributes to the overall yearly rainfall:"
   ]
  },
  {
   "cell_type": "code",
   "execution_count": 15,
   "id": "938342b9",
   "metadata": {},
   "outputs": [],
   "source": [
    "# correlation analysis between monsoon (Jun-Sep) rainfall and other seasons\n",
    "seasonal_columns = ['Jan-Feb', 'Mar-May', 'Jun-Sep', 'Oct-Dec']\n",
    "monsoon_column = 'Jun-Sep'\n",
    "relationships = {}\n",
    "\n",
    "for season in seasonal_columns:\n",
    "    if season != monsoon_column:\n",
    "        corr, _ = pearsonr(rainfall_data[monsoon_column], rainfall_data[season])\n",
    "        relationships[season] = corr\n",
    "\n",
    "correlation_data = pd.DataFrame({\n",
    "    'Season': list(relationships.keys()),\n",
    "    'Correlation Coefficient': list(relationships.values())\n",
    "})"
   ]
  },
  {
   "cell_type": "code",
   "execution_count": 16,
   "id": "e4bb519c",
   "metadata": {},
   "outputs": [
    {
     "data": {
      "application/vnd.plotly.v1+json": {
       "config": {
        "plotlyServerURL": "https://plot.ly"
       },
       "data": [
        {
         "hovertemplate": "Season=%{x}<br>Correlation Coefficient=%{marker.color}<extra></extra>",
         "legendgroup": "",
         "marker": {
          "color": {
           "bdata": "JVMdTAVFwj8gvv8xBLa6P63z1SdWVtI/",
           "dtype": "f8"
          },
          "coloraxis": "coloraxis",
          "line": {
           "color": "black",
           "width": 1
          },
          "pattern": {
           "shape": ""
          }
         },
         "name": "",
         "orientation": "v",
         "showlegend": false,
         "text": {
          "bdata": "JVMdTAVFwj8gvv8xBLa6P63z1SdWVtI/",
          "dtype": "f8"
         },
         "textposition": "auto",
         "texttemplate": "%{text:.2f}",
         "type": "bar",
         "x": [
          "Jan-Feb",
          "Mar-May",
          "Oct-Dec"
         ],
         "xaxis": "x",
         "y": {
          "bdata": "JVMdTAVFwj8gvv8xBLa6P63z1SdWVtI/",
          "dtype": "f8"
         },
         "yaxis": "y"
        }
       ],
       "layout": {
        "annotations": [
         {
          "showarrow": false,
          "text": "No Correlation",
          "x": 0,
          "xanchor": "left",
          "xref": "x domain",
          "y": 0,
          "yanchor": "top",
          "yref": "y"
         }
        ],
        "barmode": "relative",
        "coloraxis": {
         "colorbar": {
          "title": {
           "text": "Correlation Coefficient"
          }
         },
         "colorscale": [
          [
           0,
           "rgb(247,251,255)"
          ],
          [
           0.125,
           "rgb(222,235,247)"
          ],
          [
           0.25,
           "rgb(198,219,239)"
          ],
          [
           0.375,
           "rgb(158,202,225)"
          ],
          [
           0.5,
           "rgb(107,174,214)"
          ],
          [
           0.625,
           "rgb(66,146,198)"
          ],
          [
           0.75,
           "rgb(33,113,181)"
          ],
          [
           0.875,
           "rgb(8,81,156)"
          ],
          [
           1,
           "rgb(8,48,107)"
          ]
         ]
        },
        "height": 500,
        "legend": {
         "tracegroupgap": 0
        },
        "shapes": [
         {
          "line": {
           "color": "red",
           "dash": "dash"
          },
          "type": "line",
          "x0": 0,
          "x1": 1,
          "xref": "x domain",
          "y0": 0,
          "y1": 0,
          "yref": "y"
         }
        ],
        "template": {
         "data": {
          "bar": [
           {
            "error_x": {
             "color": "#2a3f5f"
            },
            "error_y": {
             "color": "#2a3f5f"
            },
            "marker": {
             "line": {
              "color": "white",
              "width": 0.5
             },
             "pattern": {
              "fillmode": "overlay",
              "size": 10,
              "solidity": 0.2
             }
            },
            "type": "bar"
           }
          ],
          "barpolar": [
           {
            "marker": {
             "line": {
              "color": "white",
              "width": 0.5
             },
             "pattern": {
              "fillmode": "overlay",
              "size": 10,
              "solidity": 0.2
             }
            },
            "type": "barpolar"
           }
          ],
          "carpet": [
           {
            "aaxis": {
             "endlinecolor": "#2a3f5f",
             "gridcolor": "#C8D4E3",
             "linecolor": "#C8D4E3",
             "minorgridcolor": "#C8D4E3",
             "startlinecolor": "#2a3f5f"
            },
            "baxis": {
             "endlinecolor": "#2a3f5f",
             "gridcolor": "#C8D4E3",
             "linecolor": "#C8D4E3",
             "minorgridcolor": "#C8D4E3",
             "startlinecolor": "#2a3f5f"
            },
            "type": "carpet"
           }
          ],
          "choropleth": [
           {
            "colorbar": {
             "outlinewidth": 0,
             "ticks": ""
            },
            "type": "choropleth"
           }
          ],
          "contour": [
           {
            "colorbar": {
             "outlinewidth": 0,
             "ticks": ""
            },
            "colorscale": [
             [
              0,
              "#0d0887"
             ],
             [
              0.1111111111111111,
              "#46039f"
             ],
             [
              0.2222222222222222,
              "#7201a8"
             ],
             [
              0.3333333333333333,
              "#9c179e"
             ],
             [
              0.4444444444444444,
              "#bd3786"
             ],
             [
              0.5555555555555556,
              "#d8576b"
             ],
             [
              0.6666666666666666,
              "#ed7953"
             ],
             [
              0.7777777777777778,
              "#fb9f3a"
             ],
             [
              0.8888888888888888,
              "#fdca26"
             ],
             [
              1,
              "#f0f921"
             ]
            ],
            "type": "contour"
           }
          ],
          "contourcarpet": [
           {
            "colorbar": {
             "outlinewidth": 0,
             "ticks": ""
            },
            "type": "contourcarpet"
           }
          ],
          "heatmap": [
           {
            "colorbar": {
             "outlinewidth": 0,
             "ticks": ""
            },
            "colorscale": [
             [
              0,
              "#0d0887"
             ],
             [
              0.1111111111111111,
              "#46039f"
             ],
             [
              0.2222222222222222,
              "#7201a8"
             ],
             [
              0.3333333333333333,
              "#9c179e"
             ],
             [
              0.4444444444444444,
              "#bd3786"
             ],
             [
              0.5555555555555556,
              "#d8576b"
             ],
             [
              0.6666666666666666,
              "#ed7953"
             ],
             [
              0.7777777777777778,
              "#fb9f3a"
             ],
             [
              0.8888888888888888,
              "#fdca26"
             ],
             [
              1,
              "#f0f921"
             ]
            ],
            "type": "heatmap"
           }
          ],
          "histogram": [
           {
            "marker": {
             "pattern": {
              "fillmode": "overlay",
              "size": 10,
              "solidity": 0.2
             }
            },
            "type": "histogram"
           }
          ],
          "histogram2d": [
           {
            "colorbar": {
             "outlinewidth": 0,
             "ticks": ""
            },
            "colorscale": [
             [
              0,
              "#0d0887"
             ],
             [
              0.1111111111111111,
              "#46039f"
             ],
             [
              0.2222222222222222,
              "#7201a8"
             ],
             [
              0.3333333333333333,
              "#9c179e"
             ],
             [
              0.4444444444444444,
              "#bd3786"
             ],
             [
              0.5555555555555556,
              "#d8576b"
             ],
             [
              0.6666666666666666,
              "#ed7953"
             ],
             [
              0.7777777777777778,
              "#fb9f3a"
             ],
             [
              0.8888888888888888,
              "#fdca26"
             ],
             [
              1,
              "#f0f921"
             ]
            ],
            "type": "histogram2d"
           }
          ],
          "histogram2dcontour": [
           {
            "colorbar": {
             "outlinewidth": 0,
             "ticks": ""
            },
            "colorscale": [
             [
              0,
              "#0d0887"
             ],
             [
              0.1111111111111111,
              "#46039f"
             ],
             [
              0.2222222222222222,
              "#7201a8"
             ],
             [
              0.3333333333333333,
              "#9c179e"
             ],
             [
              0.4444444444444444,
              "#bd3786"
             ],
             [
              0.5555555555555556,
              "#d8576b"
             ],
             [
              0.6666666666666666,
              "#ed7953"
             ],
             [
              0.7777777777777778,
              "#fb9f3a"
             ],
             [
              0.8888888888888888,
              "#fdca26"
             ],
             [
              1,
              "#f0f921"
             ]
            ],
            "type": "histogram2dcontour"
           }
          ],
          "mesh3d": [
           {
            "colorbar": {
             "outlinewidth": 0,
             "ticks": ""
            },
            "type": "mesh3d"
           }
          ],
          "parcoords": [
           {
            "line": {
             "colorbar": {
              "outlinewidth": 0,
              "ticks": ""
             }
            },
            "type": "parcoords"
           }
          ],
          "pie": [
           {
            "automargin": true,
            "type": "pie"
           }
          ],
          "scatter": [
           {
            "fillpattern": {
             "fillmode": "overlay",
             "size": 10,
             "solidity": 0.2
            },
            "type": "scatter"
           }
          ],
          "scatter3d": [
           {
            "line": {
             "colorbar": {
              "outlinewidth": 0,
              "ticks": ""
             }
            },
            "marker": {
             "colorbar": {
              "outlinewidth": 0,
              "ticks": ""
             }
            },
            "type": "scatter3d"
           }
          ],
          "scattercarpet": [
           {
            "marker": {
             "colorbar": {
              "outlinewidth": 0,
              "ticks": ""
             }
            },
            "type": "scattercarpet"
           }
          ],
          "scattergeo": [
           {
            "marker": {
             "colorbar": {
              "outlinewidth": 0,
              "ticks": ""
             }
            },
            "type": "scattergeo"
           }
          ],
          "scattergl": [
           {
            "marker": {
             "colorbar": {
              "outlinewidth": 0,
              "ticks": ""
             }
            },
            "type": "scattergl"
           }
          ],
          "scattermap": [
           {
            "marker": {
             "colorbar": {
              "outlinewidth": 0,
              "ticks": ""
             }
            },
            "type": "scattermap"
           }
          ],
          "scattermapbox": [
           {
            "marker": {
             "colorbar": {
              "outlinewidth": 0,
              "ticks": ""
             }
            },
            "type": "scattermapbox"
           }
          ],
          "scatterpolar": [
           {
            "marker": {
             "colorbar": {
              "outlinewidth": 0,
              "ticks": ""
             }
            },
            "type": "scatterpolar"
           }
          ],
          "scatterpolargl": [
           {
            "marker": {
             "colorbar": {
              "outlinewidth": 0,
              "ticks": ""
             }
            },
            "type": "scatterpolargl"
           }
          ],
          "scatterternary": [
           {
            "marker": {
             "colorbar": {
              "outlinewidth": 0,
              "ticks": ""
             }
            },
            "type": "scatterternary"
           }
          ],
          "surface": [
           {
            "colorbar": {
             "outlinewidth": 0,
             "ticks": ""
            },
            "colorscale": [
             [
              0,
              "#0d0887"
             ],
             [
              0.1111111111111111,
              "#46039f"
             ],
             [
              0.2222222222222222,
              "#7201a8"
             ],
             [
              0.3333333333333333,
              "#9c179e"
             ],
             [
              0.4444444444444444,
              "#bd3786"
             ],
             [
              0.5555555555555556,
              "#d8576b"
             ],
             [
              0.6666666666666666,
              "#ed7953"
             ],
             [
              0.7777777777777778,
              "#fb9f3a"
             ],
             [
              0.8888888888888888,
              "#fdca26"
             ],
             [
              1,
              "#f0f921"
             ]
            ],
            "type": "surface"
           }
          ],
          "table": [
           {
            "cells": {
             "fill": {
              "color": "#EBF0F8"
             },
             "line": {
              "color": "white"
             }
            },
            "header": {
             "fill": {
              "color": "#C8D4E3"
             },
             "line": {
              "color": "white"
             }
            },
            "type": "table"
           }
          ]
         },
         "layout": {
          "annotationdefaults": {
           "arrowcolor": "#2a3f5f",
           "arrowhead": 0,
           "arrowwidth": 1
          },
          "autotypenumbers": "strict",
          "coloraxis": {
           "colorbar": {
            "outlinewidth": 0,
            "ticks": ""
           }
          },
          "colorscale": {
           "diverging": [
            [
             0,
             "#8e0152"
            ],
            [
             0.1,
             "#c51b7d"
            ],
            [
             0.2,
             "#de77ae"
            ],
            [
             0.3,
             "#f1b6da"
            ],
            [
             0.4,
             "#fde0ef"
            ],
            [
             0.5,
             "#f7f7f7"
            ],
            [
             0.6,
             "#e6f5d0"
            ],
            [
             0.7,
             "#b8e186"
            ],
            [
             0.8,
             "#7fbc41"
            ],
            [
             0.9,
             "#4d9221"
            ],
            [
             1,
             "#276419"
            ]
           ],
           "sequential": [
            [
             0,
             "#0d0887"
            ],
            [
             0.1111111111111111,
             "#46039f"
            ],
            [
             0.2222222222222222,
             "#7201a8"
            ],
            [
             0.3333333333333333,
             "#9c179e"
            ],
            [
             0.4444444444444444,
             "#bd3786"
            ],
            [
             0.5555555555555556,
             "#d8576b"
            ],
            [
             0.6666666666666666,
             "#ed7953"
            ],
            [
             0.7777777777777778,
             "#fb9f3a"
            ],
            [
             0.8888888888888888,
             "#fdca26"
            ],
            [
             1,
             "#f0f921"
            ]
           ],
           "sequentialminus": [
            [
             0,
             "#0d0887"
            ],
            [
             0.1111111111111111,
             "#46039f"
            ],
            [
             0.2222222222222222,
             "#7201a8"
            ],
            [
             0.3333333333333333,
             "#9c179e"
            ],
            [
             0.4444444444444444,
             "#bd3786"
            ],
            [
             0.5555555555555556,
             "#d8576b"
            ],
            [
             0.6666666666666666,
             "#ed7953"
            ],
            [
             0.7777777777777778,
             "#fb9f3a"
            ],
            [
             0.8888888888888888,
             "#fdca26"
            ],
            [
             1,
             "#f0f921"
            ]
           ]
          },
          "colorway": [
           "#636efa",
           "#EF553B",
           "#00cc96",
           "#ab63fa",
           "#FFA15A",
           "#19d3f3",
           "#FF6692",
           "#B6E880",
           "#FF97FF",
           "#FECB52"
          ],
          "font": {
           "color": "#2a3f5f"
          },
          "geo": {
           "bgcolor": "white",
           "lakecolor": "white",
           "landcolor": "white",
           "showlakes": true,
           "showland": true,
           "subunitcolor": "#C8D4E3"
          },
          "hoverlabel": {
           "align": "left"
          },
          "hovermode": "closest",
          "mapbox": {
           "style": "light"
          },
          "paper_bgcolor": "white",
          "plot_bgcolor": "white",
          "polar": {
           "angularaxis": {
            "gridcolor": "#EBF0F8",
            "linecolor": "#EBF0F8",
            "ticks": ""
           },
           "bgcolor": "white",
           "radialaxis": {
            "gridcolor": "#EBF0F8",
            "linecolor": "#EBF0F8",
            "ticks": ""
           }
          },
          "scene": {
           "xaxis": {
            "backgroundcolor": "white",
            "gridcolor": "#DFE8F3",
            "gridwidth": 2,
            "linecolor": "#EBF0F8",
            "showbackground": true,
            "ticks": "",
            "zerolinecolor": "#EBF0F8"
           },
           "yaxis": {
            "backgroundcolor": "white",
            "gridcolor": "#DFE8F3",
            "gridwidth": 2,
            "linecolor": "#EBF0F8",
            "showbackground": true,
            "ticks": "",
            "zerolinecolor": "#EBF0F8"
           },
           "zaxis": {
            "backgroundcolor": "white",
            "gridcolor": "#DFE8F3",
            "gridwidth": 2,
            "linecolor": "#EBF0F8",
            "showbackground": true,
            "ticks": "",
            "zerolinecolor": "#EBF0F8"
           }
          },
          "shapedefaults": {
           "line": {
            "color": "#2a3f5f"
           }
          },
          "ternary": {
           "aaxis": {
            "gridcolor": "#DFE8F3",
            "linecolor": "#A2B1C6",
            "ticks": ""
           },
           "baxis": {
            "gridcolor": "#DFE8F3",
            "linecolor": "#A2B1C6",
            "ticks": ""
           },
           "bgcolor": "white",
           "caxis": {
            "gridcolor": "#DFE8F3",
            "linecolor": "#A2B1C6",
            "ticks": ""
           }
          },
          "title": {
           "x": 0.05
          },
          "xaxis": {
           "automargin": true,
           "gridcolor": "#EBF0F8",
           "linecolor": "#EBF0F8",
           "ticks": "",
           "title": {
            "standoff": 15
           },
           "zerolinecolor": "#EBF0F8",
           "zerolinewidth": 2
          },
          "yaxis": {
           "automargin": true,
           "gridcolor": "#EBF0F8",
           "linecolor": "#EBF0F8",
           "ticks": "",
           "title": {
            "standoff": 15
           },
           "zerolinecolor": "#EBF0F8",
           "zerolinewidth": 2
          }
         }
        },
        "title": {
         "text": "Correlation Between Monsoon (Jun-Sep) Rainfall and Other Seasons"
        },
        "xaxis": {
         "anchor": "y",
         "domain": [
          0,
          1
         ],
         "title": {
          "text": "Season"
         }
        },
        "yaxis": {
         "anchor": "x",
         "domain": [
          0,
          1
         ],
         "title": {
          "text": "Correlation Coefficient"
         }
        }
       }
      }
     },
     "metadata": {},
     "output_type": "display_data"
    }
   ],
   "source": [
    "fig = px.bar(\n",
    "    correlation_data,\n",
    "    x='Season',\n",
    "    y='Correlation Coefficient',\n",
    "    title='Correlation Between Monsoon (Jun-Sep) Rainfall and Other Seasons',\n",
    "    labels={'Season': 'Season', 'Correlation Coefficient': 'Correlation Coefficient'},\n",
    "    text='Correlation Coefficient',\n",
    "    color='Correlation Coefficient',\n",
    "    color_continuous_scale='Blues'\n",
    ")\n",
    "\n",
    "fig.add_hline(\n",
    "    y=0,\n",
    "    line_dash=\"dash\",\n",
    "    line_color=\"red\",\n",
    "    annotation_text=\"No Correlation\",\n",
    "    annotation_position=\"bottom left\"\n",
    ")\n",
    "\n",
    "fig.update_traces(marker_line_color='black', marker_line_width=1, texttemplate='%{text:.2f}')\n",
    "fig.update_layout(\n",
    "    template='plotly_white',\n",
    "    height=500\n",
    ")\n",
    "\n",
    "fig.show()"
   ]
  },
  {
   "cell_type": "markdown",
   "id": "feda6849",
   "metadata": {},
   "source": [
    "This graph shows the correlation between monsoon rainfall and rainfall during other seasons. The October-December season has the highest correlation (0.29), which suggests a moderate relationship, possibly due to the post-monsoon retreat rains. The January-February (0.14) and March-May (0.10) seasons exhibit weaker correlations, which indicate minimal dependence on monsoon rainfall. This highlights the dominance of monsoonal patterns as an independent driver of India’s annual rainfall, with limited spillover effects on other seasons."
   ]
  },
  {
   "cell_type": "markdown",
   "id": "13ee7d91",
   "metadata": {},
   "source": [
    "## Grouping Years Based on Rainfall Patterns\n",
    "\n",
    "Now, by applying k-means clustering, we will group years into three categories: Dry, Normal, and Wet, based on rainfall patterns:"
   ]
  },
  {
   "cell_type": "code",
   "execution_count": 18,
   "id": "5d931d7a",
   "metadata": {},
   "outputs": [],
   "source": [
    "# prepare data for clustering\n",
    "rainfall_features = rainfall_data[['Jan-Feb', 'Mar-May', 'Jun-Sep', 'Oct-Dec', 'ANNUAL']]\n",
    "scaler = StandardScaler()\n",
    "scaled_features = scaler.fit_transform(rainfall_features)\n",
    "\n",
    "# perform k-means clustering\n",
    "kmeans = KMeans(n_clusters=3, random_state=42)\n",
    "rainfall_data['Rainfall_Cluster'] = kmeans.fit_predict(scaled_features)\n",
    "\n",
    "# map cluster labels to categories (e.g., Dry, Normal, Wet)\n",
    "cluster_labels = {0: 'Dry', 1: 'Normal', 2: 'Wet'}\n",
    "rainfall_data['Rainfall_Category'] = rainfall_data['Rainfall_Cluster'].map(cluster_labels)"
   ]
  },
  {
   "cell_type": "code",
   "execution_count": 19,
   "id": "f98d7022",
   "metadata": {},
   "outputs": [
    {
     "data": {
      "application/vnd.plotly.v1+json": {
       "config": {
        "plotlyServerURL": "https://plot.ly"
       },
       "data": [
        {
         "customdata": [
          [
           1,
           "Normal"
          ],
          [
           1,
           "Normal"
          ],
          [
           1,
           "Normal"
          ],
          [
           1,
           "Normal"
          ],
          [
           1,
           "Normal"
          ],
          [
           1,
           "Normal"
          ],
          [
           1,
           "Normal"
          ],
          [
           1,
           "Normal"
          ],
          [
           1,
           "Normal"
          ],
          [
           1,
           "Normal"
          ],
          [
           1,
           "Normal"
          ],
          [
           1,
           "Normal"
          ],
          [
           1,
           "Normal"
          ],
          [
           1,
           "Normal"
          ],
          [
           1,
           "Normal"
          ],
          [
           1,
           "Normal"
          ],
          [
           1,
           "Normal"
          ],
          [
           1,
           "Normal"
          ],
          [
           1,
           "Normal"
          ],
          [
           1,
           "Normal"
          ],
          [
           1,
           "Normal"
          ],
          [
           1,
           "Normal"
          ],
          [
           1,
           "Normal"
          ],
          [
           1,
           "Normal"
          ],
          [
           1,
           "Normal"
          ],
          [
           1,
           "Normal"
          ],
          [
           1,
           "Normal"
          ],
          [
           1,
           "Normal"
          ],
          [
           1,
           "Normal"
          ],
          [
           1,
           "Normal"
          ],
          [
           1,
           "Normal"
          ],
          [
           1,
           "Normal"
          ],
          [
           1,
           "Normal"
          ],
          [
           1,
           "Normal"
          ],
          [
           1,
           "Normal"
          ],
          [
           1,
           "Normal"
          ],
          [
           1,
           "Normal"
          ],
          [
           1,
           "Normal"
          ],
          [
           1,
           "Normal"
          ],
          [
           1,
           "Normal"
          ],
          [
           1,
           "Normal"
          ],
          [
           1,
           "Normal"
          ],
          [
           1,
           "Normal"
          ],
          [
           1,
           "Normal"
          ]
         ],
         "hovertemplate": "Rainfall Category=%{customdata[1]}<br>Year=%{x}<br>Annual Rainfall (mm)=%{y}<br>Rainfall_Cluster=%{customdata[0]}<extra></extra>",
         "legendgroup": "Normal",
         "marker": {
          "color": "rgb(102,194,165)",
          "symbol": "circle"
         },
         "mode": "markers",
         "name": "Normal",
         "orientation": "v",
         "showlegend": true,
         "type": "scatter",
         "x": {
          "bdata": "bQduB3AHcQdzB3QHdQd3B3gHeQd+B4AHjweTB5UHnwegB6gHrQeuB68HsAexB7QHtge4B7sHvgfCB8MHxQfHB8gHzwfQB9EH0gfUB9gH2QfbB9wH3gffBw==",
          "dtype": "i2"
         },
         "xaxis": "x",
         "y": {
          "bdata": "MzMzMzMhkEDNzMzMzBiQQGZmZmZm3o9AZmZmZmZ6jkDNzMzMzD6QQGZmZmZmIpFAZmZmZmYYkkAAAAAAAF6QQGZmZmZm2JBAmpmZmZmzkEDNzMzMzAiQQJqZmZmZX5BAmpmZmZndkUCamZmZmZeRQJqZmZmZ45BAMzMzMzOVkEDNzMzMzFCRQAAAAAAA9JFAMzMzMzNTjUAAAAAAAKCQQDMzMzMz8ZFAzczMzMx4kEDNzMzMzO6RQAAAAAAApI1AzczMzMxOkEAzMzMzM5ORQDMzMzMz+49AMzMzMzP7kEBmZmZmZpqRQJqZmZmZ25BAmpmZmZmJkUCamZmZmR+SQDMzMzMzhZFAAAAAAACwkUCamZmZmWmQQDMzMzMz7ZBAZmZmZmbGjEAzMzMzM72QQGZmZmZmsJFAZmZmZmb6jUBmZmZmZliRQAAAAAAAxpBAzczMzMwmkEDNzMzMzBSRQA==",
          "dtype": "f8"
         },
         "yaxis": "y"
        },
        {
         "customdata": [
          [
           2,
           "Wet"
          ],
          [
           2,
           "Wet"
          ],
          [
           2,
           "Wet"
          ],
          [
           2,
           "Wet"
          ],
          [
           2,
           "Wet"
          ],
          [
           2,
           "Wet"
          ],
          [
           2,
           "Wet"
          ],
          [
           2,
           "Wet"
          ],
          [
           2,
           "Wet"
          ],
          [
           2,
           "Wet"
          ],
          [
           2,
           "Wet"
          ],
          [
           2,
           "Wet"
          ],
          [
           2,
           "Wet"
          ],
          [
           2,
           "Wet"
          ],
          [
           2,
           "Wet"
          ],
          [
           2,
           "Wet"
          ],
          [
           2,
           "Wet"
          ],
          [
           2,
           "Wet"
          ],
          [
           2,
           "Wet"
          ],
          [
           2,
           "Wet"
          ],
          [
           2,
           "Wet"
          ],
          [
           2,
           "Wet"
          ],
          [
           2,
           "Wet"
          ],
          [
           2,
           "Wet"
          ]
         ],
         "hovertemplate": "Rainfall Category=%{customdata[1]}<br>Year=%{x}<br>Annual Rainfall (mm)=%{y}<br>Rainfall_Cluster=%{customdata[0]}<extra></extra>",
         "legendgroup": "Wet",
         "marker": {
          "color": "rgb(252,141,98)",
          "symbol": "circle"
         },
         "mode": "markers",
         "name": "Wet",
         "orientation": "v",
         "showlegend": true,
         "type": "scatter",
         "x": {
          "bdata": "bwd2B3wHfQeCB4QHhQeLB4wHjgeaB6MHpAemB6oHqwesB7UHtwe5B8EHzQfaB90H",
          "dtype": "i2"
         },
         "xaxis": "x",
         "y": {
          "bdata": "AAAAAACakkAzMzMzM8GSQGZmZmZm5JRAMzMzMzMhl0CamZmZme+SQDMzMzMz0ZNAmpmZmZnpkkBmZmZmZoqUQJqZmZmZC5NAZmZmZmYuk0BmZmZmZtKUQDMzMzMzSZRAzczMzMyolUAAAAAAAMyUQJqZmZmZsZJAzczMzMzokkBmZmZmZkyTQAAAAAAA+JJAzczMzMwolECamZmZmdmTQAAAAAAA0JFAmpmZmZlNkkAAAAAAAMKSQM3MzMzMAJNA",
          "dtype": "f8"
         },
         "yaxis": "y"
        },
        {
         "customdata": [
          [
           0,
           "Dry"
          ],
          [
           0,
           "Dry"
          ],
          [
           0,
           "Dry"
          ],
          [
           0,
           "Dry"
          ],
          [
           0,
           "Dry"
          ],
          [
           0,
           "Dry"
          ],
          [
           0,
           "Dry"
          ],
          [
           0,
           "Dry"
          ],
          [
           0,
           "Dry"
          ],
          [
           0,
           "Dry"
          ],
          [
           0,
           "Dry"
          ],
          [
           0,
           "Dry"
          ],
          [
           0,
           "Dry"
          ],
          [
           0,
           "Dry"
          ],
          [
           0,
           "Dry"
          ],
          [
           0,
           "Dry"
          ],
          [
           0,
           "Dry"
          ],
          [
           0,
           "Dry"
          ],
          [
           0,
           "Dry"
          ],
          [
           0,
           "Dry"
          ],
          [
           0,
           "Dry"
          ],
          [
           0,
           "Dry"
          ],
          [
           0,
           "Dry"
          ],
          [
           0,
           "Dry"
          ],
          [
           0,
           "Dry"
          ],
          [
           0,
           "Dry"
          ],
          [
           0,
           "Dry"
          ],
          [
           0,
           "Dry"
          ],
          [
           0,
           "Dry"
          ],
          [
           0,
           "Dry"
          ],
          [
           0,
           "Dry"
          ],
          [
           0,
           "Dry"
          ],
          [
           0,
           "Dry"
          ],
          [
           0,
           "Dry"
          ],
          [
           0,
           "Dry"
          ],
          [
           0,
           "Dry"
          ],
          [
           0,
           "Dry"
          ],
          [
           0,
           "Dry"
          ],
          [
           0,
           "Dry"
          ],
          [
           0,
           "Dry"
          ],
          [
           0,
           "Dry"
          ],
          [
           0,
           "Dry"
          ],
          [
           0,
           "Dry"
          ],
          [
           0,
           "Dry"
          ],
          [
           0,
           "Dry"
          ],
          [
           0,
           "Dry"
          ],
          [
           0,
           "Dry"
          ]
         ],
         "hovertemplate": "Rainfall Category=%{customdata[1]}<br>Year=%{x}<br>Annual Rainfall (mm)=%{y}<br>Rainfall_Cluster=%{customdata[0]}<extra></extra>",
         "legendgroup": "Dry",
         "marker": {
          "color": "rgb(141,160,203)",
          "symbol": "circle"
         },
         "mode": "markers",
         "name": "Dry",
         "orientation": "v",
         "showlegend": true,
         "type": "scatter",
         "x": {
          "bdata": "cgd6B3sHfweBB4MHhgeHB4gHiQeKB40HkAeRB5IHlAeWB5cHmAeZB5sHnAedB54HoQeiB6UHpwepB7IHswe6B7wHvQe/B8AHxAfGB8kHygfLB8wHzgfTB9UH1gfXBw==",
          "dtype": "i2"
         },
         "xaxis": "x",
         "y": {
          "bdata": "ZmZmZmbgkUAzMzMzM/mSQM3MzMzMxJFAmpmZmZlzlEDNzMzMzGCTQDMzMzMzYZJAMzMzMzN7k0BmZmZmZrqTQJqZmZmZCZNAAAAAAADikkCamZmZmeWSQAAAAAAAxpVAzczMzMz2lEBmZmZmZgiTQM3MzMzMapRAZmZmZmb6kkDNzMzMzDKUQGZmZmZmCJRAZmZmZmaclEAzMzMzMyeTQGZmZmZmUpNAmpmZmZn3lECamZmZmeGTQAAAAAAAUpJAmpmZmZkbk0AzMzMzM3GSQM3MzMzMaJJAZmZmZmaYlUAAAAAAAOyVQAAAAAAAfJNAAAAAAAAIk0AzMzMzM12TQAAAAAAAlpJAZmZmZmZOkkAAAAAAAM6UQJqZmZmZD5JAAAAAAAAclUBmZmZmZuKVQJqZmZmZx5JAZmZmZmY+lEBmZmZmZm6TQDMzMzMzd5JAAAAAAABuk0AAAAAAAFqSQAAAAAAAQpNAmpmZmZm9kkBmZmZmZv6SQA==",
          "dtype": "f8"
         },
         "yaxis": "y"
        }
       ],
       "layout": {
        "height": 500,
        "legend": {
         "title": {
          "text": "Rainfall Category"
         },
         "tracegroupgap": 0
        },
        "template": {
         "data": {
          "bar": [
           {
            "error_x": {
             "color": "#2a3f5f"
            },
            "error_y": {
             "color": "#2a3f5f"
            },
            "marker": {
             "line": {
              "color": "white",
              "width": 0.5
             },
             "pattern": {
              "fillmode": "overlay",
              "size": 10,
              "solidity": 0.2
             }
            },
            "type": "bar"
           }
          ],
          "barpolar": [
           {
            "marker": {
             "line": {
              "color": "white",
              "width": 0.5
             },
             "pattern": {
              "fillmode": "overlay",
              "size": 10,
              "solidity": 0.2
             }
            },
            "type": "barpolar"
           }
          ],
          "carpet": [
           {
            "aaxis": {
             "endlinecolor": "#2a3f5f",
             "gridcolor": "#C8D4E3",
             "linecolor": "#C8D4E3",
             "minorgridcolor": "#C8D4E3",
             "startlinecolor": "#2a3f5f"
            },
            "baxis": {
             "endlinecolor": "#2a3f5f",
             "gridcolor": "#C8D4E3",
             "linecolor": "#C8D4E3",
             "minorgridcolor": "#C8D4E3",
             "startlinecolor": "#2a3f5f"
            },
            "type": "carpet"
           }
          ],
          "choropleth": [
           {
            "colorbar": {
             "outlinewidth": 0,
             "ticks": ""
            },
            "type": "choropleth"
           }
          ],
          "contour": [
           {
            "colorbar": {
             "outlinewidth": 0,
             "ticks": ""
            },
            "colorscale": [
             [
              0,
              "#0d0887"
             ],
             [
              0.1111111111111111,
              "#46039f"
             ],
             [
              0.2222222222222222,
              "#7201a8"
             ],
             [
              0.3333333333333333,
              "#9c179e"
             ],
             [
              0.4444444444444444,
              "#bd3786"
             ],
             [
              0.5555555555555556,
              "#d8576b"
             ],
             [
              0.6666666666666666,
              "#ed7953"
             ],
             [
              0.7777777777777778,
              "#fb9f3a"
             ],
             [
              0.8888888888888888,
              "#fdca26"
             ],
             [
              1,
              "#f0f921"
             ]
            ],
            "type": "contour"
           }
          ],
          "contourcarpet": [
           {
            "colorbar": {
             "outlinewidth": 0,
             "ticks": ""
            },
            "type": "contourcarpet"
           }
          ],
          "heatmap": [
           {
            "colorbar": {
             "outlinewidth": 0,
             "ticks": ""
            },
            "colorscale": [
             [
              0,
              "#0d0887"
             ],
             [
              0.1111111111111111,
              "#46039f"
             ],
             [
              0.2222222222222222,
              "#7201a8"
             ],
             [
              0.3333333333333333,
              "#9c179e"
             ],
             [
              0.4444444444444444,
              "#bd3786"
             ],
             [
              0.5555555555555556,
              "#d8576b"
             ],
             [
              0.6666666666666666,
              "#ed7953"
             ],
             [
              0.7777777777777778,
              "#fb9f3a"
             ],
             [
              0.8888888888888888,
              "#fdca26"
             ],
             [
              1,
              "#f0f921"
             ]
            ],
            "type": "heatmap"
           }
          ],
          "histogram": [
           {
            "marker": {
             "pattern": {
              "fillmode": "overlay",
              "size": 10,
              "solidity": 0.2
             }
            },
            "type": "histogram"
           }
          ],
          "histogram2d": [
           {
            "colorbar": {
             "outlinewidth": 0,
             "ticks": ""
            },
            "colorscale": [
             [
              0,
              "#0d0887"
             ],
             [
              0.1111111111111111,
              "#46039f"
             ],
             [
              0.2222222222222222,
              "#7201a8"
             ],
             [
              0.3333333333333333,
              "#9c179e"
             ],
             [
              0.4444444444444444,
              "#bd3786"
             ],
             [
              0.5555555555555556,
              "#d8576b"
             ],
             [
              0.6666666666666666,
              "#ed7953"
             ],
             [
              0.7777777777777778,
              "#fb9f3a"
             ],
             [
              0.8888888888888888,
              "#fdca26"
             ],
             [
              1,
              "#f0f921"
             ]
            ],
            "type": "histogram2d"
           }
          ],
          "histogram2dcontour": [
           {
            "colorbar": {
             "outlinewidth": 0,
             "ticks": ""
            },
            "colorscale": [
             [
              0,
              "#0d0887"
             ],
             [
              0.1111111111111111,
              "#46039f"
             ],
             [
              0.2222222222222222,
              "#7201a8"
             ],
             [
              0.3333333333333333,
              "#9c179e"
             ],
             [
              0.4444444444444444,
              "#bd3786"
             ],
             [
              0.5555555555555556,
              "#d8576b"
             ],
             [
              0.6666666666666666,
              "#ed7953"
             ],
             [
              0.7777777777777778,
              "#fb9f3a"
             ],
             [
              0.8888888888888888,
              "#fdca26"
             ],
             [
              1,
              "#f0f921"
             ]
            ],
            "type": "histogram2dcontour"
           }
          ],
          "mesh3d": [
           {
            "colorbar": {
             "outlinewidth": 0,
             "ticks": ""
            },
            "type": "mesh3d"
           }
          ],
          "parcoords": [
           {
            "line": {
             "colorbar": {
              "outlinewidth": 0,
              "ticks": ""
             }
            },
            "type": "parcoords"
           }
          ],
          "pie": [
           {
            "automargin": true,
            "type": "pie"
           }
          ],
          "scatter": [
           {
            "fillpattern": {
             "fillmode": "overlay",
             "size": 10,
             "solidity": 0.2
            },
            "type": "scatter"
           }
          ],
          "scatter3d": [
           {
            "line": {
             "colorbar": {
              "outlinewidth": 0,
              "ticks": ""
             }
            },
            "marker": {
             "colorbar": {
              "outlinewidth": 0,
              "ticks": ""
             }
            },
            "type": "scatter3d"
           }
          ],
          "scattercarpet": [
           {
            "marker": {
             "colorbar": {
              "outlinewidth": 0,
              "ticks": ""
             }
            },
            "type": "scattercarpet"
           }
          ],
          "scattergeo": [
           {
            "marker": {
             "colorbar": {
              "outlinewidth": 0,
              "ticks": ""
             }
            },
            "type": "scattergeo"
           }
          ],
          "scattergl": [
           {
            "marker": {
             "colorbar": {
              "outlinewidth": 0,
              "ticks": ""
             }
            },
            "type": "scattergl"
           }
          ],
          "scattermap": [
           {
            "marker": {
             "colorbar": {
              "outlinewidth": 0,
              "ticks": ""
             }
            },
            "type": "scattermap"
           }
          ],
          "scattermapbox": [
           {
            "marker": {
             "colorbar": {
              "outlinewidth": 0,
              "ticks": ""
             }
            },
            "type": "scattermapbox"
           }
          ],
          "scatterpolar": [
           {
            "marker": {
             "colorbar": {
              "outlinewidth": 0,
              "ticks": ""
             }
            },
            "type": "scatterpolar"
           }
          ],
          "scatterpolargl": [
           {
            "marker": {
             "colorbar": {
              "outlinewidth": 0,
              "ticks": ""
             }
            },
            "type": "scatterpolargl"
           }
          ],
          "scatterternary": [
           {
            "marker": {
             "colorbar": {
              "outlinewidth": 0,
              "ticks": ""
             }
            },
            "type": "scatterternary"
           }
          ],
          "surface": [
           {
            "colorbar": {
             "outlinewidth": 0,
             "ticks": ""
            },
            "colorscale": [
             [
              0,
              "#0d0887"
             ],
             [
              0.1111111111111111,
              "#46039f"
             ],
             [
              0.2222222222222222,
              "#7201a8"
             ],
             [
              0.3333333333333333,
              "#9c179e"
             ],
             [
              0.4444444444444444,
              "#bd3786"
             ],
             [
              0.5555555555555556,
              "#d8576b"
             ],
             [
              0.6666666666666666,
              "#ed7953"
             ],
             [
              0.7777777777777778,
              "#fb9f3a"
             ],
             [
              0.8888888888888888,
              "#fdca26"
             ],
             [
              1,
              "#f0f921"
             ]
            ],
            "type": "surface"
           }
          ],
          "table": [
           {
            "cells": {
             "fill": {
              "color": "#EBF0F8"
             },
             "line": {
              "color": "white"
             }
            },
            "header": {
             "fill": {
              "color": "#C8D4E3"
             },
             "line": {
              "color": "white"
             }
            },
            "type": "table"
           }
          ]
         },
         "layout": {
          "annotationdefaults": {
           "arrowcolor": "#2a3f5f",
           "arrowhead": 0,
           "arrowwidth": 1
          },
          "autotypenumbers": "strict",
          "coloraxis": {
           "colorbar": {
            "outlinewidth": 0,
            "ticks": ""
           }
          },
          "colorscale": {
           "diverging": [
            [
             0,
             "#8e0152"
            ],
            [
             0.1,
             "#c51b7d"
            ],
            [
             0.2,
             "#de77ae"
            ],
            [
             0.3,
             "#f1b6da"
            ],
            [
             0.4,
             "#fde0ef"
            ],
            [
             0.5,
             "#f7f7f7"
            ],
            [
             0.6,
             "#e6f5d0"
            ],
            [
             0.7,
             "#b8e186"
            ],
            [
             0.8,
             "#7fbc41"
            ],
            [
             0.9,
             "#4d9221"
            ],
            [
             1,
             "#276419"
            ]
           ],
           "sequential": [
            [
             0,
             "#0d0887"
            ],
            [
             0.1111111111111111,
             "#46039f"
            ],
            [
             0.2222222222222222,
             "#7201a8"
            ],
            [
             0.3333333333333333,
             "#9c179e"
            ],
            [
             0.4444444444444444,
             "#bd3786"
            ],
            [
             0.5555555555555556,
             "#d8576b"
            ],
            [
             0.6666666666666666,
             "#ed7953"
            ],
            [
             0.7777777777777778,
             "#fb9f3a"
            ],
            [
             0.8888888888888888,
             "#fdca26"
            ],
            [
             1,
             "#f0f921"
            ]
           ],
           "sequentialminus": [
            [
             0,
             "#0d0887"
            ],
            [
             0.1111111111111111,
             "#46039f"
            ],
            [
             0.2222222222222222,
             "#7201a8"
            ],
            [
             0.3333333333333333,
             "#9c179e"
            ],
            [
             0.4444444444444444,
             "#bd3786"
            ],
            [
             0.5555555555555556,
             "#d8576b"
            ],
            [
             0.6666666666666666,
             "#ed7953"
            ],
            [
             0.7777777777777778,
             "#fb9f3a"
            ],
            [
             0.8888888888888888,
             "#fdca26"
            ],
            [
             1,
             "#f0f921"
            ]
           ]
          },
          "colorway": [
           "#636efa",
           "#EF553B",
           "#00cc96",
           "#ab63fa",
           "#FFA15A",
           "#19d3f3",
           "#FF6692",
           "#B6E880",
           "#FF97FF",
           "#FECB52"
          ],
          "font": {
           "color": "#2a3f5f"
          },
          "geo": {
           "bgcolor": "white",
           "lakecolor": "white",
           "landcolor": "white",
           "showlakes": true,
           "showland": true,
           "subunitcolor": "#C8D4E3"
          },
          "hoverlabel": {
           "align": "left"
          },
          "hovermode": "closest",
          "mapbox": {
           "style": "light"
          },
          "paper_bgcolor": "white",
          "plot_bgcolor": "white",
          "polar": {
           "angularaxis": {
            "gridcolor": "#EBF0F8",
            "linecolor": "#EBF0F8",
            "ticks": ""
           },
           "bgcolor": "white",
           "radialaxis": {
            "gridcolor": "#EBF0F8",
            "linecolor": "#EBF0F8",
            "ticks": ""
           }
          },
          "scene": {
           "xaxis": {
            "backgroundcolor": "white",
            "gridcolor": "#DFE8F3",
            "gridwidth": 2,
            "linecolor": "#EBF0F8",
            "showbackground": true,
            "ticks": "",
            "zerolinecolor": "#EBF0F8"
           },
           "yaxis": {
            "backgroundcolor": "white",
            "gridcolor": "#DFE8F3",
            "gridwidth": 2,
            "linecolor": "#EBF0F8",
            "showbackground": true,
            "ticks": "",
            "zerolinecolor": "#EBF0F8"
           },
           "zaxis": {
            "backgroundcolor": "white",
            "gridcolor": "#DFE8F3",
            "gridwidth": 2,
            "linecolor": "#EBF0F8",
            "showbackground": true,
            "ticks": "",
            "zerolinecolor": "#EBF0F8"
           }
          },
          "shapedefaults": {
           "line": {
            "color": "#2a3f5f"
           }
          },
          "ternary": {
           "aaxis": {
            "gridcolor": "#DFE8F3",
            "linecolor": "#A2B1C6",
            "ticks": ""
           },
           "baxis": {
            "gridcolor": "#DFE8F3",
            "linecolor": "#A2B1C6",
            "ticks": ""
           },
           "bgcolor": "white",
           "caxis": {
            "gridcolor": "#DFE8F3",
            "linecolor": "#A2B1C6",
            "ticks": ""
           }
          },
          "title": {
           "x": 0.05
          },
          "xaxis": {
           "automargin": true,
           "gridcolor": "#EBF0F8",
           "linecolor": "#EBF0F8",
           "ticks": "",
           "title": {
            "standoff": 15
           },
           "zerolinecolor": "#EBF0F8",
           "zerolinewidth": 2
          },
          "yaxis": {
           "automargin": true,
           "gridcolor": "#EBF0F8",
           "linecolor": "#EBF0F8",
           "ticks": "",
           "title": {
            "standoff": 15
           },
           "zerolinecolor": "#EBF0F8",
           "zerolinewidth": 2
          }
         }
        },
        "title": {
         "text": "Clustering of Years Based on Rainfall Patterns"
        },
        "xaxis": {
         "anchor": "y",
         "domain": [
          0,
          1
         ],
         "title": {
          "text": "Year"
         }
        },
        "yaxis": {
         "anchor": "x",
         "domain": [
          0,
          1
         ],
         "title": {
          "text": "Annual Rainfall (mm)"
         }
        }
       }
      }
     },
     "metadata": {},
     "output_type": "display_data"
    }
   ],
   "source": [
    "fig = px.scatter(\n",
    "    rainfall_data,\n",
    "    x='YEAR',\n",
    "    y='ANNUAL',\n",
    "    color='Rainfall_Category',\n",
    "    title='Clustering of Years Based on Rainfall Patterns',\n",
    "    labels={'YEAR': 'Year', 'ANNUAL': 'Annual Rainfall (mm)', 'Rainfall_Category': 'Rainfall Category'},\n",
    "    color_discrete_sequence=px.colors.qualitative.Set2,\n",
    "    hover_data={'Rainfall_Cluster': True, 'Rainfall_Category': True}\n",
    ")\n",
    "\n",
    "fig.update_layout(\n",
    "    template='plotly_white',\n",
    "    legend_title='Rainfall Category',\n",
    "    height=500\n",
    ")\n",
    "\n",
    "fig.show()"
   ]
  },
  {
   "cell_type": "markdown",
   "id": "d3ac0140",
   "metadata": {},
   "source": [
    "The clusters reveal that most years fall into the Normal category, while Wet years (above-normal rainfall) are sporadically distributed throughout the timeline, with a concentration in the early and mid-20th century. Dry years (below-normal rainfall) are more frequent in the latter half of the timeline, which indicates a potential shift in rainfall patterns over time. This clustering emphasizes the variability and potential long-term changes in India’s rainfall dynamics."
   ]
  },
  {
   "cell_type": "markdown",
   "id": "cc63ebb8",
   "metadata": {},
   "source": [
    "## Forecasting Future Rainfall\n",
    "\n",
    "Finally, we will use the Prophet library to forecast annual rainfall for the next 20 years:"
   ]
  },
  {
   "cell_type": "code",
   "execution_count": 20,
   "id": "766b1a2a",
   "metadata": {},
   "outputs": [
    {
     "name": "stderr",
     "output_type": "stream",
     "text": [
      "d:\\WorkSpace\\DataAnalyst\\DA-Projects\\da_projects\\Lib\\site-packages\\tqdm\\auto.py:21: TqdmWarning:\n",
      "\n",
      "IProgress not found. Please update jupyter and ipywidgets. See https://ipywidgets.readthedocs.io/en/stable/user_install.html\n",
      "\n",
      "08:51:08 - cmdstanpy - INFO - Chain [1] start processing\n",
      "08:51:08 - cmdstanpy - INFO - Chain [1] done processing\n",
      "d:\\WorkSpace\\DataAnalyst\\DA-Projects\\da_projects\\Lib\\site-packages\\prophet\\forecaster.py:1854: FutureWarning:\n",
      "\n",
      "'Y' is deprecated and will be removed in a future version, please use 'YE' instead.\n",
      "\n"
     ]
    },
    {
     "data": {
      "application/vnd.plotly.v1+json": {
       "config": {
        "plotlyServerURL": "https://plot.ly"
       },
       "data": [
        {
         "marker": {
          "color": "black",
          "size": 4
         },
         "mode": "markers",
         "name": "Actual",
         "type": "scatter",
         "x": [
          "1901-01-01T00:00:00.000000000",
          "1902-01-01T00:00:00.000000000",
          "1903-01-01T00:00:00.000000000",
          "1904-01-01T00:00:00.000000000",
          "1905-01-01T00:00:00.000000000",
          "1906-01-01T00:00:00.000000000",
          "1907-01-01T00:00:00.000000000",
          "1908-01-01T00:00:00.000000000",
          "1909-01-01T00:00:00.000000000",
          "1910-01-01T00:00:00.000000000",
          "1911-01-01T00:00:00.000000000",
          "1912-01-01T00:00:00.000000000",
          "1913-01-01T00:00:00.000000000",
          "1914-01-01T00:00:00.000000000",
          "1915-01-01T00:00:00.000000000",
          "1916-01-01T00:00:00.000000000",
          "1917-01-01T00:00:00.000000000",
          "1918-01-01T00:00:00.000000000",
          "1919-01-01T00:00:00.000000000",
          "1920-01-01T00:00:00.000000000",
          "1921-01-01T00:00:00.000000000",
          "1922-01-01T00:00:00.000000000",
          "1923-01-01T00:00:00.000000000",
          "1924-01-01T00:00:00.000000000",
          "1925-01-01T00:00:00.000000000",
          "1926-01-01T00:00:00.000000000",
          "1927-01-01T00:00:00.000000000",
          "1928-01-01T00:00:00.000000000",
          "1929-01-01T00:00:00.000000000",
          "1930-01-01T00:00:00.000000000",
          "1931-01-01T00:00:00.000000000",
          "1932-01-01T00:00:00.000000000",
          "1933-01-01T00:00:00.000000000",
          "1934-01-01T00:00:00.000000000",
          "1935-01-01T00:00:00.000000000",
          "1936-01-01T00:00:00.000000000",
          "1937-01-01T00:00:00.000000000",
          "1938-01-01T00:00:00.000000000",
          "1939-01-01T00:00:00.000000000",
          "1940-01-01T00:00:00.000000000",
          "1941-01-01T00:00:00.000000000",
          "1942-01-01T00:00:00.000000000",
          "1943-01-01T00:00:00.000000000",
          "1944-01-01T00:00:00.000000000",
          "1945-01-01T00:00:00.000000000",
          "1946-01-01T00:00:00.000000000",
          "1947-01-01T00:00:00.000000000",
          "1948-01-01T00:00:00.000000000",
          "1949-01-01T00:00:00.000000000",
          "1950-01-01T00:00:00.000000000",
          "1951-01-01T00:00:00.000000000",
          "1952-01-01T00:00:00.000000000",
          "1953-01-01T00:00:00.000000000",
          "1954-01-01T00:00:00.000000000",
          "1955-01-01T00:00:00.000000000",
          "1956-01-01T00:00:00.000000000",
          "1957-01-01T00:00:00.000000000",
          "1958-01-01T00:00:00.000000000",
          "1959-01-01T00:00:00.000000000",
          "1960-01-01T00:00:00.000000000",
          "1961-01-01T00:00:00.000000000",
          "1962-01-01T00:00:00.000000000",
          "1963-01-01T00:00:00.000000000",
          "1964-01-01T00:00:00.000000000",
          "1965-01-01T00:00:00.000000000",
          "1966-01-01T00:00:00.000000000",
          "1967-01-01T00:00:00.000000000",
          "1968-01-01T00:00:00.000000000",
          "1969-01-01T00:00:00.000000000",
          "1970-01-01T00:00:00.000000000",
          "1971-01-01T00:00:00.000000000",
          "1972-01-01T00:00:00.000000000",
          "1973-01-01T00:00:00.000000000",
          "1974-01-01T00:00:00.000000000",
          "1975-01-01T00:00:00.000000000",
          "1976-01-01T00:00:00.000000000",
          "1977-01-01T00:00:00.000000000",
          "1978-01-01T00:00:00.000000000",
          "1979-01-01T00:00:00.000000000",
          "1980-01-01T00:00:00.000000000",
          "1981-01-01T00:00:00.000000000",
          "1982-01-01T00:00:00.000000000",
          "1983-01-01T00:00:00.000000000",
          "1984-01-01T00:00:00.000000000",
          "1985-01-01T00:00:00.000000000",
          "1986-01-01T00:00:00.000000000",
          "1987-01-01T00:00:00.000000000",
          "1988-01-01T00:00:00.000000000",
          "1989-01-01T00:00:00.000000000",
          "1990-01-01T00:00:00.000000000",
          "1991-01-01T00:00:00.000000000",
          "1992-01-01T00:00:00.000000000",
          "1993-01-01T00:00:00.000000000",
          "1994-01-01T00:00:00.000000000",
          "1995-01-01T00:00:00.000000000",
          "1996-01-01T00:00:00.000000000",
          "1997-01-01T00:00:00.000000000",
          "1998-01-01T00:00:00.000000000",
          "1999-01-01T00:00:00.000000000",
          "2000-01-01T00:00:00.000000000",
          "2001-01-01T00:00:00.000000000",
          "2002-01-01T00:00:00.000000000",
          "2003-01-01T00:00:00.000000000",
          "2004-01-01T00:00:00.000000000",
          "2005-01-01T00:00:00.000000000",
          "2006-01-01T00:00:00.000000000",
          "2007-01-01T00:00:00.000000000",
          "2008-01-01T00:00:00.000000000",
          "2009-01-01T00:00:00.000000000",
          "2010-01-01T00:00:00.000000000",
          "2011-01-01T00:00:00.000000000",
          "2012-01-01T00:00:00.000000000",
          "2013-01-01T00:00:00.000000000",
          "2014-01-01T00:00:00.000000000",
          "2015-01-01T00:00:00.000000000"
         ],
         "y": {
          "bdata": "MzMzMzMhkEDNzMzMzBiQQAAAAAAAmpJAZmZmZmbej0BmZmZmZnqOQGZmZmZm4JFAzczMzMw+kEBmZmZmZiKRQGZmZmZmGJJAMzMzMzPBkkAAAAAAAF6QQGZmZmZm2JBAmpmZmZmzkEAzMzMzM/mSQM3MzMzMxJFAZmZmZmbklEAzMzMzMyGXQM3MzMzMCJBAmpmZmZlzlECamZmZmV+QQM3MzMzMYJNAmpmZmZnvkkAzMzMzM2GSQDMzMzMz0ZNAmpmZmZnpkkAzMzMzM3uTQGZmZmZmupNAmpmZmZkJk0AAAAAAAOKSQJqZmZmZ5ZJAZmZmZmaKlECamZmZmQuTQAAAAAAAxpVAZmZmZmYuk0CamZmZmd2RQM3MzMzM9pRAZmZmZmYIk0DNzMzMzGqUQJqZmZmZl5FAZmZmZmb6kkCamZmZmeOQQM3MzMzMMpRAZmZmZmYIlEBmZmZmZpyUQDMzMzMzJ5NAZmZmZmbSlEBmZmZmZlKTQJqZmZmZ95RAmpmZmZnhk0AAAAAAAFKSQDMzMzMzlZBAzczMzMxQkUCamZmZmRuTQDMzMzMzcZJAMzMzMzNJlEDNzMzMzKiVQM3MzMzMaJJAAAAAAADMlEBmZmZmZpiVQAAAAAAA9JFAAAAAAADslUCamZmZmbGSQM3MzMzM6JJAZmZmZmZMk0AzMzMzM1ONQAAAAAAAoJBAMzMzMzPxkUDNzMzMzHiQQM3MzMzM7pFAAAAAAAB8k0AAAAAAAAiTQAAAAAAApI1AAAAAAAD4kkDNzMzMzE6QQM3MzMzMKJRAMzMzMzOTkUCamZmZmdmTQDMzMzMzXZNAMzMzMzP7j0AAAAAAAJaSQGZmZmZmTpJAMzMzMzP7kEAAAAAAAM6UQJqZmZmZD5JAAAAAAADQkUBmZmZmZpqRQJqZmZmZ25BAAAAAAAAclUCamZmZmYmRQGZmZmZm4pVAmpmZmZkfkkAzMzMzM4WRQJqZmZmZx5JAZmZmZmY+lEBmZmZmZm6TQDMzMzMzd5JAmpmZmZlNkkAAAAAAAG6TQAAAAAAAsJFAmpmZmZlpkEAzMzMzM+2QQGZmZmZmxoxAAAAAAABakkAzMzMzM72QQAAAAAAAQpNAmpmZmZm9kkBmZmZmZv6SQGZmZmZmsJFAZmZmZmb6jUAAAAAAAMKSQGZmZmZmWJFAAAAAAADGkEDNzMzMzACTQM3MzMzMJpBAzczMzMwUkUA=",
          "dtype": "f8"
         }
        },
        {
         "hoverinfo": "skip",
         "line": {
          "width": 0
         },
         "mode": "lines",
         "type": "scatter",
         "x": [
          "1901-01-01T00:00:00.000000000",
          "1902-01-01T00:00:00.000000000",
          "1903-01-01T00:00:00.000000000",
          "1904-01-01T00:00:00.000000000",
          "1905-01-01T00:00:00.000000000",
          "1906-01-01T00:00:00.000000000",
          "1907-01-01T00:00:00.000000000",
          "1908-01-01T00:00:00.000000000",
          "1909-01-01T00:00:00.000000000",
          "1910-01-01T00:00:00.000000000",
          "1911-01-01T00:00:00.000000000",
          "1912-01-01T00:00:00.000000000",
          "1913-01-01T00:00:00.000000000",
          "1914-01-01T00:00:00.000000000",
          "1915-01-01T00:00:00.000000000",
          "1916-01-01T00:00:00.000000000",
          "1917-01-01T00:00:00.000000000",
          "1918-01-01T00:00:00.000000000",
          "1919-01-01T00:00:00.000000000",
          "1920-01-01T00:00:00.000000000",
          "1921-01-01T00:00:00.000000000",
          "1922-01-01T00:00:00.000000000",
          "1923-01-01T00:00:00.000000000",
          "1924-01-01T00:00:00.000000000",
          "1925-01-01T00:00:00.000000000",
          "1926-01-01T00:00:00.000000000",
          "1927-01-01T00:00:00.000000000",
          "1928-01-01T00:00:00.000000000",
          "1929-01-01T00:00:00.000000000",
          "1930-01-01T00:00:00.000000000",
          "1931-01-01T00:00:00.000000000",
          "1932-01-01T00:00:00.000000000",
          "1933-01-01T00:00:00.000000000",
          "1934-01-01T00:00:00.000000000",
          "1935-01-01T00:00:00.000000000",
          "1936-01-01T00:00:00.000000000",
          "1937-01-01T00:00:00.000000000",
          "1938-01-01T00:00:00.000000000",
          "1939-01-01T00:00:00.000000000",
          "1940-01-01T00:00:00.000000000",
          "1941-01-01T00:00:00.000000000",
          "1942-01-01T00:00:00.000000000",
          "1943-01-01T00:00:00.000000000",
          "1944-01-01T00:00:00.000000000",
          "1945-01-01T00:00:00.000000000",
          "1946-01-01T00:00:00.000000000",
          "1947-01-01T00:00:00.000000000",
          "1948-01-01T00:00:00.000000000",
          "1949-01-01T00:00:00.000000000",
          "1950-01-01T00:00:00.000000000",
          "1951-01-01T00:00:00.000000000",
          "1952-01-01T00:00:00.000000000",
          "1953-01-01T00:00:00.000000000",
          "1954-01-01T00:00:00.000000000",
          "1955-01-01T00:00:00.000000000",
          "1956-01-01T00:00:00.000000000",
          "1957-01-01T00:00:00.000000000",
          "1958-01-01T00:00:00.000000000",
          "1959-01-01T00:00:00.000000000",
          "1960-01-01T00:00:00.000000000",
          "1961-01-01T00:00:00.000000000",
          "1962-01-01T00:00:00.000000000",
          "1963-01-01T00:00:00.000000000",
          "1964-01-01T00:00:00.000000000",
          "1965-01-01T00:00:00.000000000",
          "1966-01-01T00:00:00.000000000",
          "1967-01-01T00:00:00.000000000",
          "1968-01-01T00:00:00.000000000",
          "1969-01-01T00:00:00.000000000",
          "1970-01-01T00:00:00.000000000",
          "1971-01-01T00:00:00.000000000",
          "1972-01-01T00:00:00.000000000",
          "1973-01-01T00:00:00.000000000",
          "1974-01-01T00:00:00.000000000",
          "1975-01-01T00:00:00.000000000",
          "1976-01-01T00:00:00.000000000",
          "1977-01-01T00:00:00.000000000",
          "1978-01-01T00:00:00.000000000",
          "1979-01-01T00:00:00.000000000",
          "1980-01-01T00:00:00.000000000",
          "1981-01-01T00:00:00.000000000",
          "1982-01-01T00:00:00.000000000",
          "1983-01-01T00:00:00.000000000",
          "1984-01-01T00:00:00.000000000",
          "1985-01-01T00:00:00.000000000",
          "1986-01-01T00:00:00.000000000",
          "1987-01-01T00:00:00.000000000",
          "1988-01-01T00:00:00.000000000",
          "1989-01-01T00:00:00.000000000",
          "1990-01-01T00:00:00.000000000",
          "1991-01-01T00:00:00.000000000",
          "1992-01-01T00:00:00.000000000",
          "1993-01-01T00:00:00.000000000",
          "1994-01-01T00:00:00.000000000",
          "1995-01-01T00:00:00.000000000",
          "1996-01-01T00:00:00.000000000",
          "1997-01-01T00:00:00.000000000",
          "1998-01-01T00:00:00.000000000",
          "1999-01-01T00:00:00.000000000",
          "2000-01-01T00:00:00.000000000",
          "2001-01-01T00:00:00.000000000",
          "2002-01-01T00:00:00.000000000",
          "2003-01-01T00:00:00.000000000",
          "2004-01-01T00:00:00.000000000",
          "2005-01-01T00:00:00.000000000",
          "2006-01-01T00:00:00.000000000",
          "2007-01-01T00:00:00.000000000",
          "2008-01-01T00:00:00.000000000",
          "2009-01-01T00:00:00.000000000",
          "2010-01-01T00:00:00.000000000",
          "2011-01-01T00:00:00.000000000",
          "2012-01-01T00:00:00.000000000",
          "2013-01-01T00:00:00.000000000",
          "2014-01-01T00:00:00.000000000",
          "2015-01-01T00:00:00.000000000",
          "2015-12-31T00:00:00.000000000",
          "2016-12-31T00:00:00.000000000",
          "2017-12-31T00:00:00.000000000",
          "2018-12-31T00:00:00.000000000",
          "2019-12-31T00:00:00.000000000",
          "2020-12-31T00:00:00.000000000",
          "2021-12-31T00:00:00.000000000",
          "2022-12-31T00:00:00.000000000",
          "2023-12-31T00:00:00.000000000",
          "2024-12-31T00:00:00.000000000",
          "2025-12-31T00:00:00.000000000",
          "2026-12-31T00:00:00.000000000",
          "2027-12-31T00:00:00.000000000",
          "2028-12-31T00:00:00.000000000",
          "2029-12-31T00:00:00.000000000",
          "2030-12-31T00:00:00.000000000",
          "2031-12-31T00:00:00.000000000",
          "2032-12-31T00:00:00.000000000",
          "2033-12-31T00:00:00.000000000",
          "2034-12-31T00:00:00.000000000"
         ],
         "y": {
          "bdata": "kd1qoQLaj0A7UvALc/uPQCBdUnNrio9ATs8Az1pvj0DxjA8fyxWQQN3Y2cxv+49ATln7AIUQkEAHMvGIq/WPQBGoGOLbKpBANn9QjsAmkEDiCLMF/BOQQBabnS3TKJBAWfyQYpookEDTu2f7GHGQQB8HDMgPT5BA4vKfwpdMkEBQwLyTWFyQQO+ADSJba5BAeToL9d9fkEAwQVIlloyQQPE5Gn3BlZBARu78RTuQkEBOdCjk26SQQJ/t4Q17T5BAJV9TMfa2kECL5iGH2ZeQQC0LMMKPnZBAGwhThOqikEDcV2T1Ae6QQP+/Vryp25BAlhrr+9jvkECAiY3XAMCQQFKDDgUMu5BA5nmB6LbgkECIxwSOq7uQQEevFUKg35BAZ0dTQkH5kEASLJfTDQ+RQJ0X4g+cAZFA1B7Iv3jgkEAxSRho5RORQHP9Y8b/DJFAYYYIgA7WkEARU1AKRAmRQIKWmL9BD5FA1sh7MwkIkUAu7qJ9FgCRQCpsj7Sm5pBA9hBn+dMJkUBUCthZo/uQQGYL//+L9ZBAM2UDehnBkECGGHVt7QaRQH1dy2OJ4ZBA2iVpS5irkECbfiyANreQQFgNeDcG6pBAWORPo932kEDkYNX688CQQFdPuKJZvJBAwwOk1G+2kED9slQVlMeQQEEQHEkC9ZBA8BHlPOiSkEAjzwqb5siQQOx/zssgvZBAemOf3W7FkEBdqFUz5YOQQHachGV2oZBAFyfPytSekEBeSkFsqYWQQGFVNI/+kpBAT4Vrul+WkEBj6cRwfaSQQJ80ebqCbJBADvoCgdRfkEDOP8d/E4GQQO0QrjfliJBAejNwWWdPkECOsZiEFmOQQLM0dinzZ5BA3HofTS5ekECxMyAH5UmQQJ2/KYniQZBAsSgW8exHkEBbAN4ihkWQQG9+UrluRpBAnUopVyb1j0BNC6Dn1jOQQPnZPE+4SpBAHdaUc7M1kEADpsgcFiaQQI2PCfKtOZBAd3CmU9kgkECvgFj8VfKPQKcsSivBxo9AXgWOxpQMkEC8oWmGpSyQQECE7LNJ449A+SURVZeUj0B8bWAtDdqPQJQ1kAw9zY9ALk0C7vSNj0B6pE6+OIGPQJyX9nLT849ANA3qSrvMj0DKFg6DibuPQH0PVvV8nI9AYp64qv+Xj0D2NRTkzoaPQMcyccUbOY9AHjMBv8Jlj0AyaMK+RECPQKB5Hl0TbI9A/fCh118fj0BKrvTUP4COQOPWCQLL4I5AQgi8iozkjkBozUlBkHGOQAR8vOIRhI5AwooWjJDWjkCPDnUwz72OQHvP7kzUS45AdFt1EQcjjkCjtw2lcamOQIitq7aYNo5A+rApaMhyjkBboekhjASOQGbqtoC2Mo5Ai0dnOCpsjkAWf4VnHSOOQIP63pS7941AcZrfSXQZjkAZS90F+FiOQLya/VWV+Y1A",
          "dtype": "f8"
         }
        },
        {
         "fill": "tonexty",
         "fillcolor": "rgba(0, 114, 178, 0.2)",
         "line": {
          "color": "#0072B2",
          "width": 2
         },
         "mode": "lines",
         "name": "Predicted",
         "type": "scatter",
         "x": [
          "1901-01-01T00:00:00.000000000",
          "1902-01-01T00:00:00.000000000",
          "1903-01-01T00:00:00.000000000",
          "1904-01-01T00:00:00.000000000",
          "1905-01-01T00:00:00.000000000",
          "1906-01-01T00:00:00.000000000",
          "1907-01-01T00:00:00.000000000",
          "1908-01-01T00:00:00.000000000",
          "1909-01-01T00:00:00.000000000",
          "1910-01-01T00:00:00.000000000",
          "1911-01-01T00:00:00.000000000",
          "1912-01-01T00:00:00.000000000",
          "1913-01-01T00:00:00.000000000",
          "1914-01-01T00:00:00.000000000",
          "1915-01-01T00:00:00.000000000",
          "1916-01-01T00:00:00.000000000",
          "1917-01-01T00:00:00.000000000",
          "1918-01-01T00:00:00.000000000",
          "1919-01-01T00:00:00.000000000",
          "1920-01-01T00:00:00.000000000",
          "1921-01-01T00:00:00.000000000",
          "1922-01-01T00:00:00.000000000",
          "1923-01-01T00:00:00.000000000",
          "1924-01-01T00:00:00.000000000",
          "1925-01-01T00:00:00.000000000",
          "1926-01-01T00:00:00.000000000",
          "1927-01-01T00:00:00.000000000",
          "1928-01-01T00:00:00.000000000",
          "1929-01-01T00:00:00.000000000",
          "1930-01-01T00:00:00.000000000",
          "1931-01-01T00:00:00.000000000",
          "1932-01-01T00:00:00.000000000",
          "1933-01-01T00:00:00.000000000",
          "1934-01-01T00:00:00.000000000",
          "1935-01-01T00:00:00.000000000",
          "1936-01-01T00:00:00.000000000",
          "1937-01-01T00:00:00.000000000",
          "1938-01-01T00:00:00.000000000",
          "1939-01-01T00:00:00.000000000",
          "1940-01-01T00:00:00.000000000",
          "1941-01-01T00:00:00.000000000",
          "1942-01-01T00:00:00.000000000",
          "1943-01-01T00:00:00.000000000",
          "1944-01-01T00:00:00.000000000",
          "1945-01-01T00:00:00.000000000",
          "1946-01-01T00:00:00.000000000",
          "1947-01-01T00:00:00.000000000",
          "1948-01-01T00:00:00.000000000",
          "1949-01-01T00:00:00.000000000",
          "1950-01-01T00:00:00.000000000",
          "1951-01-01T00:00:00.000000000",
          "1952-01-01T00:00:00.000000000",
          "1953-01-01T00:00:00.000000000",
          "1954-01-01T00:00:00.000000000",
          "1955-01-01T00:00:00.000000000",
          "1956-01-01T00:00:00.000000000",
          "1957-01-01T00:00:00.000000000",
          "1958-01-01T00:00:00.000000000",
          "1959-01-01T00:00:00.000000000",
          "1960-01-01T00:00:00.000000000",
          "1961-01-01T00:00:00.000000000",
          "1962-01-01T00:00:00.000000000",
          "1963-01-01T00:00:00.000000000",
          "1964-01-01T00:00:00.000000000",
          "1965-01-01T00:00:00.000000000",
          "1966-01-01T00:00:00.000000000",
          "1967-01-01T00:00:00.000000000",
          "1968-01-01T00:00:00.000000000",
          "1969-01-01T00:00:00.000000000",
          "1970-01-01T00:00:00.000000000",
          "1971-01-01T00:00:00.000000000",
          "1972-01-01T00:00:00.000000000",
          "1973-01-01T00:00:00.000000000",
          "1974-01-01T00:00:00.000000000",
          "1975-01-01T00:00:00.000000000",
          "1976-01-01T00:00:00.000000000",
          "1977-01-01T00:00:00.000000000",
          "1978-01-01T00:00:00.000000000",
          "1979-01-01T00:00:00.000000000",
          "1980-01-01T00:00:00.000000000",
          "1981-01-01T00:00:00.000000000",
          "1982-01-01T00:00:00.000000000",
          "1983-01-01T00:00:00.000000000",
          "1984-01-01T00:00:00.000000000",
          "1985-01-01T00:00:00.000000000",
          "1986-01-01T00:00:00.000000000",
          "1987-01-01T00:00:00.000000000",
          "1988-01-01T00:00:00.000000000",
          "1989-01-01T00:00:00.000000000",
          "1990-01-01T00:00:00.000000000",
          "1991-01-01T00:00:00.000000000",
          "1992-01-01T00:00:00.000000000",
          "1993-01-01T00:00:00.000000000",
          "1994-01-01T00:00:00.000000000",
          "1995-01-01T00:00:00.000000000",
          "1996-01-01T00:00:00.000000000",
          "1997-01-01T00:00:00.000000000",
          "1998-01-01T00:00:00.000000000",
          "1999-01-01T00:00:00.000000000",
          "2000-01-01T00:00:00.000000000",
          "2001-01-01T00:00:00.000000000",
          "2002-01-01T00:00:00.000000000",
          "2003-01-01T00:00:00.000000000",
          "2004-01-01T00:00:00.000000000",
          "2005-01-01T00:00:00.000000000",
          "2006-01-01T00:00:00.000000000",
          "2007-01-01T00:00:00.000000000",
          "2008-01-01T00:00:00.000000000",
          "2009-01-01T00:00:00.000000000",
          "2010-01-01T00:00:00.000000000",
          "2011-01-01T00:00:00.000000000",
          "2012-01-01T00:00:00.000000000",
          "2013-01-01T00:00:00.000000000",
          "2014-01-01T00:00:00.000000000",
          "2015-01-01T00:00:00.000000000",
          "2015-12-31T00:00:00.000000000",
          "2016-12-31T00:00:00.000000000",
          "2017-12-31T00:00:00.000000000",
          "2018-12-31T00:00:00.000000000",
          "2019-12-31T00:00:00.000000000",
          "2020-12-31T00:00:00.000000000",
          "2021-12-31T00:00:00.000000000",
          "2022-12-31T00:00:00.000000000",
          "2023-12-31T00:00:00.000000000",
          "2024-12-31T00:00:00.000000000",
          "2025-12-31T00:00:00.000000000",
          "2026-12-31T00:00:00.000000000",
          "2027-12-31T00:00:00.000000000",
          "2028-12-31T00:00:00.000000000",
          "2029-12-31T00:00:00.000000000",
          "2030-12-31T00:00:00.000000000",
          "2031-12-31T00:00:00.000000000",
          "2032-12-31T00:00:00.000000000",
          "2033-12-31T00:00:00.000000000",
          "2034-12-31T00:00:00.000000000"
         ],
         "y": {
          "bdata": "PlZlTGX3kUAQTeBQffKRQJ9UAilE7ZFApPSY8L3nkUBv6Q6JSReSQLv/lI1hEpJA9CXCZSgNkkC65mMtogeSQP/Z0sUtN5JAWNNGykUykkCl3mGiDC2SQD2D8WmGJ5JA6yc2AhJXkkDQ8H8GKlKSQLnKcN7wTJJAeT7WpWpHkkBFOho+9naSQLBaY0IOcpJAcItTGtVskkAGdQlnR2eSQN6oX3/LlpJA++f5CNyRkkAFODtmm4ySQBurx3D8hpJAqqTZOm+2kkAsbkqCbrGSQFUSqHP7q5JA1U96VDumkkBzo4/djNWSQNA2Rvtq0JJA1tqCFurKkkA5GDQhHMWSQEUUdMpf9JJAfKcJEjDvkkBWmK2S8OeSQPQhxgJk4JJAZmEx2OcNk0AAF7KmdQSTQHPd2Uiy+pJAND122qHwkkAJMM4NoBuTQLY4sIMwEJNAVFI5zW8Ek0BPBTcGYviSQOjWsnthIZNAIXbRBq8Tk0AkJpdlqwWTQN9v0bNa95JAZOqd0/Qbk0A/Ku8GIwyTQM165w0A/JJAHWVUBJDrkkAYk8TG3g6TQEa5f4TC/ZJA+u/hFVXskkBHwLiWmtqSQDZqCDPo/JJAzSmAfsvqkkA7+p6dXdiSQKyCG4eJxZJAZoOx7L3nkkCfYRITiNWSQJNQGg0Bw5JAHiRw9iywkkDcVN9bYdKSQC9+GYIrwJJARLj6e6StkkCK1RY20JqSQK4wK2wEvZJAuKMrY86qkkBMKuAtR5iSQFNKCehyhZJAULEqHqenkkASJzgVcZWSQMhk7N/pgpJA6TsVmhVwkkDNWTbQSZKSQNp9M8cTgJJAxLLXkYxtkkAbgfBLuFqSQOiKAYLsfJJAhnDleLZqkkDnZnBDL1iSQKT2b/1aRZJAW7BnM49nkkAbCm4qWVWSQO90G/XRQpJA8Hg9r/0vkkCuwFjlMVKSQEUbYNz7P5JAvoYOp3QtkkDNizFhoBqSQM6OGJfUPJJAV8nrjZ4qkkCsFGZYFxiSQKP5VBJDBZJAhvw7SHcnkkBANw8/QRWSQKKCiQm6ApJAKGd4w+XvkUBSal/5GRKSQOOkMvDj/5FANPCsulztkUCC1Zt0iNqRQP7Xgqq8/JFAAhNWoYbqkUBRXtBr/9eRQBlDvyUrxZFAOUamW1/nkUDBgHlSKdWRQBXM8xyiwpFA+bDi1s2vkUDAs8kMAtKRQEbunAPMv5FAODoXzkStkUCDaVZ3z2GRQD5sh2VTh5FAblJ7sfFzkUCDEO7LT2CRQOHXeShyTJFArtmqFvZxkUB0wJ5ilF6RQIp+EX3ySpFAe0Wd2RQ3kUAtSM7HmFyRQCcuwhM3SZFAZOw0LpU1kUC0s8CKtyGRQP618Xg7R5FAeJvlxNkzkUBkWljfNyCRQL8g5DtaDJFAOSMVKt4xkUDDCQl2fB6RQBvHe5DaCpFA",
          "dtype": "f8"
         }
        },
        {
         "fill": "tonexty",
         "fillcolor": "rgba(0, 114, 178, 0.2)",
         "hoverinfo": "skip",
         "line": {
          "width": 0
         },
         "mode": "lines",
         "type": "scatter",
         "x": [
          "1901-01-01T00:00:00.000000000",
          "1902-01-01T00:00:00.000000000",
          "1903-01-01T00:00:00.000000000",
          "1904-01-01T00:00:00.000000000",
          "1905-01-01T00:00:00.000000000",
          "1906-01-01T00:00:00.000000000",
          "1907-01-01T00:00:00.000000000",
          "1908-01-01T00:00:00.000000000",
          "1909-01-01T00:00:00.000000000",
          "1910-01-01T00:00:00.000000000",
          "1911-01-01T00:00:00.000000000",
          "1912-01-01T00:00:00.000000000",
          "1913-01-01T00:00:00.000000000",
          "1914-01-01T00:00:00.000000000",
          "1915-01-01T00:00:00.000000000",
          "1916-01-01T00:00:00.000000000",
          "1917-01-01T00:00:00.000000000",
          "1918-01-01T00:00:00.000000000",
          "1919-01-01T00:00:00.000000000",
          "1920-01-01T00:00:00.000000000",
          "1921-01-01T00:00:00.000000000",
          "1922-01-01T00:00:00.000000000",
          "1923-01-01T00:00:00.000000000",
          "1924-01-01T00:00:00.000000000",
          "1925-01-01T00:00:00.000000000",
          "1926-01-01T00:00:00.000000000",
          "1927-01-01T00:00:00.000000000",
          "1928-01-01T00:00:00.000000000",
          "1929-01-01T00:00:00.000000000",
          "1930-01-01T00:00:00.000000000",
          "1931-01-01T00:00:00.000000000",
          "1932-01-01T00:00:00.000000000",
          "1933-01-01T00:00:00.000000000",
          "1934-01-01T00:00:00.000000000",
          "1935-01-01T00:00:00.000000000",
          "1936-01-01T00:00:00.000000000",
          "1937-01-01T00:00:00.000000000",
          "1938-01-01T00:00:00.000000000",
          "1939-01-01T00:00:00.000000000",
          "1940-01-01T00:00:00.000000000",
          "1941-01-01T00:00:00.000000000",
          "1942-01-01T00:00:00.000000000",
          "1943-01-01T00:00:00.000000000",
          "1944-01-01T00:00:00.000000000",
          "1945-01-01T00:00:00.000000000",
          "1946-01-01T00:00:00.000000000",
          "1947-01-01T00:00:00.000000000",
          "1948-01-01T00:00:00.000000000",
          "1949-01-01T00:00:00.000000000",
          "1950-01-01T00:00:00.000000000",
          "1951-01-01T00:00:00.000000000",
          "1952-01-01T00:00:00.000000000",
          "1953-01-01T00:00:00.000000000",
          "1954-01-01T00:00:00.000000000",
          "1955-01-01T00:00:00.000000000",
          "1956-01-01T00:00:00.000000000",
          "1957-01-01T00:00:00.000000000",
          "1958-01-01T00:00:00.000000000",
          "1959-01-01T00:00:00.000000000",
          "1960-01-01T00:00:00.000000000",
          "1961-01-01T00:00:00.000000000",
          "1962-01-01T00:00:00.000000000",
          "1963-01-01T00:00:00.000000000",
          "1964-01-01T00:00:00.000000000",
          "1965-01-01T00:00:00.000000000",
          "1966-01-01T00:00:00.000000000",
          "1967-01-01T00:00:00.000000000",
          "1968-01-01T00:00:00.000000000",
          "1969-01-01T00:00:00.000000000",
          "1970-01-01T00:00:00.000000000",
          "1971-01-01T00:00:00.000000000",
          "1972-01-01T00:00:00.000000000",
          "1973-01-01T00:00:00.000000000",
          "1974-01-01T00:00:00.000000000",
          "1975-01-01T00:00:00.000000000",
          "1976-01-01T00:00:00.000000000",
          "1977-01-01T00:00:00.000000000",
          "1978-01-01T00:00:00.000000000",
          "1979-01-01T00:00:00.000000000",
          "1980-01-01T00:00:00.000000000",
          "1981-01-01T00:00:00.000000000",
          "1982-01-01T00:00:00.000000000",
          "1983-01-01T00:00:00.000000000",
          "1984-01-01T00:00:00.000000000",
          "1985-01-01T00:00:00.000000000",
          "1986-01-01T00:00:00.000000000",
          "1987-01-01T00:00:00.000000000",
          "1988-01-01T00:00:00.000000000",
          "1989-01-01T00:00:00.000000000",
          "1990-01-01T00:00:00.000000000",
          "1991-01-01T00:00:00.000000000",
          "1992-01-01T00:00:00.000000000",
          "1993-01-01T00:00:00.000000000",
          "1994-01-01T00:00:00.000000000",
          "1995-01-01T00:00:00.000000000",
          "1996-01-01T00:00:00.000000000",
          "1997-01-01T00:00:00.000000000",
          "1998-01-01T00:00:00.000000000",
          "1999-01-01T00:00:00.000000000",
          "2000-01-01T00:00:00.000000000",
          "2001-01-01T00:00:00.000000000",
          "2002-01-01T00:00:00.000000000",
          "2003-01-01T00:00:00.000000000",
          "2004-01-01T00:00:00.000000000",
          "2005-01-01T00:00:00.000000000",
          "2006-01-01T00:00:00.000000000",
          "2007-01-01T00:00:00.000000000",
          "2008-01-01T00:00:00.000000000",
          "2009-01-01T00:00:00.000000000",
          "2010-01-01T00:00:00.000000000",
          "2011-01-01T00:00:00.000000000",
          "2012-01-01T00:00:00.000000000",
          "2013-01-01T00:00:00.000000000",
          "2014-01-01T00:00:00.000000000",
          "2015-01-01T00:00:00.000000000",
          "2015-12-31T00:00:00.000000000",
          "2016-12-31T00:00:00.000000000",
          "2017-12-31T00:00:00.000000000",
          "2018-12-31T00:00:00.000000000",
          "2019-12-31T00:00:00.000000000",
          "2020-12-31T00:00:00.000000000",
          "2021-12-31T00:00:00.000000000",
          "2022-12-31T00:00:00.000000000",
          "2023-12-31T00:00:00.000000000",
          "2024-12-31T00:00:00.000000000",
          "2025-12-31T00:00:00.000000000",
          "2026-12-31T00:00:00.000000000",
          "2027-12-31T00:00:00.000000000",
          "2028-12-31T00:00:00.000000000",
          "2029-12-31T00:00:00.000000000",
          "2030-12-31T00:00:00.000000000",
          "2031-12-31T00:00:00.000000000",
          "2032-12-31T00:00:00.000000000",
          "2033-12-31T00:00:00.000000000",
          "2034-12-31T00:00:00.000000000"
         ],
         "y": {
          "bdata": "l1axepMLlECRoqe8ESCUQO4pvLSC1ZNAicOaSCrWk0A65Aq3TT+UQA5LBlSNEJRAo70cIhULlEDHkf1m4AaUQGOE5ALnIJRAhqcWyIAAlEDJmiT1DTCUQBFvZyFyapRA5agiPOF8lEAL6kOm/E2UQOtRj9blM5RAuvrZQ/JklED2+e+yhXWUQKiExHmrrJRA2Q0jUlxslEAcaXE/23KUQCGaqdc0lpRAENH+YtSWlEDJ8g5eV8CUQLecGjqma5RA6NsDad3DlEAtRoB+s56UQIMWITisq5RAefYC7cfFlEDktl7yAMCUQKWQYXdK/JRAknhjEjbrlEDrSdXql+GUQAwUKfkRApVAY0yV7XjulEDEZRzjEvqUQIHkGLeUwpRApJc3jAMClUADRNtRKgeVQNY6Fc0t6JRAWJaHMQkSlUCpffY82yOVQG/iJCwMEZVA9+JAmDk3lUC12HOd6f+UQIt2zMlYQpVA/CvgxNY5lUCdjzsAvz2VQMbOFzdMCZVAFSBCrE/3lEBHdBq32AqVQANWIymkAJVAgucdpMojlUB8/zA2uymVQFg3ynAeEZVAi/OuAJ4VlUAL+aFH6PiUQMJ1WhIDBZVAN+JQeaQJlUBFBFznjOmUQOIEXKhn1ZRADZBiwFjilEDkyIX5C82UQK9pbiN2upRAUHUKXayglEACEvVFo+eUQF70l8cx25RA1/0Nma7TlEAGTUzn2J6UQIJrhmLxsJRApYayo/+0lEDynwe7AKqUQMjINesWcJRA0L6wNA2olEBI0dz40YuUQDEmfOzBaZRA44JtZqRolEAag9RB6p6UQFLwK1XKqpRAYlJdGJhnlECLHps0XVeUQEJVgeuzcJRAxtbbbJBolECrFVYkdmCUQADy6zqdTJRASIbNP1iflEC+9km0ME+UQNex2SLfMZRANnZKAKZAlECrQ8YDFWOUQGFzH1IzbJRAUqHXYgEglECcYAuXsRKUQD/t0e/vRpRAs2/qX3cblEC4hKElr+aTQDY/Lztr/ZNAmzNdRvUklEC+DhrdlR6UQFt8rUOzHZRAJWXg3pPuk0DvTpcf/QOUQAHZ0oVbAJRAPScKpJYQlEBmwPrPXN6TQIB+8YMI+pNA9kn5vwb+k0Bw/l81+feTQPacHcBo5ZNANPYmiAMOlEBnAzpGJ+qTQDy8p+ZGs5NAjXsPQ1XTk0CFQ4ChpeeTQDOrCbEe6pNAOpMiEsG/k0CWRRcb11KTQHai0aJ0qZNAA4HGS7Obk0DeEmkiq4aTQGDtGf2XTpNAYnud3Ml6k0CkKjmT74GTQDuLuSJRSJNAvWGw810gk0C1R0dm9HaTQJjpEsW2V5NAfcrZeVldk0AL5LnNjzKTQFZmz5SXQ5NAev1YOP82k0Cn8tD3ijKTQKcEClbV/pJAaR7fms4yk0C9rph82zqTQFHkPG5ODJNA",
          "dtype": "f8"
         }
        }
       ],
       "layout": {
        "height": 500,
        "showlegend": false,
        "template": {
         "data": {
          "bar": [
           {
            "error_x": {
             "color": "#2a3f5f"
            },
            "error_y": {
             "color": "#2a3f5f"
            },
            "marker": {
             "line": {
              "color": "white",
              "width": 0.5
             },
             "pattern": {
              "fillmode": "overlay",
              "size": 10,
              "solidity": 0.2
             }
            },
            "type": "bar"
           }
          ],
          "barpolar": [
           {
            "marker": {
             "line": {
              "color": "white",
              "width": 0.5
             },
             "pattern": {
              "fillmode": "overlay",
              "size": 10,
              "solidity": 0.2
             }
            },
            "type": "barpolar"
           }
          ],
          "carpet": [
           {
            "aaxis": {
             "endlinecolor": "#2a3f5f",
             "gridcolor": "#C8D4E3",
             "linecolor": "#C8D4E3",
             "minorgridcolor": "#C8D4E3",
             "startlinecolor": "#2a3f5f"
            },
            "baxis": {
             "endlinecolor": "#2a3f5f",
             "gridcolor": "#C8D4E3",
             "linecolor": "#C8D4E3",
             "minorgridcolor": "#C8D4E3",
             "startlinecolor": "#2a3f5f"
            },
            "type": "carpet"
           }
          ],
          "choropleth": [
           {
            "colorbar": {
             "outlinewidth": 0,
             "ticks": ""
            },
            "type": "choropleth"
           }
          ],
          "contour": [
           {
            "colorbar": {
             "outlinewidth": 0,
             "ticks": ""
            },
            "colorscale": [
             [
              0,
              "#0d0887"
             ],
             [
              0.1111111111111111,
              "#46039f"
             ],
             [
              0.2222222222222222,
              "#7201a8"
             ],
             [
              0.3333333333333333,
              "#9c179e"
             ],
             [
              0.4444444444444444,
              "#bd3786"
             ],
             [
              0.5555555555555556,
              "#d8576b"
             ],
             [
              0.6666666666666666,
              "#ed7953"
             ],
             [
              0.7777777777777778,
              "#fb9f3a"
             ],
             [
              0.8888888888888888,
              "#fdca26"
             ],
             [
              1,
              "#f0f921"
             ]
            ],
            "type": "contour"
           }
          ],
          "contourcarpet": [
           {
            "colorbar": {
             "outlinewidth": 0,
             "ticks": ""
            },
            "type": "contourcarpet"
           }
          ],
          "heatmap": [
           {
            "colorbar": {
             "outlinewidth": 0,
             "ticks": ""
            },
            "colorscale": [
             [
              0,
              "#0d0887"
             ],
             [
              0.1111111111111111,
              "#46039f"
             ],
             [
              0.2222222222222222,
              "#7201a8"
             ],
             [
              0.3333333333333333,
              "#9c179e"
             ],
             [
              0.4444444444444444,
              "#bd3786"
             ],
             [
              0.5555555555555556,
              "#d8576b"
             ],
             [
              0.6666666666666666,
              "#ed7953"
             ],
             [
              0.7777777777777778,
              "#fb9f3a"
             ],
             [
              0.8888888888888888,
              "#fdca26"
             ],
             [
              1,
              "#f0f921"
             ]
            ],
            "type": "heatmap"
           }
          ],
          "histogram": [
           {
            "marker": {
             "pattern": {
              "fillmode": "overlay",
              "size": 10,
              "solidity": 0.2
             }
            },
            "type": "histogram"
           }
          ],
          "histogram2d": [
           {
            "colorbar": {
             "outlinewidth": 0,
             "ticks": ""
            },
            "colorscale": [
             [
              0,
              "#0d0887"
             ],
             [
              0.1111111111111111,
              "#46039f"
             ],
             [
              0.2222222222222222,
              "#7201a8"
             ],
             [
              0.3333333333333333,
              "#9c179e"
             ],
             [
              0.4444444444444444,
              "#bd3786"
             ],
             [
              0.5555555555555556,
              "#d8576b"
             ],
             [
              0.6666666666666666,
              "#ed7953"
             ],
             [
              0.7777777777777778,
              "#fb9f3a"
             ],
             [
              0.8888888888888888,
              "#fdca26"
             ],
             [
              1,
              "#f0f921"
             ]
            ],
            "type": "histogram2d"
           }
          ],
          "histogram2dcontour": [
           {
            "colorbar": {
             "outlinewidth": 0,
             "ticks": ""
            },
            "colorscale": [
             [
              0,
              "#0d0887"
             ],
             [
              0.1111111111111111,
              "#46039f"
             ],
             [
              0.2222222222222222,
              "#7201a8"
             ],
             [
              0.3333333333333333,
              "#9c179e"
             ],
             [
              0.4444444444444444,
              "#bd3786"
             ],
             [
              0.5555555555555556,
              "#d8576b"
             ],
             [
              0.6666666666666666,
              "#ed7953"
             ],
             [
              0.7777777777777778,
              "#fb9f3a"
             ],
             [
              0.8888888888888888,
              "#fdca26"
             ],
             [
              1,
              "#f0f921"
             ]
            ],
            "type": "histogram2dcontour"
           }
          ],
          "mesh3d": [
           {
            "colorbar": {
             "outlinewidth": 0,
             "ticks": ""
            },
            "type": "mesh3d"
           }
          ],
          "parcoords": [
           {
            "line": {
             "colorbar": {
              "outlinewidth": 0,
              "ticks": ""
             }
            },
            "type": "parcoords"
           }
          ],
          "pie": [
           {
            "automargin": true,
            "type": "pie"
           }
          ],
          "scatter": [
           {
            "fillpattern": {
             "fillmode": "overlay",
             "size": 10,
             "solidity": 0.2
            },
            "type": "scatter"
           }
          ],
          "scatter3d": [
           {
            "line": {
             "colorbar": {
              "outlinewidth": 0,
              "ticks": ""
             }
            },
            "marker": {
             "colorbar": {
              "outlinewidth": 0,
              "ticks": ""
             }
            },
            "type": "scatter3d"
           }
          ],
          "scattercarpet": [
           {
            "marker": {
             "colorbar": {
              "outlinewidth": 0,
              "ticks": ""
             }
            },
            "type": "scattercarpet"
           }
          ],
          "scattergeo": [
           {
            "marker": {
             "colorbar": {
              "outlinewidth": 0,
              "ticks": ""
             }
            },
            "type": "scattergeo"
           }
          ],
          "scattergl": [
           {
            "marker": {
             "colorbar": {
              "outlinewidth": 0,
              "ticks": ""
             }
            },
            "type": "scattergl"
           }
          ],
          "scattermap": [
           {
            "marker": {
             "colorbar": {
              "outlinewidth": 0,
              "ticks": ""
             }
            },
            "type": "scattermap"
           }
          ],
          "scattermapbox": [
           {
            "marker": {
             "colorbar": {
              "outlinewidth": 0,
              "ticks": ""
             }
            },
            "type": "scattermapbox"
           }
          ],
          "scatterpolar": [
           {
            "marker": {
             "colorbar": {
              "outlinewidth": 0,
              "ticks": ""
             }
            },
            "type": "scatterpolar"
           }
          ],
          "scatterpolargl": [
           {
            "marker": {
             "colorbar": {
              "outlinewidth": 0,
              "ticks": ""
             }
            },
            "type": "scatterpolargl"
           }
          ],
          "scatterternary": [
           {
            "marker": {
             "colorbar": {
              "outlinewidth": 0,
              "ticks": ""
             }
            },
            "type": "scatterternary"
           }
          ],
          "surface": [
           {
            "colorbar": {
             "outlinewidth": 0,
             "ticks": ""
            },
            "colorscale": [
             [
              0,
              "#0d0887"
             ],
             [
              0.1111111111111111,
              "#46039f"
             ],
             [
              0.2222222222222222,
              "#7201a8"
             ],
             [
              0.3333333333333333,
              "#9c179e"
             ],
             [
              0.4444444444444444,
              "#bd3786"
             ],
             [
              0.5555555555555556,
              "#d8576b"
             ],
             [
              0.6666666666666666,
              "#ed7953"
             ],
             [
              0.7777777777777778,
              "#fb9f3a"
             ],
             [
              0.8888888888888888,
              "#fdca26"
             ],
             [
              1,
              "#f0f921"
             ]
            ],
            "type": "surface"
           }
          ],
          "table": [
           {
            "cells": {
             "fill": {
              "color": "#EBF0F8"
             },
             "line": {
              "color": "white"
             }
            },
            "header": {
             "fill": {
              "color": "#C8D4E3"
             },
             "line": {
              "color": "white"
             }
            },
            "type": "table"
           }
          ]
         },
         "layout": {
          "annotationdefaults": {
           "arrowcolor": "#2a3f5f",
           "arrowhead": 0,
           "arrowwidth": 1
          },
          "autotypenumbers": "strict",
          "coloraxis": {
           "colorbar": {
            "outlinewidth": 0,
            "ticks": ""
           }
          },
          "colorscale": {
           "diverging": [
            [
             0,
             "#8e0152"
            ],
            [
             0.1,
             "#c51b7d"
            ],
            [
             0.2,
             "#de77ae"
            ],
            [
             0.3,
             "#f1b6da"
            ],
            [
             0.4,
             "#fde0ef"
            ],
            [
             0.5,
             "#f7f7f7"
            ],
            [
             0.6,
             "#e6f5d0"
            ],
            [
             0.7,
             "#b8e186"
            ],
            [
             0.8,
             "#7fbc41"
            ],
            [
             0.9,
             "#4d9221"
            ],
            [
             1,
             "#276419"
            ]
           ],
           "sequential": [
            [
             0,
             "#0d0887"
            ],
            [
             0.1111111111111111,
             "#46039f"
            ],
            [
             0.2222222222222222,
             "#7201a8"
            ],
            [
             0.3333333333333333,
             "#9c179e"
            ],
            [
             0.4444444444444444,
             "#bd3786"
            ],
            [
             0.5555555555555556,
             "#d8576b"
            ],
            [
             0.6666666666666666,
             "#ed7953"
            ],
            [
             0.7777777777777778,
             "#fb9f3a"
            ],
            [
             0.8888888888888888,
             "#fdca26"
            ],
            [
             1,
             "#f0f921"
            ]
           ],
           "sequentialminus": [
            [
             0,
             "#0d0887"
            ],
            [
             0.1111111111111111,
             "#46039f"
            ],
            [
             0.2222222222222222,
             "#7201a8"
            ],
            [
             0.3333333333333333,
             "#9c179e"
            ],
            [
             0.4444444444444444,
             "#bd3786"
            ],
            [
             0.5555555555555556,
             "#d8576b"
            ],
            [
             0.6666666666666666,
             "#ed7953"
            ],
            [
             0.7777777777777778,
             "#fb9f3a"
            ],
            [
             0.8888888888888888,
             "#fdca26"
            ],
            [
             1,
             "#f0f921"
            ]
           ]
          },
          "colorway": [
           "#636efa",
           "#EF553B",
           "#00cc96",
           "#ab63fa",
           "#FFA15A",
           "#19d3f3",
           "#FF6692",
           "#B6E880",
           "#FF97FF",
           "#FECB52"
          ],
          "font": {
           "color": "#2a3f5f"
          },
          "geo": {
           "bgcolor": "white",
           "lakecolor": "white",
           "landcolor": "white",
           "showlakes": true,
           "showland": true,
           "subunitcolor": "#C8D4E3"
          },
          "hoverlabel": {
           "align": "left"
          },
          "hovermode": "closest",
          "mapbox": {
           "style": "light"
          },
          "paper_bgcolor": "white",
          "plot_bgcolor": "white",
          "polar": {
           "angularaxis": {
            "gridcolor": "#EBF0F8",
            "linecolor": "#EBF0F8",
            "ticks": ""
           },
           "bgcolor": "white",
           "radialaxis": {
            "gridcolor": "#EBF0F8",
            "linecolor": "#EBF0F8",
            "ticks": ""
           }
          },
          "scene": {
           "xaxis": {
            "backgroundcolor": "white",
            "gridcolor": "#DFE8F3",
            "gridwidth": 2,
            "linecolor": "#EBF0F8",
            "showbackground": true,
            "ticks": "",
            "zerolinecolor": "#EBF0F8"
           },
           "yaxis": {
            "backgroundcolor": "white",
            "gridcolor": "#DFE8F3",
            "gridwidth": 2,
            "linecolor": "#EBF0F8",
            "showbackground": true,
            "ticks": "",
            "zerolinecolor": "#EBF0F8"
           },
           "zaxis": {
            "backgroundcolor": "white",
            "gridcolor": "#DFE8F3",
            "gridwidth": 2,
            "linecolor": "#EBF0F8",
            "showbackground": true,
            "ticks": "",
            "zerolinecolor": "#EBF0F8"
           }
          },
          "shapedefaults": {
           "line": {
            "color": "#2a3f5f"
           }
          },
          "ternary": {
           "aaxis": {
            "gridcolor": "#DFE8F3",
            "linecolor": "#A2B1C6",
            "ticks": ""
           },
           "baxis": {
            "gridcolor": "#DFE8F3",
            "linecolor": "#A2B1C6",
            "ticks": ""
           },
           "bgcolor": "white",
           "caxis": {
            "gridcolor": "#DFE8F3",
            "linecolor": "#A2B1C6",
            "ticks": ""
           }
          },
          "title": {
           "x": 0.05
          },
          "xaxis": {
           "automargin": true,
           "gridcolor": "#EBF0F8",
           "linecolor": "#EBF0F8",
           "ticks": "",
           "title": {
            "standoff": 15
           },
           "zerolinecolor": "#EBF0F8",
           "zerolinewidth": 2
          },
          "yaxis": {
           "automargin": true,
           "gridcolor": "#EBF0F8",
           "linecolor": "#EBF0F8",
           "ticks": "",
           "title": {
            "standoff": 15
           },
           "zerolinecolor": "#EBF0F8",
           "zerolinewidth": 2
          }
         }
        },
        "title": {
         "text": "Annual Rainfall Forecast Using Prophet"
        },
        "width": 900,
        "xaxis": {
         "rangeselector": {
          "buttons": [
           {
            "count": 7,
            "label": "1w",
            "step": "day",
            "stepmode": "backward"
           },
           {
            "count": 1,
            "label": "1m",
            "step": "month",
            "stepmode": "backward"
           },
           {
            "count": 6,
            "label": "6m",
            "step": "month",
            "stepmode": "backward"
           },
           {
            "count": 1,
            "label": "1y",
            "step": "year",
            "stepmode": "backward"
           },
           {
            "step": "all"
           }
          ]
         },
         "rangeslider": {
          "visible": true
         },
         "title": {
          "text": "Year"
         },
         "type": "date"
        },
        "yaxis": {
         "title": {
          "text": "Rainfall (mm)"
         }
        }
       }
      }
     },
     "metadata": {},
     "output_type": "display_data"
    }
   ],
   "source": [
    "rainfall_data['DATE'] = pd.to_datetime(rainfall_data['YEAR'], format='%Y')\n",
    "annual_rainfall_ts = rainfall_data.set_index('DATE')['ANNUAL']\n",
    "\n",
    "from prophet import Prophet\n",
    "# Prepare the data for Prophet\n",
    "prophet_data = annual_rainfall_ts.reset_index()\n",
    "prophet_data.columns = ['ds', 'y']\n",
    "\n",
    "from prophet.plot import plot_plotly, plot_components_plotly\n",
    "\n",
    "prophet_model = Prophet()\n",
    "prophet_model.fit(prophet_data)\n",
    "\n",
    "# create a future dataframe for the next 20 years\n",
    "future = prophet_model.make_future_dataframe(periods=20, freq='Y')\n",
    "forecast = prophet_model.predict(future)\n",
    "\n",
    "fig_forecast = plot_plotly(prophet_model, forecast)\n",
    "\n",
    "fig_forecast.update_layout(\n",
    "    title='Annual Rainfall Forecast Using Prophet',\n",
    "    xaxis_title='Year',\n",
    "    yaxis_title='Rainfall (mm)',\n",
    "    template='plotly_white',\n",
    "    height=500\n",
    ")\n",
    "\n",
    "fig_forecast.show()"
   ]
  },
  {
   "cell_type": "markdown",
   "id": "b3784ef2",
   "metadata": {},
   "source": [
    "The blue line represents the model’s forecast trend, while the shaded area indicates the confidence interval. The trend reveals a slight decline in annual rainfall over time, with notable year-to-year variability (black dots representing actual data points). The model captures the variability well but highlights that future rainfall may continue to slightly decrease, which emphasizes the need for adaptive strategies to manage potential water resource challenges."
   ]
  },
  {
   "cell_type": "markdown",
   "id": "cbd94035",
   "metadata": {},
   "source": [
    "# Conclusion\n",
    "\n",
    "The analysis of India’s rainfall trends and patterns from 1901 to 2015 reveals significant variability in annual and seasonal rainfall, with the monsoon season (June-September) being the dominant contributor. Anomalous years of extreme drought and wetness highlight the unpredictability of rainfall, while clustering shows a shift towards more dry years in recent decades. Correlations indicate the limited dependency of non-monsoon seasons on monsoon rainfall. A time-series forecast using Prophet suggests a slight declining trend in annual rainfall, which emphasises the need for long-term water resource planning and adaptation to changing climate patterns."
   ]
  }
 ],
 "metadata": {
  "kernelspec": {
   "display_name": "Python 3",
   "language": "python",
   "name": "python3"
  },
  "language_info": {
   "codemirror_mode": {
    "name": "ipython",
    "version": 3
   },
   "file_extension": ".py",
   "mimetype": "text/x-python",
   "name": "python",
   "nbconvert_exporter": "python",
   "pygments_lexer": "ipython3",
   "version": "3.12.0"
  }
 },
 "nbformat": 4,
 "nbformat_minor": 5
}
